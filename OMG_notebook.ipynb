{
 "cells": [
  {
   "cell_type": "markdown",
   "metadata": {},
   "source": [
    "# Data generation for ART input"
   ]
  },
  {
   "cell_type": "markdown",
   "metadata": {},
   "source": [
    "Tested using biodesign_3.7 kernel on the jprime.lbl.gov server. It uses the cplex library for running the MOMA optimization"
   ]
  },
  {
   "cell_type": "markdown",
   "metadata": {},
   "source": [
    "# Content for the library"
   ]
  },
  {
   "cell_type": "markdown",
   "metadata": {},
   "source": [
    "## Setup"
   ]
  },
  {
   "cell_type": "markdown",
   "metadata": {},
   "source": [
    "We clone the omg library: \n",
    "git clone https://github.com/JBEI/OMG.git --branch omgforallhosts --single-branch"
   ]
  },
  {
   "cell_type": "code",
   "execution_count": 9,
   "metadata": {},
   "outputs": [],
   "source": [
    "import collections as col\n",
    "import os\n",
    "import random\n",
    "import re\n",
    "import sys\n",
    "import cobra\n",
    "import numpy as np\n",
    "import pandas as pd\n",
    "from matplotlib import pyplot as plt"
   ]
  },
  {
   "cell_type": "code",
   "execution_count": 10,
   "metadata": {},
   "outputs": [],
   "source": [
    "sys.path.insert(1, '../OMG')\n",
    "import omg"
   ]
  },
  {
   "cell_type": "markdown",
   "metadata": {},
   "source": [
    "## Global parameters"
   ]
  },
  {
   "cell_type": "markdown",
   "metadata": {},
   "source": [
    "## User parameters"
   ]
  },
  {
   "cell_type": "code",
   "execution_count": 11,
   "metadata": {},
   "outputs": [],
   "source": [
    "user_params = {\n",
    "    'host': 'ecoli', # ecoli or ropacus\n",
    "    'modelfile': 'models/iJO1366_MVA.json',\n",
    "    'modelfilepath': 'sample_files',\n",
    "    'cerevisiae_modelfile': 'iMM904.json',\n",
    "    'timestart': 0.0,\n",
    "    'timestop': 8.0,\n",
    "    'numpoints': 9,\n",
    "    'designfile': 'training_data_8reactions.csv',\n",
    "    'designfilepath': 'data',\n",
    "    'mapping_file': 'mapping/inchikey_to_cid.txt',\n",
    "    'numreactions': 8,\n",
    "    'numinstances': 95,\n",
    "    'ext_metabolites': {\n",
    "        'glc__D_e': 22.203,\n",
    "        'nh4_e': 18.695,\n",
    "        'pi_e': 69.454,\n",
    "        'so4_e': 2.0,\n",
    "        'mg2_e': 2.0,\n",
    "        'k_e': 21.883,\n",
    "        'na1_e': 103.7,\n",
    "        'cl_e': 27.25,\n",
    "        'isoprenol_e': 0.0,\n",
    "        'ac_e': 0.0,\n",
    "        'for_e': 0.0,\n",
    "        'lac__D_e': 0.0,\n",
    "        'etoh_e': 0.0\n",
    "    },\n",
    "    'initial_OD': 0.01,\n",
    "    'BIOMASS_REACTION_ID': 'BIOMASS_Ec_iJO1366_core_53p95M'\n",
    "} "
   ]
  },
  {
   "cell_type": "markdown",
   "metadata": {},
   "source": [
    "-----"
   ]
  },
  {
   "cell_type": "markdown",
   "metadata": {},
   "source": [
    "# Content for the Jupyter Notebook"
   ]
  },
  {
   "cell_type": "markdown",
   "metadata": {},
   "source": [
    "-------"
   ]
  },
  {
   "cell_type": "markdown",
   "metadata": {},
   "source": [
    "Creating a visualization function:"
   ]
  },
  {
   "cell_type": "code",
   "execution_count": 12,
   "metadata": {},
   "outputs": [],
   "source": [
    "def plot_DO_extmets(od,ext_metabolites):\n",
    "    fig, ax = plt.subplots(figsize=(12,4), ncols=2, nrows=1)\n",
    "    od.plot(ax=ax[0], style='s-', title='Cell', label='dcw', legend=True)\n",
    "    ax[0].set_xlabel(\"Hour\")\n",
    "    ax[0].set_ylabel(\"Concentration (gDW/L)\")\n",
    "    ext_metabolites.plot(ax=ax[1], style='o-', title='External Metabolites')\n",
    "    ax[1].set_xlabel(\"Hour\")\n",
    "    ax[1].set_ylabel(\"Concentration (mM)\")"
   ]
  },
  {
   "cell_type": "markdown",
   "metadata": {},
   "source": [
    "## Using the OMG library functions for creating synthetic multiomics data"
   ]
  },
  {
   "cell_type": "markdown",
   "metadata": {},
   "source": [
    "### 1) Getting and preparing the metabolic model"
   ]
  },
  {
   "cell_type": "markdown",
   "metadata": {},
   "source": [
    "First we obtain the metabolic model:"
   ]
  },
  {
   "cell_type": "code",
   "execution_count": 13,
   "metadata": {},
   "outputs": [],
   "source": [
    "file_name = user_params['modelfile']\n",
    "model = cobra.io.load_json_model(file_name)"
   ]
  },
  {
   "cell_type": "markdown",
   "metadata": {},
   "source": [
    "### Check if isopentenol pathway present in model else add it to the model using the S. Cerevisiae model"
   ]
  },
  {
   "cell_type": "code",
   "execution_count": 14,
   "metadata": {},
   "outputs": [],
   "source": [
    "if not omg.model_has_IPP_pathway(model):\n",
    "    print(\"Isopentenol pathway is present in model\")\n",
    "    sce_filename = user_params['cerevisiae_modelfile']\n",
    "    try:\n",
    "        sce_model = cobra.io.load_json_model(sce_filename)\n",
    "    except IOError:\n",
    "        print(\"Could not read file:\", sce_filename)\n",
    "    else:\n",
    "        # add pathway to model\n",
    "        omg.add_isopentenol_pathway(model, sce_model)"
   ]
  },
  {
   "cell_type": "markdown",
   "metadata": {},
   "source": [
    "We now add minimum flux constraints for production of isopentenol and formate, and we limit oxygen intake:"
   ]
  },
  {
   "cell_type": "code",
   "execution_count": 15,
   "metadata": {},
   "outputs": [],
   "source": [
    "iso = 'EX_isoprenol_e'\n",
    "iso_cons = model.problem.Constraint(model.reactions.EX_isoprenol_e.flux_expression,lb = 0.20)\n",
    "model.add_cons_vars(iso_cons)\n",
    "for_cons = model.problem.Constraint(model.reactions.EX_for_e.flux_expression,lb = 0.10)\n",
    "model.add_cons_vars(for_cons)\n",
    "o2_cons = model.problem.Constraint(model.reactions.EX_o2_e.flux_expression,lb = -8.0)\n",
    "model.add_cons_vars(o2_cons)\n",
    "#lac_cons = model.problem.Constraint(model.reactions.EX_lac__D_e.flux_expression,ub = 0.0)\n",
    "#model.add_cons_vars(lac_cons)\n",
    "#etoh_cons = model.problem.Constraint(model.reactions.EX_etoh_e.flux_expression,ub = 0.0)\n",
    "#model.add_cons_vars(etoh_cons)"
   ]
  },
  {
   "cell_type": "markdown",
   "metadata": {},
   "source": [
    "And then we constrain several central carbon metabolism fluxes to more realistic upper and lower bounds:"
   ]
  },
  {
   "cell_type": "code",
   "execution_count": 17,
   "metadata": {},
   "outputs": [],
   "source": [
    "CC_rxn_names = ['ACCOAC','MDH','PTAr','CS','ACACT1r','PPC','PPCK','PFL']\n",
    "for reaction in CC_rxn_names:\n",
    "    reaction_constraint = model.problem.Constraint(model.reactions.get_by_id(reaction).flux_expression,lb = -1.0,ub =  1.0)\n",
    "    model.add_cons_vars(reaction_constraint)"
   ]
  },
  {
   "cell_type": "markdown",
   "metadata": {},
   "source": [
    "We also create a similar model with a higher production of isopentenol, which we will use with MOMA to simulate bioengineered strains:"
   ]
  },
  {
   "cell_type": "code",
   "execution_count": 18,
   "metadata": {},
   "outputs": [],
   "source": [
    "modelHI = model.copy()\n",
    "iso_cons = modelHI.problem.Constraint(modelHI.reactions.EX_isoprenol_e.flux_expression,lb = 0.25)\n",
    "modelHI.add_cons_vars(iso_cons)"
   ]
  },
  {
   "cell_type": "markdown",
   "metadata": {},
   "source": [
    "### 2) Obtaining times series (function A)"
   ]
  },
  {
   "cell_type": "markdown",
   "metadata": {},
   "source": [
    "Create first time grid for simulation:"
   ]
  },
  {
   "cell_type": "code",
   "execution_count": 19,
   "metadata": {},
   "outputs": [],
   "source": [
    "t0 = user_params['timestart']\n",
    "tf = user_params['timestop']\n",
    "points = user_params['numpoints']\n",
    "tspan, delt = np.linspace(t0, tf, points, dtype='float64', retstep=True)\n",
    "\n",
    "grid =(tspan, delt)"
   ]
  },
  {
   "cell_type": "markdown",
   "metadata": {},
   "source": [
    "We then use this model to obtain the times series for fluxes, OD and external metabolites:"
   ]
  },
  {
   "cell_type": "code",
   "execution_count": 20,
   "metadata": {},
   "outputs": [
    {
     "name": "stdout",
     "output_type": "stream",
     "text": [
      "0.0 optimal 0.5363612610171477\n",
      "1.0 optimal 0.5363612610171477\n",
      "2.0 optimal 0.5363612610171477\n",
      "3.0 optimal 0.5363612610171477\n",
      "4.0 optimal 0.5363612610171477\n",
      "5.0 optimal 0.5363612610171477\n",
      "6.0 optimal 0.5363612610171477\n",
      "7.0 optimal 0.5363612610171477\n",
      "8.0 optimal 0.5363612610171477\n"
     ]
    }
   ],
   "source": [
    "solution_TS, model_TS, cell, Emets, Erxn2Emet = \\\n",
    "    omg.get_flux_time_series(model, user_params['ext_metabolites'], grid, user_params)"
   ]
  },
  {
   "cell_type": "code",
   "execution_count": 21,
   "metadata": {},
   "outputs": [
    {
     "data": {
      "text/html": [
       "<div>\n",
       "<style scoped>\n",
       "    .dataframe tbody tr th:only-of-type {\n",
       "        vertical-align: middle;\n",
       "    }\n",
       "\n",
       "    .dataframe tbody tr th {\n",
       "        vertical-align: top;\n",
       "    }\n",
       "\n",
       "    .dataframe thead th {\n",
       "        text-align: right;\n",
       "    }\n",
       "</style>\n",
       "<table border=\"1\" class=\"dataframe\">\n",
       "  <thead>\n",
       "    <tr style=\"text-align: right;\">\n",
       "      <th></th>\n",
       "      <th>glc__D_e</th>\n",
       "      <th>nh4_e</th>\n",
       "      <th>pi_e</th>\n",
       "      <th>so4_e</th>\n",
       "      <th>mg2_e</th>\n",
       "      <th>k_e</th>\n",
       "      <th>na1_e</th>\n",
       "      <th>cl_e</th>\n",
       "      <th>isoprenol_e</th>\n",
       "      <th>ac_e</th>\n",
       "      <th>for_e</th>\n",
       "      <th>lac__D_e</th>\n",
       "      <th>etoh_e</th>\n",
       "    </tr>\n",
       "  </thead>\n",
       "  <tbody>\n",
       "    <tr>\n",
       "      <th>0.0</th>\n",
       "      <td>22.0707</td>\n",
       "      <td>18.6183</td>\n",
       "      <td>69.4472</td>\n",
       "      <td>1.99821</td>\n",
       "      <td>1.99994</td>\n",
       "      <td>21.8816</td>\n",
       "      <td>103.7</td>\n",
       "      <td>27.25</td>\n",
       "      <td>0.00264663</td>\n",
       "      <td>0.027405</td>\n",
       "      <td>0.00132331</td>\n",
       "      <td>0</td>\n",
       "      <td>0.102538</td>\n",
       "    </tr>\n",
       "    <tr>\n",
       "      <th>1.0</th>\n",
       "      <td>21.8444</td>\n",
       "      <td>18.4873</td>\n",
       "      <td>69.4354</td>\n",
       "      <td>1.99515</td>\n",
       "      <td>1.99983</td>\n",
       "      <td>21.8792</td>\n",
       "      <td>103.7</td>\n",
       "      <td>27.2499</td>\n",
       "      <td>0.00717176</td>\n",
       "      <td>0.0742613</td>\n",
       "      <td>0.00358588</td>\n",
       "      <td>0</td>\n",
       "      <td>0.277855</td>\n",
       "    </tr>\n",
       "    <tr>\n",
       "      <th>2.0</th>\n",
       "      <td>21.4576</td>\n",
       "      <td>18.2632</td>\n",
       "      <td>69.4154</td>\n",
       "      <td>1.98992</td>\n",
       "      <td>1.99965</td>\n",
       "      <td>21.8752</td>\n",
       "      <td>103.7</td>\n",
       "      <td>27.2498</td>\n",
       "      <td>0.0149087</td>\n",
       "      <td>0.154375</td>\n",
       "      <td>0.00745436</td>\n",
       "      <td>0</td>\n",
       "      <td>0.577608</td>\n",
       "    </tr>\n",
       "    <tr>\n",
       "      <th>3.0</th>\n",
       "      <td>20.7961</td>\n",
       "      <td>17.88</td>\n",
       "      <td>69.3812</td>\n",
       "      <td>1.98097</td>\n",
       "      <td>1.99935</td>\n",
       "      <td>21.8683</td>\n",
       "      <td>103.7</td>\n",
       "      <td>27.2496</td>\n",
       "      <td>0.0281372</td>\n",
       "      <td>0.291351</td>\n",
       "      <td>0.0140686</td>\n",
       "      <td>0</td>\n",
       "      <td>1.09012</td>\n",
       "    </tr>\n",
       "    <tr>\n",
       "      <th>4.0</th>\n",
       "      <td>19.6653</td>\n",
       "      <td>17.2248</td>\n",
       "      <td>69.3227</td>\n",
       "      <td>1.96567</td>\n",
       "      <td>1.99882</td>\n",
       "      <td>21.8564</td>\n",
       "      <td>103.7</td>\n",
       "      <td>27.2493</td>\n",
       "      <td>0.0507548</td>\n",
       "      <td>0.52555</td>\n",
       "      <td>0.0253774</td>\n",
       "      <td>0</td>\n",
       "      <td>1.96639</td>\n",
       "    </tr>\n",
       "    <tr>\n",
       "      <th>5.0</th>\n",
       "      <td>17.7317</td>\n",
       "      <td>16.1047</td>\n",
       "      <td>69.2227</td>\n",
       "      <td>1.93951</td>\n",
       "      <td>1.99792</td>\n",
       "      <td>21.8362</td>\n",
       "      <td>103.7</td>\n",
       "      <td>27.2488</td>\n",
       "      <td>0.0894259</td>\n",
       "      <td>0.925977</td>\n",
       "      <td>0.044713</td>\n",
       "      <td>0</td>\n",
       "      <td>3.46462</td>\n",
       "    </tr>\n",
       "    <tr>\n",
       "      <th>6.0</th>\n",
       "      <td>14.4258</td>\n",
       "      <td>14.1895</td>\n",
       "      <td>69.0516</td>\n",
       "      <td>1.89479</td>\n",
       "      <td>1.99638</td>\n",
       "      <td>21.8016</td>\n",
       "      <td>103.7</td>\n",
       "      <td>27.2478</td>\n",
       "      <td>0.155545</td>\n",
       "      <td>1.61062</td>\n",
       "      <td>0.0777724</td>\n",
       "      <td>0</td>\n",
       "      <td>6.02626</td>\n",
       "    </tr>\n",
       "    <tr>\n",
       "      <th>7.0</th>\n",
       "      <td>8.77335</td>\n",
       "      <td>10.915</td>\n",
       "      <td>68.7592</td>\n",
       "      <td>1.81833</td>\n",
       "      <td>1.99375</td>\n",
       "      <td>21.7424</td>\n",
       "      <td>103.7</td>\n",
       "      <td>27.2463</td>\n",
       "      <td>0.268593</td>\n",
       "      <td>2.7812</td>\n",
       "      <td>0.134297</td>\n",
       "      <td>0</td>\n",
       "      <td>10.4061</td>\n",
       "    </tr>\n",
       "    <tr>\n",
       "      <th>8.0</th>\n",
       "      <td>0</td>\n",
       "      <td>5.31631</td>\n",
       "      <td>68.2591</td>\n",
       "      <td>1.68759</td>\n",
       "      <td>1.98925</td>\n",
       "      <td>21.6412</td>\n",
       "      <td>103.7</td>\n",
       "      <td>27.2436</td>\n",
       "      <td>0.46188</td>\n",
       "      <td>4.78262</td>\n",
       "      <td>0.23094</td>\n",
       "      <td>0</td>\n",
       "      <td>17.8946</td>\n",
       "    </tr>\n",
       "    <tr>\n",
       "      <th>9.0</th>\n",
       "      <td>0</td>\n",
       "      <td>5.31631</td>\n",
       "      <td>68.2591</td>\n",
       "      <td>1.68759</td>\n",
       "      <td>1.98925</td>\n",
       "      <td>21.6412</td>\n",
       "      <td>103.7</td>\n",
       "      <td>27.2436</td>\n",
       "      <td>0.46188</td>\n",
       "      <td>4.78262</td>\n",
       "      <td>0.23094</td>\n",
       "      <td>0</td>\n",
       "      <td>17.8946</td>\n",
       "    </tr>\n",
       "  </tbody>\n",
       "</table>\n",
       "</div>"
      ],
      "text/plain": [
       "    glc__D_e    nh4_e     pi_e    so4_e    mg2_e      k_e  na1_e     cl_e  \\\n",
       "0.0  22.0707  18.6183  69.4472  1.99821  1.99994  21.8816  103.7    27.25   \n",
       "1.0  21.8444  18.4873  69.4354  1.99515  1.99983  21.8792  103.7  27.2499   \n",
       "2.0  21.4576  18.2632  69.4154  1.98992  1.99965  21.8752  103.7  27.2498   \n",
       "3.0  20.7961    17.88  69.3812  1.98097  1.99935  21.8683  103.7  27.2496   \n",
       "4.0  19.6653  17.2248  69.3227  1.96567  1.99882  21.8564  103.7  27.2493   \n",
       "5.0  17.7317  16.1047  69.2227  1.93951  1.99792  21.8362  103.7  27.2488   \n",
       "6.0  14.4258  14.1895  69.0516  1.89479  1.99638  21.8016  103.7  27.2478   \n",
       "7.0  8.77335   10.915  68.7592  1.81833  1.99375  21.7424  103.7  27.2463   \n",
       "8.0        0  5.31631  68.2591  1.68759  1.98925  21.6412  103.7  27.2436   \n",
       "9.0        0  5.31631  68.2591  1.68759  1.98925  21.6412  103.7  27.2436   \n",
       "\n",
       "    isoprenol_e       ac_e       for_e lac__D_e    etoh_e  \n",
       "0.0  0.00264663   0.027405  0.00132331        0  0.102538  \n",
       "1.0  0.00717176  0.0742613  0.00358588        0  0.277855  \n",
       "2.0   0.0149087   0.154375  0.00745436        0  0.577608  \n",
       "3.0   0.0281372   0.291351   0.0140686        0   1.09012  \n",
       "4.0   0.0507548    0.52555   0.0253774        0   1.96639  \n",
       "5.0   0.0894259   0.925977    0.044713        0   3.46462  \n",
       "6.0    0.155545    1.61062   0.0777724        0   6.02626  \n",
       "7.0    0.268593     2.7812    0.134297        0   10.4061  \n",
       "8.0     0.46188    4.78262     0.23094        0   17.8946  \n",
       "9.0     0.46188    4.78262     0.23094        0   17.8946  "
      ]
     },
     "execution_count": 21,
     "metadata": {},
     "output_type": "execute_result"
    }
   ],
   "source": [
    "Emets"
   ]
  },
  {
   "cell_type": "code",
   "execution_count": 22,
   "metadata": {},
   "outputs": [
    {
     "data": {
      "image/png": "[encoded data removed]",
      "text/plain": [
       "<Figure size 864x288 with 2 Axes>"
      ]
     },
     "metadata": {
      "needs_background": "light"
     },
     "output_type": "display_data"
    }
   ],
   "source": [
    "plot_DO_extmets(cell, Emets[['glc__D_e','isoprenol_e','ac_e','for_e','lac__D_e','etoh_e']])"
   ]
  },
  {
   "cell_type": "markdown",
   "metadata": {},
   "source": [
    "We can see that some of the internal fluxes are maxed out the upper bound we established above:"
   ]
  },
  {
   "cell_type": "code",
   "execution_count": 23,
   "metadata": {},
   "outputs": [
    {
     "name": "stdout",
     "output_type": "stream",
     "text": [
      "MDH: 1.0, 1.0, 1.0, 1.0, 1.0, 1.0, 1.0, 1.0, 1.0\n",
      "PTAr: 1.0, 1.0, 1.0, 1.0, 1.0, 1.0, 1.0, 1.0, 1.0\n",
      "CS: 1.0, 1.0, 1.0, 1.0, 1.0, 1.0, 1.0, 1.0, 1.0\n",
      "PPC: 1.0, 1.0, 1.0, 1.0, 1.0, 1.0, 1.0, 1.0, 1.0\n"
     ]
    }
   ],
   "source": [
    "for rxn in ['MDH','PTAr','CS','PPC']:\n",
    "    print(str(rxn)+\": \"+ ', '.join([str(solution_TS[i].fluxes['CS']) for i in range(len(solution_TS))]))"
   ]
  },
  {
   "cell_type": "markdown",
   "metadata": {},
   "source": [
    "We perform the same calculation for the model with higher isoprenol production that we created above:"
   ]
  },
  {
   "cell_type": "code",
   "execution_count": 24,
   "metadata": {},
   "outputs": [
    {
     "name": "stdout",
     "output_type": "stream",
     "text": [
      "0.0 optimal 0.5352266385352653\n",
      "1.0 optimal 0.5352266385352653\n",
      "2.0 optimal 0.5352266385352653\n",
      "3.0 optimal 0.5352266385352653\n",
      "4.0 optimal 0.5352266385352653\n",
      "5.0 optimal 0.5352266385352653\n",
      "6.0 optimal 0.5352266385352653\n",
      "7.0 optimal 0.5352266385352653\n",
      "8.0 optimal 0.5352266385352653\n"
     ]
    }
   ],
   "source": [
    "solutionHI_TS, modelHI_TS, cellHI, EmetsHI, Erxn2EmetHI = \\\n",
    "    omg.get_flux_time_series(modelHI, user_params['ext_metabolites'], grid, user_params)"
   ]
  },
  {
   "cell_type": "code",
   "execution_count": 25,
   "metadata": {},
   "outputs": [
    {
     "data": {
      "text/html": [
       "<div>\n",
       "<style scoped>\n",
       "    .dataframe tbody tr th:only-of-type {\n",
       "        vertical-align: middle;\n",
       "    }\n",
       "\n",
       "    .dataframe tbody tr th {\n",
       "        vertical-align: top;\n",
       "    }\n",
       "\n",
       "    .dataframe thead th {\n",
       "        text-align: right;\n",
       "    }\n",
       "</style>\n",
       "<table border=\"1\" class=\"dataframe\">\n",
       "  <thead>\n",
       "    <tr style=\"text-align: right;\">\n",
       "      <th></th>\n",
       "      <th>glc__D_e</th>\n",
       "      <th>nh4_e</th>\n",
       "      <th>pi_e</th>\n",
       "      <th>so4_e</th>\n",
       "      <th>mg2_e</th>\n",
       "      <th>k_e</th>\n",
       "      <th>na1_e</th>\n",
       "      <th>cl_e</th>\n",
       "      <th>isoprenol_e</th>\n",
       "      <th>ac_e</th>\n",
       "      <th>for_e</th>\n",
       "      <th>lac__D_e</th>\n",
       "      <th>etoh_e</th>\n",
       "    </tr>\n",
       "  </thead>\n",
       "  <tbody>\n",
       "    <tr>\n",
       "      <th>0.0</th>\n",
       "      <td>22.0708</td>\n",
       "      <td>18.6185</td>\n",
       "      <td>69.4472</td>\n",
       "      <td>1.99821</td>\n",
       "      <td>1.99994</td>\n",
       "      <td>21.8816</td>\n",
       "      <td>103.7</td>\n",
       "      <td>27.25</td>\n",
       "      <td>0.00330624</td>\n",
       "      <td>0.0287831</td>\n",
       "      <td>0.0013225</td>\n",
       "      <td>0.100218</td>\n",
       "      <td>0</td>\n",
       "    </tr>\n",
       "    <tr>\n",
       "      <th>1.0</th>\n",
       "      <td>21.8449</td>\n",
       "      <td>18.488</td>\n",
       "      <td>69.4355</td>\n",
       "      <td>1.99517</td>\n",
       "      <td>1.99983</td>\n",
       "      <td>21.8793</td>\n",
       "      <td>103.7</td>\n",
       "      <td>27.2499</td>\n",
       "      <td>0.00895276</td>\n",
       "      <td>0.0779399</td>\n",
       "      <td>0.0035811</td>\n",
       "      <td>0.271374</td>\n",
       "      <td>0</td>\n",
       "    </tr>\n",
       "    <tr>\n",
       "      <th>2.0</th>\n",
       "      <td>21.4592</td>\n",
       "      <td>18.265</td>\n",
       "      <td>69.4156</td>\n",
       "      <td>1.98996</td>\n",
       "      <td>1.99965</td>\n",
       "      <td>21.8752</td>\n",
       "      <td>103.7</td>\n",
       "      <td>27.2498</td>\n",
       "      <td>0.0185961</td>\n",
       "      <td>0.161892</td>\n",
       "      <td>0.00743843</td>\n",
       "      <td>0.563679</td>\n",
       "      <td>0</td>\n",
       "    </tr>\n",
       "    <tr>\n",
       "      <th>3.0</th>\n",
       "      <td>20.8004</td>\n",
       "      <td>17.8842</td>\n",
       "      <td>69.3816</td>\n",
       "      <td>1.98107</td>\n",
       "      <td>1.99935</td>\n",
       "      <td>21.8683</td>\n",
       "      <td>103.7</td>\n",
       "      <td>27.2496</td>\n",
       "      <td>0.0350653</td>\n",
       "      <td>0.305267</td>\n",
       "      <td>0.0140261</td>\n",
       "      <td>1.06289</td>\n",
       "      <td>0</td>\n",
       "    </tr>\n",
       "    <tr>\n",
       "      <th>4.0</th>\n",
       "      <td>19.6753</td>\n",
       "      <td>17.2338</td>\n",
       "      <td>69.3235</td>\n",
       "      <td>1.96588</td>\n",
       "      <td>1.99883</td>\n",
       "      <td>21.8566</td>\n",
       "      <td>103.7</td>\n",
       "      <td>27.2493</td>\n",
       "      <td>0.0631919</td>\n",
       "      <td>0.550129</td>\n",
       "      <td>0.0252768</td>\n",
       "      <td>1.91546</td>\n",
       "      <td>0</td>\n",
       "    </tr>\n",
       "    <tr>\n",
       "      <th>5.0</th>\n",
       "      <td>17.7539</td>\n",
       "      <td>16.123</td>\n",
       "      <td>69.2243</td>\n",
       "      <td>1.93994</td>\n",
       "      <td>1.99793</td>\n",
       "      <td>21.8365</td>\n",
       "      <td>103.7</td>\n",
       "      <td>27.2488</td>\n",
       "      <td>0.111228</td>\n",
       "      <td>0.968313</td>\n",
       "      <td>0.0444911</td>\n",
       "      <td>3.3715</td>\n",
       "      <td>0</td>\n",
       "    </tr>\n",
       "    <tr>\n",
       "      <th>6.0</th>\n",
       "      <td>14.4724</td>\n",
       "      <td>14.226</td>\n",
       "      <td>69.0549</td>\n",
       "      <td>1.89565</td>\n",
       "      <td>1.99641</td>\n",
       "      <td>21.8022</td>\n",
       "      <td>103.7</td>\n",
       "      <td>27.2478</td>\n",
       "      <td>0.193265</td>\n",
       "      <td>1.6825</td>\n",
       "      <td>0.0773059</td>\n",
       "      <td>5.85819</td>\n",
       "      <td>0</td>\n",
       "    </tr>\n",
       "    <tr>\n",
       "      <th>7.0</th>\n",
       "      <td>8.86817</td>\n",
       "      <td>10.9863</td>\n",
       "      <td>68.7655</td>\n",
       "      <td>1.81999</td>\n",
       "      <td>1.99381</td>\n",
       "      <td>21.7437</td>\n",
       "      <td>103.7</td>\n",
       "      <td>27.2463</td>\n",
       "      <td>0.333371</td>\n",
       "      <td>2.90222</td>\n",
       "      <td>0.133348</td>\n",
       "      <td>10.105</td>\n",
       "      <td>0</td>\n",
       "    </tr>\n",
       "    <tr>\n",
       "      <th>8.0</th>\n",
       "      <td>0</td>\n",
       "      <td>5.45333</td>\n",
       "      <td>68.2714</td>\n",
       "      <td>1.69079</td>\n",
       "      <td>1.98936</td>\n",
       "      <td>21.6437</td>\n",
       "      <td>103.7</td>\n",
       "      <td>27.2436</td>\n",
       "      <td>0.572648</td>\n",
       "      <td>4.9853</td>\n",
       "      <td>0.229059</td>\n",
       "      <td>17.358</td>\n",
       "      <td>0</td>\n",
       "    </tr>\n",
       "    <tr>\n",
       "      <th>9.0</th>\n",
       "      <td>0</td>\n",
       "      <td>5.45333</td>\n",
       "      <td>68.2714</td>\n",
       "      <td>1.69079</td>\n",
       "      <td>1.98936</td>\n",
       "      <td>21.6437</td>\n",
       "      <td>103.7</td>\n",
       "      <td>27.2436</td>\n",
       "      <td>0.572648</td>\n",
       "      <td>4.9853</td>\n",
       "      <td>0.229059</td>\n",
       "      <td>17.358</td>\n",
       "      <td>0</td>\n",
       "    </tr>\n",
       "  </tbody>\n",
       "</table>\n",
       "</div>"
      ],
      "text/plain": [
       "    glc__D_e    nh4_e     pi_e    so4_e    mg2_e      k_e  na1_e     cl_e  \\\n",
       "0.0  22.0708  18.6185  69.4472  1.99821  1.99994  21.8816  103.7    27.25   \n",
       "1.0  21.8449   18.488  69.4355  1.99517  1.99983  21.8793  103.7  27.2499   \n",
       "2.0  21.4592   18.265  69.4156  1.98996  1.99965  21.8752  103.7  27.2498   \n",
       "3.0  20.8004  17.8842  69.3816  1.98107  1.99935  21.8683  103.7  27.2496   \n",
       "4.0  19.6753  17.2338  69.3235  1.96588  1.99883  21.8566  103.7  27.2493   \n",
       "5.0  17.7539   16.123  69.2243  1.93994  1.99793  21.8365  103.7  27.2488   \n",
       "6.0  14.4724   14.226  69.0549  1.89565  1.99641  21.8022  103.7  27.2478   \n",
       "7.0  8.86817  10.9863  68.7655  1.81999  1.99381  21.7437  103.7  27.2463   \n",
       "8.0        0  5.45333  68.2714  1.69079  1.98936  21.6437  103.7  27.2436   \n",
       "9.0        0  5.45333  68.2714  1.69079  1.98936  21.6437  103.7  27.2436   \n",
       "\n",
       "    isoprenol_e       ac_e       for_e  lac__D_e etoh_e  \n",
       "0.0  0.00330624  0.0287831   0.0013225  0.100218      0  \n",
       "1.0  0.00895276  0.0779399   0.0035811  0.271374      0  \n",
       "2.0   0.0185961   0.161892  0.00743843  0.563679      0  \n",
       "3.0   0.0350653   0.305267   0.0140261   1.06289      0  \n",
       "4.0   0.0631919   0.550129   0.0252768   1.91546      0  \n",
       "5.0    0.111228   0.968313   0.0444911    3.3715      0  \n",
       "6.0    0.193265     1.6825   0.0773059   5.85819      0  \n",
       "7.0    0.333371    2.90222    0.133348    10.105      0  \n",
       "8.0    0.572648     4.9853    0.229059    17.358      0  \n",
       "9.0    0.572648     4.9853    0.229059    17.358      0  "
      ]
     },
     "execution_count": 25,
     "metadata": {},
     "output_type": "execute_result"
    }
   ],
   "source": [
    "EmetsHI"
   ]
  },
  {
   "cell_type": "code",
   "execution_count": 26,
   "metadata": {},
   "outputs": [
    {
     "data": {
      "image/png": "[encoded data removed]",
      "text/plain": [
       "<Figure size 864x288 with 2 Axes>"
      ]
     },
     "metadata": {
      "needs_background": "light"
     },
     "output_type": "display_data"
    }
   ],
   "source": [
    "plot_DO_extmets(cellHI, EmetsHI[['glc__D_e','isoprenol_e','ac_e','for_e','lac__D_e','etoh_e']])"
   ]
  },
  {
   "cell_type": "markdown",
   "metadata": {},
   "source": [
    "### 3) Getting multiomics data for wild type"
   ]
  },
  {
   "cell_type": "markdown",
   "metadata": {},
   "source": [
    "We now obtain the multiomics data for each time point:"
   ]
  },
  {
   "cell_type": "code",
   "execution_count": 27,
   "metadata": {},
   "outputs": [],
   "source": [
    "#for t in tspan:\n",
    "#    (proteomics, transcriptomics, metabolomics) = get_multiomics(model, solution_TS[t])\n",
    "proteomics_timeseries = {}\n",
    "transcriptomics_timeseries = {}\n",
    "metabolomics_timeseries = {}\n",
    "\n",
    "for t in tspan:\n",
    "    proteomics_timeseries[t], transcriptomics_timeseries[t], metabolomics_timeseries[t] = omg.get_multiomics(model, solution_TS[t], user_params['mapping_file'])"
   ]
  },
  {
   "cell_type": "markdown",
   "metadata": {},
   "source": [
    "### 4) Getting bioengineered flux profiles through MOMA (function B)"
   ]
  },
  {
   "cell_type": "markdown",
   "metadata": {},
   "source": [
    "First obtain files with suggested designs (i.e. reactions kos and overexpressions):"
   ]
  },
  {
   "cell_type": "code",
   "execution_count": 28,
   "metadata": {},
   "outputs": [],
   "source": [
    "design_df = pd.read_csv(f'{user_params[\"designfilepath\"]}/{user_params[\"designfile\"]}')\n",
    "\n",
    "#design_df = design_df.loc[0:4,:] # Truncate this dataframe for faster testing!!!"
   ]
  },
  {
   "cell_type": "markdown",
   "metadata": {},
   "source": [
    "Each design (line) involves the modification of up to 8 fluxes (1 -> keep the same; 2-> double flux, 0-> knock reaction out):"
   ]
  },
  {
   "cell_type": "code",
   "execution_count": 29,
   "metadata": {},
   "outputs": [
    {
     "data": {
      "text/html": [
       "<div>\n",
       "<style scoped>\n",
       "    .dataframe tbody tr th:only-of-type {\n",
       "        vertical-align: middle;\n",
       "    }\n",
       "\n",
       "    .dataframe tbody tr th {\n",
       "        vertical-align: top;\n",
       "    }\n",
       "\n",
       "    .dataframe thead th {\n",
       "        text-align: right;\n",
       "    }\n",
       "</style>\n",
       "<table border=\"1\" class=\"dataframe\">\n",
       "  <thead>\n",
       "    <tr style=\"text-align: right;\">\n",
       "      <th></th>\n",
       "      <th>Line Name</th>\n",
       "      <th>ACCOAC</th>\n",
       "      <th>MDH</th>\n",
       "      <th>PTAr</th>\n",
       "      <th>CS</th>\n",
       "      <th>ACACT1r</th>\n",
       "      <th>PPC</th>\n",
       "      <th>PPCK</th>\n",
       "      <th>PFL</th>\n",
       "    </tr>\n",
       "  </thead>\n",
       "  <tbody>\n",
       "    <tr>\n",
       "      <th>0</th>\n",
       "      <td>1</td>\n",
       "      <td>1</td>\n",
       "      <td>1</td>\n",
       "      <td>2</td>\n",
       "      <td>0</td>\n",
       "      <td>2</td>\n",
       "      <td>0</td>\n",
       "      <td>0</td>\n",
       "      <td>0</td>\n",
       "    </tr>\n",
       "    <tr>\n",
       "      <th>1</th>\n",
       "      <td>2</td>\n",
       "      <td>1</td>\n",
       "      <td>2</td>\n",
       "      <td>2</td>\n",
       "      <td>2</td>\n",
       "      <td>2</td>\n",
       "      <td>1</td>\n",
       "      <td>1</td>\n",
       "      <td>0</td>\n",
       "    </tr>\n",
       "  </tbody>\n",
       "</table>\n",
       "</div>"
      ],
      "text/plain": [
       "  Line Name  ACCOAC  MDH  PTAr  CS  ACACT1r  PPC  PPCK  PFL\n",
       "0         1       1    1     2   0        2    0     0    0\n",
       "1         2       1    2     2   2        2    1     1    0"
      ]
     },
     "execution_count": 29,
     "metadata": {},
     "output_type": "execute_result"
    }
   ],
   "source": [
    "design_df.loc[0:1,:]"
   ]
  },
  {
   "cell_type": "markdown",
   "metadata": {},
   "source": [
    "We then use MOMA to calculate flux profiles at each time point for the bioengineered strains. Instead of using the solution time series corresponding to the initial model, we use the solution time series corresponding to the higher production. The reason is that, otherwise, we would never see an increase in isoprenol production, since MOMA minimizes the changes in flux by design. Remember that our goal here is just to create realistic flux profiles that can be used to showcase ART. This approach is good enough: "
   ]
  },
  {
   "cell_type": "code",
   "execution_count": 30,
   "metadata": {},
   "outputs": [
    {
     "name": "stdout",
     "output_type": "stream",
     "text": [
      "CPU times: user 4min 52s, sys: 2.3 s, total: 4min 55s\n",
      "Wall time: 4min 55s\n"
     ]
    }
   ],
   "source": [
    "%%time\n",
    "solutionsMOMA_TS = {}\n",
    "if user_params['numinstances'] not in [None, 0]:\n",
    "    num_strains = user_params['numinstances']\n",
    "else:\n",
    "    num_strains = design_df.shape[0]\n",
    "for i in range(num_strains):\n",
    "    design = design_df.loc[i,:]\n",
    "    solutionsMOMA_TS[i] = omg.getBEFluxes(model_TS, design, solutionHI_TS, grid)"
   ]
  },
  {
   "cell_type": "markdown",
   "metadata": {},
   "source": [
    "We can check that the knocked out fluxes are zero:"
   ]
  },
  {
   "cell_type": "code",
   "execution_count": 31,
   "metadata": {},
   "outputs": [
    {
     "name": "stdout",
     "output_type": "stream",
     "text": [
      "Line Name    1\n",
      "ACCOAC       1\n",
      "MDH          1\n",
      "PTAr         2\n",
      "CS           0\n",
      "ACACT1r      2\n",
      "PPC          0\n",
      "PPCK         0\n",
      "PFL          0\n",
      "Name: 0, dtype: object\n",
      "\n",
      "CS: 0.0\n",
      "PPC: 0.0\n",
      "PFL: 0.0\n"
     ]
    }
   ],
   "source": [
    "i=0\n",
    "print(str(design_df.loc[i,:])+'\\n')\n",
    "for rxn in ['CS','PPC','PFL']:\n",
    "    print(str(rxn)+\": \"+str(solutionsMOMA_TS[i][5].fluxes[rxn]))"
   ]
  },
  {
   "cell_type": "markdown",
   "metadata": {},
   "source": [
    "### 5) Producing the external metabolite concentrations for each bioengineered strain (function D)"
   ]
  },
  {
   "cell_type": "markdown",
   "metadata": {},
   "source": [
    "Here we use the integrate_fluxes function to produce the external metabolite concentrations compatible with the calculated fluxes:"
   ]
  },
  {
   "cell_type": "code",
   "execution_count": 32,
   "metadata": {},
   "outputs": [
    {
     "name": "stdout",
     "output_type": "stream",
     "text": [
      "CPU times: user 152 ms, sys: 0 ns, total: 152 ms\n",
      "Wall time: 152 ms\n"
     ]
    }
   ],
   "source": [
    "%%time\n",
    "cellsEmetsBE = {}\n",
    "for i in range(num_strains):\n",
    "    cell, Emets = omg.integrate_fluxes(solutionsMOMA_TS[i], model_TS, user_params['ext_metabolites'], grid, user_params)\n",
    "    cellsEmetsBE[i] = (cell, Emets) \n"
   ]
  },
  {
   "cell_type": "markdown",
   "metadata": {},
   "source": [
    "We can check we obtain the same result with this function for the wild type as we did above:"
   ]
  },
  {
   "cell_type": "code",
   "execution_count": 33,
   "metadata": {},
   "outputs": [],
   "source": [
    "cellWT, EmetsWT = omg.integrate_fluxes(solution_TS, model_TS, user_params['ext_metabolites'], grid, user_params)"
   ]
  },
  {
   "cell_type": "code",
   "execution_count": 34,
   "metadata": {},
   "outputs": [
    {
     "data": {
      "text/html": [
       "<div>\n",
       "<style scoped>\n",
       "    .dataframe tbody tr th:only-of-type {\n",
       "        vertical-align: middle;\n",
       "    }\n",
       "\n",
       "    .dataframe tbody tr th {\n",
       "        vertical-align: top;\n",
       "    }\n",
       "\n",
       "    .dataframe thead th {\n",
       "        text-align: right;\n",
       "    }\n",
       "</style>\n",
       "<table border=\"1\" class=\"dataframe\">\n",
       "  <thead>\n",
       "    <tr style=\"text-align: right;\">\n",
       "      <th></th>\n",
       "      <th>glc__D_e</th>\n",
       "      <th>nh4_e</th>\n",
       "      <th>pi_e</th>\n",
       "      <th>so4_e</th>\n",
       "      <th>mg2_e</th>\n",
       "      <th>k_e</th>\n",
       "      <th>na1_e</th>\n",
       "      <th>cl_e</th>\n",
       "      <th>isoprenol_e</th>\n",
       "      <th>ac_e</th>\n",
       "      <th>for_e</th>\n",
       "      <th>lac__D_e</th>\n",
       "      <th>etoh_e</th>\n",
       "    </tr>\n",
       "  </thead>\n",
       "  <tbody>\n",
       "    <tr>\n",
       "      <th>0.0</th>\n",
       "      <td>22.0707</td>\n",
       "      <td>18.6183</td>\n",
       "      <td>69.4472</td>\n",
       "      <td>1.99821</td>\n",
       "      <td>1.99994</td>\n",
       "      <td>21.8816</td>\n",
       "      <td>103.7</td>\n",
       "      <td>27.25</td>\n",
       "      <td>0.00264663</td>\n",
       "      <td>0.027405</td>\n",
       "      <td>0.00132331</td>\n",
       "      <td>0</td>\n",
       "      <td>0.102538</td>\n",
       "    </tr>\n",
       "    <tr>\n",
       "      <th>1.0</th>\n",
       "      <td>21.8444</td>\n",
       "      <td>18.4873</td>\n",
       "      <td>69.4354</td>\n",
       "      <td>1.99515</td>\n",
       "      <td>1.99983</td>\n",
       "      <td>21.8792</td>\n",
       "      <td>103.7</td>\n",
       "      <td>27.2499</td>\n",
       "      <td>0.00717176</td>\n",
       "      <td>0.0742613</td>\n",
       "      <td>0.00358588</td>\n",
       "      <td>0</td>\n",
       "      <td>0.277855</td>\n",
       "    </tr>\n",
       "    <tr>\n",
       "      <th>2.0</th>\n",
       "      <td>21.4576</td>\n",
       "      <td>18.2632</td>\n",
       "      <td>69.4154</td>\n",
       "      <td>1.98992</td>\n",
       "      <td>1.99965</td>\n",
       "      <td>21.8752</td>\n",
       "      <td>103.7</td>\n",
       "      <td>27.2498</td>\n",
       "      <td>0.0149087</td>\n",
       "      <td>0.154375</td>\n",
       "      <td>0.00745436</td>\n",
       "      <td>0</td>\n",
       "      <td>0.577608</td>\n",
       "    </tr>\n",
       "    <tr>\n",
       "      <th>3.0</th>\n",
       "      <td>20.7961</td>\n",
       "      <td>17.88</td>\n",
       "      <td>69.3812</td>\n",
       "      <td>1.98097</td>\n",
       "      <td>1.99935</td>\n",
       "      <td>21.8683</td>\n",
       "      <td>103.7</td>\n",
       "      <td>27.2496</td>\n",
       "      <td>0.0281372</td>\n",
       "      <td>0.291351</td>\n",
       "      <td>0.0140686</td>\n",
       "      <td>0</td>\n",
       "      <td>1.09012</td>\n",
       "    </tr>\n",
       "    <tr>\n",
       "      <th>4.0</th>\n",
       "      <td>19.6653</td>\n",
       "      <td>17.2248</td>\n",
       "      <td>69.3227</td>\n",
       "      <td>1.96567</td>\n",
       "      <td>1.99882</td>\n",
       "      <td>21.8564</td>\n",
       "      <td>103.7</td>\n",
       "      <td>27.2493</td>\n",
       "      <td>0.0507548</td>\n",
       "      <td>0.52555</td>\n",
       "      <td>0.0253774</td>\n",
       "      <td>0</td>\n",
       "      <td>1.96639</td>\n",
       "    </tr>\n",
       "    <tr>\n",
       "      <th>5.0</th>\n",
       "      <td>17.7317</td>\n",
       "      <td>16.1047</td>\n",
       "      <td>69.2227</td>\n",
       "      <td>1.93951</td>\n",
       "      <td>1.99792</td>\n",
       "      <td>21.8362</td>\n",
       "      <td>103.7</td>\n",
       "      <td>27.2488</td>\n",
       "      <td>0.0894259</td>\n",
       "      <td>0.925977</td>\n",
       "      <td>0.044713</td>\n",
       "      <td>0</td>\n",
       "      <td>3.46462</td>\n",
       "    </tr>\n",
       "    <tr>\n",
       "      <th>6.0</th>\n",
       "      <td>14.4258</td>\n",
       "      <td>14.1895</td>\n",
       "      <td>69.0516</td>\n",
       "      <td>1.89479</td>\n",
       "      <td>1.99638</td>\n",
       "      <td>21.8016</td>\n",
       "      <td>103.7</td>\n",
       "      <td>27.2478</td>\n",
       "      <td>0.155545</td>\n",
       "      <td>1.61062</td>\n",
       "      <td>0.0777724</td>\n",
       "      <td>0</td>\n",
       "      <td>6.02626</td>\n",
       "    </tr>\n",
       "    <tr>\n",
       "      <th>7.0</th>\n",
       "      <td>8.77335</td>\n",
       "      <td>10.915</td>\n",
       "      <td>68.7592</td>\n",
       "      <td>1.81833</td>\n",
       "      <td>1.99375</td>\n",
       "      <td>21.7424</td>\n",
       "      <td>103.7</td>\n",
       "      <td>27.2463</td>\n",
       "      <td>0.268593</td>\n",
       "      <td>2.7812</td>\n",
       "      <td>0.134297</td>\n",
       "      <td>0</td>\n",
       "      <td>10.4061</td>\n",
       "    </tr>\n",
       "    <tr>\n",
       "      <th>8.0</th>\n",
       "      <td>0</td>\n",
       "      <td>5.31631</td>\n",
       "      <td>68.2591</td>\n",
       "      <td>1.68759</td>\n",
       "      <td>1.98925</td>\n",
       "      <td>21.6412</td>\n",
       "      <td>103.7</td>\n",
       "      <td>27.2436</td>\n",
       "      <td>0.46188</td>\n",
       "      <td>4.78262</td>\n",
       "      <td>0.23094</td>\n",
       "      <td>0</td>\n",
       "      <td>17.8946</td>\n",
       "    </tr>\n",
       "    <tr>\n",
       "      <th>9.0</th>\n",
       "      <td>0</td>\n",
       "      <td>5.31631</td>\n",
       "      <td>68.2591</td>\n",
       "      <td>1.68759</td>\n",
       "      <td>1.98925</td>\n",
       "      <td>21.6412</td>\n",
       "      <td>103.7</td>\n",
       "      <td>27.2436</td>\n",
       "      <td>0.46188</td>\n",
       "      <td>4.78262</td>\n",
       "      <td>0.23094</td>\n",
       "      <td>0</td>\n",
       "      <td>17.8946</td>\n",
       "    </tr>\n",
       "  </tbody>\n",
       "</table>\n",
       "</div>"
      ],
      "text/plain": [
       "    glc__D_e    nh4_e     pi_e    so4_e    mg2_e      k_e  na1_e     cl_e  \\\n",
       "0.0  22.0707  18.6183  69.4472  1.99821  1.99994  21.8816  103.7    27.25   \n",
       "1.0  21.8444  18.4873  69.4354  1.99515  1.99983  21.8792  103.7  27.2499   \n",
       "2.0  21.4576  18.2632  69.4154  1.98992  1.99965  21.8752  103.7  27.2498   \n",
       "3.0  20.7961    17.88  69.3812  1.98097  1.99935  21.8683  103.7  27.2496   \n",
       "4.0  19.6653  17.2248  69.3227  1.96567  1.99882  21.8564  103.7  27.2493   \n",
       "5.0  17.7317  16.1047  69.2227  1.93951  1.99792  21.8362  103.7  27.2488   \n",
       "6.0  14.4258  14.1895  69.0516  1.89479  1.99638  21.8016  103.7  27.2478   \n",
       "7.0  8.77335   10.915  68.7592  1.81833  1.99375  21.7424  103.7  27.2463   \n",
       "8.0        0  5.31631  68.2591  1.68759  1.98925  21.6412  103.7  27.2436   \n",
       "9.0        0  5.31631  68.2591  1.68759  1.98925  21.6412  103.7  27.2436   \n",
       "\n",
       "    isoprenol_e       ac_e       for_e lac__D_e    etoh_e  \n",
       "0.0  0.00264663   0.027405  0.00132331        0  0.102538  \n",
       "1.0  0.00717176  0.0742613  0.00358588        0  0.277855  \n",
       "2.0   0.0149087   0.154375  0.00745436        0  0.577608  \n",
       "3.0   0.0281372   0.291351   0.0140686        0   1.09012  \n",
       "4.0   0.0507548    0.52555   0.0253774        0   1.96639  \n",
       "5.0   0.0894259   0.925977    0.044713        0   3.46462  \n",
       "6.0    0.155545    1.61062   0.0777724        0   6.02626  \n",
       "7.0    0.268593     2.7812    0.134297        0   10.4061  \n",
       "8.0     0.46188    4.78262     0.23094        0   17.8946  \n",
       "9.0     0.46188    4.78262     0.23094        0   17.8946  "
      ]
     },
     "execution_count": 34,
     "metadata": {},
     "output_type": "execute_result"
    }
   ],
   "source": [
    "EmetsWT"
   ]
  },
  {
   "cell_type": "code",
   "execution_count": 35,
   "metadata": {},
   "outputs": [
    {
     "data": {
      "image/png": "[encoded data removed]",
      "text/plain": [
       "<Figure size 864x288 with 2 Axes>"
      ]
     },
     "metadata": {
      "needs_background": "light"
     },
     "output_type": "display_data"
    }
   ],
   "source": [
    "plot_DO_extmets(cellWT, EmetsWT[['glc__D_e','isoprenol_e','ac_e','for_e','lac__D_e','etoh_e']])"
   ]
  },
  {
   "cell_type": "markdown",
   "metadata": {},
   "source": [
    "And compare with any other bioengineered strain:"
   ]
  },
  {
   "cell_type": "code",
   "execution_count": 37,
   "metadata": {},
   "outputs": [
    {
     "data": {
      "image/png": "[encoded data removed]",
      "text/plain": [
       "<Figure size 864x288 with 2 Axes>"
      ]
     },
     "metadata": {
      "needs_background": "light"
     },
     "output_type": "display_data"
    }
   ],
   "source": [
    "i = 2\n",
    "cellBE, EmetsBE = cellsEmetsBE[i]\n",
    "plot_DO_extmets(cellBE, EmetsBE[['glc__D_e','isoprenol_e','ac_e','for_e','lac__D_e','etoh_e']])"
   ]
  },
  {
   "cell_type": "code",
   "execution_count": 38,
   "metadata": {},
   "outputs": [
    {
     "data": {
      "text/html": [
       "<div>\n",
       "<style scoped>\n",
       "    .dataframe tbody tr th:only-of-type {\n",
       "        vertical-align: middle;\n",
       "    }\n",
       "\n",
       "    .dataframe tbody tr th {\n",
       "        vertical-align: top;\n",
       "    }\n",
       "\n",
       "    .dataframe thead th {\n",
       "        text-align: right;\n",
       "    }\n",
       "</style>\n",
       "<table border=\"1\" class=\"dataframe\">\n",
       "  <thead>\n",
       "    <tr style=\"text-align: right;\">\n",
       "      <th></th>\n",
       "      <th>glc__D_e</th>\n",
       "      <th>nh4_e</th>\n",
       "      <th>pi_e</th>\n",
       "      <th>so4_e</th>\n",
       "      <th>mg2_e</th>\n",
       "      <th>k_e</th>\n",
       "      <th>na1_e</th>\n",
       "      <th>cl_e</th>\n",
       "      <th>isoprenol_e</th>\n",
       "      <th>ac_e</th>\n",
       "      <th>for_e</th>\n",
       "      <th>lac__D_e</th>\n",
       "      <th>etoh_e</th>\n",
       "    </tr>\n",
       "  </thead>\n",
       "  <tbody>\n",
       "    <tr>\n",
       "      <th>0.0</th>\n",
       "      <td>22.0745</td>\n",
       "      <td>18.6206</td>\n",
       "      <td>69.448</td>\n",
       "      <td>1.99814</td>\n",
       "      <td>1.99995</td>\n",
       "      <td>21.8818</td>\n",
       "      <td>103.7</td>\n",
       "      <td>27.25</td>\n",
       "      <td>0.00311532</td>\n",
       "      <td>0.0273521</td>\n",
       "      <td>0.00128548</td>\n",
       "      <td>0.0969536</td>\n",
       "      <td>0</td>\n",
       "    </tr>\n",
       "    <tr>\n",
       "      <th>1.0</th>\n",
       "      <td>21.8661</td>\n",
       "      <td>18.4999</td>\n",
       "      <td>69.4382</td>\n",
       "      <td>1.99514</td>\n",
       "      <td>1.99986</td>\n",
       "      <td>21.8798</td>\n",
       "      <td>103.7</td>\n",
       "      <td>27.2499</td>\n",
       "      <td>0.00816443</td>\n",
       "      <td>0.0716826</td>\n",
       "      <td>0.00336891</td>\n",
       "      <td>0.25409</td>\n",
       "      <td>0</td>\n",
       "    </tr>\n",
       "    <tr>\n",
       "      <th>2.0</th>\n",
       "      <td>21.5284</td>\n",
       "      <td>18.3044</td>\n",
       "      <td>69.4223</td>\n",
       "      <td>1.99026</td>\n",
       "      <td>1.99972</td>\n",
       "      <td>21.8766</td>\n",
       "      <td>103.7</td>\n",
       "      <td>27.2498</td>\n",
       "      <td>0.0163475</td>\n",
       "      <td>0.14353</td>\n",
       "      <td>0.00674559</td>\n",
       "      <td>0.508765</td>\n",
       "      <td>0</td>\n",
       "    </tr>\n",
       "    <tr>\n",
       "      <th>3.0</th>\n",
       "      <td>20.9812</td>\n",
       "      <td>17.9874</td>\n",
       "      <td>69.3966</td>\n",
       "      <td>1.98236</td>\n",
       "      <td>1.99949</td>\n",
       "      <td>21.8715</td>\n",
       "      <td>103.7</td>\n",
       "      <td>27.2497</td>\n",
       "      <td>0.0296101</td>\n",
       "      <td>0.259976</td>\n",
       "      <td>0.0122183</td>\n",
       "      <td>0.921525</td>\n",
       "      <td>0</td>\n",
       "    </tr>\n",
       "    <tr>\n",
       "      <th>4.0</th>\n",
       "      <td>20.0942</td>\n",
       "      <td>17.4738</td>\n",
       "      <td>69.3549</td>\n",
       "      <td>1.96955</td>\n",
       "      <td>1.99912</td>\n",
       "      <td>21.8631</td>\n",
       "      <td>103.7</td>\n",
       "      <td>27.2495</td>\n",
       "      <td>0.0511057</td>\n",
       "      <td>0.448704</td>\n",
       "      <td>0.0210881</td>\n",
       "      <td>1.5905</td>\n",
       "      <td>0</td>\n",
       "    </tr>\n",
       "    <tr>\n",
       "      <th>5.0</th>\n",
       "      <td>18.6566</td>\n",
       "      <td>16.6413</td>\n",
       "      <td>69.2873</td>\n",
       "      <td>1.9488</td>\n",
       "      <td>1.99851</td>\n",
       "      <td>21.8496</td>\n",
       "      <td>103.7</td>\n",
       "      <td>27.2491</td>\n",
       "      <td>0.0859442</td>\n",
       "      <td>0.754582</td>\n",
       "      <td>0.0354636</td>\n",
       "      <td>2.67473</td>\n",
       "      <td>0</td>\n",
       "    </tr>\n",
       "    <tr>\n",
       "      <th>6.0</th>\n",
       "      <td>16.3268</td>\n",
       "      <td>15.292</td>\n",
       "      <td>69.1779</td>\n",
       "      <td>1.91516</td>\n",
       "      <td>1.99754</td>\n",
       "      <td>21.8276</td>\n",
       "      <td>103.7</td>\n",
       "      <td>27.2485</td>\n",
       "      <td>0.142408</td>\n",
       "      <td>1.25033</td>\n",
       "      <td>0.0587625</td>\n",
       "      <td>4.43197</td>\n",
       "      <td>0</td>\n",
       "    </tr>\n",
       "    <tr>\n",
       "      <th>7.0</th>\n",
       "      <td>12.5506</td>\n",
       "      <td>13.1052</td>\n",
       "      <td>69.0004</td>\n",
       "      <td>1.86065</td>\n",
       "      <td>1.99596</td>\n",
       "      <td>21.792</td>\n",
       "      <td>103.7</td>\n",
       "      <td>27.2476</td>\n",
       "      <td>0.233921</td>\n",
       "      <td>2.0538</td>\n",
       "      <td>0.0965237</td>\n",
       "      <td>7.28</td>\n",
       "      <td>0</td>\n",
       "    </tr>\n",
       "    <tr>\n",
       "      <th>8.0</th>\n",
       "      <td>6.43053</td>\n",
       "      <td>9.56095</td>\n",
       "      <td>68.7128</td>\n",
       "      <td>1.77229</td>\n",
       "      <td>1.99339</td>\n",
       "      <td>21.7343</td>\n",
       "      <td>103.7</td>\n",
       "      <td>27.246</td>\n",
       "      <td>0.382239</td>\n",
       "      <td>3.35601</td>\n",
       "      <td>0.157725</td>\n",
       "      <td>11.8959</td>\n",
       "      <td>0</td>\n",
       "    </tr>\n",
       "    <tr>\n",
       "      <th>9.0</th>\n",
       "      <td>6.43053</td>\n",
       "      <td>9.56095</td>\n",
       "      <td>68.7128</td>\n",
       "      <td>1.77229</td>\n",
       "      <td>1.99339</td>\n",
       "      <td>21.7343</td>\n",
       "      <td>103.7</td>\n",
       "      <td>27.246</td>\n",
       "      <td>0.382239</td>\n",
       "      <td>3.35601</td>\n",
       "      <td>0.157725</td>\n",
       "      <td>11.8959</td>\n",
       "      <td>0</td>\n",
       "    </tr>\n",
       "  </tbody>\n",
       "</table>\n",
       "</div>"
      ],
      "text/plain": [
       "    glc__D_e    nh4_e     pi_e    so4_e    mg2_e      k_e  na1_e     cl_e  \\\n",
       "0.0  22.0745  18.6206   69.448  1.99814  1.99995  21.8818  103.7    27.25   \n",
       "1.0  21.8661  18.4999  69.4382  1.99514  1.99986  21.8798  103.7  27.2499   \n",
       "2.0  21.5284  18.3044  69.4223  1.99026  1.99972  21.8766  103.7  27.2498   \n",
       "3.0  20.9812  17.9874  69.3966  1.98236  1.99949  21.8715  103.7  27.2497   \n",
       "4.0  20.0942  17.4738  69.3549  1.96955  1.99912  21.8631  103.7  27.2495   \n",
       "5.0  18.6566  16.6413  69.2873   1.9488  1.99851  21.8496  103.7  27.2491   \n",
       "6.0  16.3268   15.292  69.1779  1.91516  1.99754  21.8276  103.7  27.2485   \n",
       "7.0  12.5506  13.1052  69.0004  1.86065  1.99596   21.792  103.7  27.2476   \n",
       "8.0  6.43053  9.56095  68.7128  1.77229  1.99339  21.7343  103.7   27.246   \n",
       "9.0  6.43053  9.56095  68.7128  1.77229  1.99339  21.7343  103.7   27.246   \n",
       "\n",
       "    isoprenol_e       ac_e       for_e   lac__D_e etoh_e  \n",
       "0.0  0.00311532  0.0273521  0.00128548  0.0969536      0  \n",
       "1.0  0.00816443  0.0716826  0.00336891    0.25409      0  \n",
       "2.0   0.0163475    0.14353  0.00674559   0.508765      0  \n",
       "3.0   0.0296101   0.259976   0.0122183   0.921525      0  \n",
       "4.0   0.0511057   0.448704   0.0210881     1.5905      0  \n",
       "5.0   0.0859442   0.754582   0.0354636    2.67473      0  \n",
       "6.0    0.142408    1.25033   0.0587625    4.43197      0  \n",
       "7.0    0.233921     2.0538   0.0965237       7.28      0  \n",
       "8.0    0.382239    3.35601    0.157725    11.8959      0  \n",
       "9.0    0.382239    3.35601    0.157725    11.8959      0  "
      ]
     },
     "execution_count": 38,
     "metadata": {},
     "output_type": "execute_result"
    }
   ],
   "source": [
    "EmetsBE"
   ]
  },
  {
   "cell_type": "markdown",
   "metadata": {},
   "source": [
    "### 6) Creating final data frame for training ART"
   ]
  },
  {
   "cell_type": "markdown",
   "metadata": {},
   "source": [
    "Collect all isoprenol production values in a single list first:"
   ]
  },
  {
   "cell_type": "code",
   "execution_count": 45,
   "metadata": {},
   "outputs": [
    {
     "data": {
      "text/plain": [
       "[0.0,\n",
       " 0.5518867749304419,\n",
       " 0.3822393923183627,\n",
       " 0.5515996641755987,\n",
       " 0.09795262257973388]"
      ]
     },
     "execution_count": 45,
     "metadata": {},
     "output_type": "execute_result"
    }
   ],
   "source": [
    "production = []\n",
    "for i in range(user_params['numinstances']):\n",
    "    cell, Emets = cellsEmetsBE[i]\n",
    "    production.append(Emets.loc[9,'isoprenol_e'])\n",
    "print(production)"
   ]
  },
  {
   "cell_type": "markdown",
   "metadata": {},
   "source": [
    "Create new data frame and append the production"
   ]
  },
  {
   "cell_type": "code",
   "execution_count": 40,
   "metadata": {},
   "outputs": [],
   "source": [
    "production_df = design_df"
   ]
  },
  {
   "cell_type": "code",
   "execution_count": 47,
   "metadata": {},
   "outputs": [
    {
     "data": {
      "text/html": [
       "<div>\n",
       "<style scoped>\n",
       "    .dataframe tbody tr th:only-of-type {\n",
       "        vertical-align: middle;\n",
       "    }\n",
       "\n",
       "    .dataframe tbody tr th {\n",
       "        vertical-align: top;\n",
       "    }\n",
       "\n",
       "    .dataframe thead th {\n",
       "        text-align: right;\n",
       "    }\n",
       "</style>\n",
       "<table border=\"1\" class=\"dataframe\">\n",
       "  <thead>\n",
       "    <tr style=\"text-align: right;\">\n",
       "      <th></th>\n",
       "      <th>Line Name</th>\n",
       "      <th>ACCOAC</th>\n",
       "      <th>MDH</th>\n",
       "      <th>PTAr</th>\n",
       "      <th>CS</th>\n",
       "      <th>ACACT1r</th>\n",
       "      <th>PPC</th>\n",
       "      <th>PPCK</th>\n",
       "      <th>PFL</th>\n",
       "      <th>Production</th>\n",
       "    </tr>\n",
       "  </thead>\n",
       "  <tbody>\n",
       "    <tr>\n",
       "      <th>0</th>\n",
       "      <td>1</td>\n",
       "      <td>1</td>\n",
       "      <td>1</td>\n",
       "      <td>2</td>\n",
       "      <td>0</td>\n",
       "      <td>2</td>\n",
       "      <td>0</td>\n",
       "      <td>0</td>\n",
       "      <td>0</td>\n",
       "      <td>0.000000</td>\n",
       "    </tr>\n",
       "    <tr>\n",
       "      <th>1</th>\n",
       "      <td>2</td>\n",
       "      <td>1</td>\n",
       "      <td>2</td>\n",
       "      <td>2</td>\n",
       "      <td>2</td>\n",
       "      <td>2</td>\n",
       "      <td>1</td>\n",
       "      <td>1</td>\n",
       "      <td>0</td>\n",
       "      <td>0.551887</td>\n",
       "    </tr>\n",
       "    <tr>\n",
       "      <th>2</th>\n",
       "      <td>3</td>\n",
       "      <td>1</td>\n",
       "      <td>0</td>\n",
       "      <td>0</td>\n",
       "      <td>2</td>\n",
       "      <td>1</td>\n",
       "      <td>1</td>\n",
       "      <td>2</td>\n",
       "      <td>0</td>\n",
       "      <td>0.382239</td>\n",
       "    </tr>\n",
       "    <tr>\n",
       "      <th>3</th>\n",
       "      <td>4</td>\n",
       "      <td>1</td>\n",
       "      <td>1</td>\n",
       "      <td>1</td>\n",
       "      <td>1</td>\n",
       "      <td>2</td>\n",
       "      <td>2</td>\n",
       "      <td>1</td>\n",
       "      <td>0</td>\n",
       "      <td>0.551600</td>\n",
       "    </tr>\n",
       "    <tr>\n",
       "      <th>4</th>\n",
       "      <td>5</td>\n",
       "      <td>2</td>\n",
       "      <td>0</td>\n",
       "      <td>2</td>\n",
       "      <td>1</td>\n",
       "      <td>1</td>\n",
       "      <td>0</td>\n",
       "      <td>1</td>\n",
       "      <td>1</td>\n",
       "      <td>0.097953</td>\n",
       "    </tr>\n",
       "  </tbody>\n",
       "</table>\n",
       "</div>"
      ],
      "text/plain": [
       "  Line Name  ACCOAC  MDH  PTAr  CS  ACACT1r  PPC  PPCK  PFL  Production\n",
       "0         1       1    1     2   0        2    0     0    0    0.000000\n",
       "1         2       1    2     2   2        2    1     1    0    0.551887\n",
       "2         3       1    0     0   2        1    1     2    0    0.382239\n",
       "3         4       1    1     1   1        2    2     1    0    0.551600\n",
       "4         5       2    0     2   1        1    0     1    1    0.097953"
      ]
     },
     "execution_count": 47,
     "metadata": {},
     "output_type": "execute_result"
    }
   ],
   "source": [
    "production_df['Production']=production.copy()"
   ]
  },
  {
   "cell_type": "code",
   "execution_count": 48,
   "metadata": {},
   "outputs": [
    {
     "data": {
      "text/html": [
       "<div>\n",
       "<style scoped>\n",
       "    .dataframe tbody tr th:only-of-type {\n",
       "        vertical-align: middle;\n",
       "    }\n",
       "\n",
       "    .dataframe tbody tr th {\n",
       "        vertical-align: top;\n",
       "    }\n",
       "\n",
       "    .dataframe thead th {\n",
       "        text-align: right;\n",
       "    }\n",
       "</style>\n",
       "<table border=\"1\" class=\"dataframe\">\n",
       "  <thead>\n",
       "    <tr style=\"text-align: right;\">\n",
       "      <th></th>\n",
       "      <th>Line Name</th>\n",
       "      <th>ACCOAC</th>\n",
       "      <th>MDH</th>\n",
       "      <th>PTAr</th>\n",
       "      <th>CS</th>\n",
       "      <th>ACACT1r</th>\n",
       "      <th>PPC</th>\n",
       "      <th>PPCK</th>\n",
       "      <th>PFL</th>\n",
       "      <th>Production</th>\n",
       "    </tr>\n",
       "  </thead>\n",
       "  <tbody>\n",
       "    <tr>\n",
       "      <th>0</th>\n",
       "      <td>1</td>\n",
       "      <td>1</td>\n",
       "      <td>1</td>\n",
       "      <td>2</td>\n",
       "      <td>0</td>\n",
       "      <td>2</td>\n",
       "      <td>0</td>\n",
       "      <td>0</td>\n",
       "      <td>0</td>\n",
       "      <td>0.000000</td>\n",
       "    </tr>\n",
       "    <tr>\n",
       "      <th>1</th>\n",
       "      <td>2</td>\n",
       "      <td>1</td>\n",
       "      <td>2</td>\n",
       "      <td>2</td>\n",
       "      <td>2</td>\n",
       "      <td>2</td>\n",
       "      <td>1</td>\n",
       "      <td>1</td>\n",
       "      <td>0</td>\n",
       "      <td>0.551887</td>\n",
       "    </tr>\n",
       "    <tr>\n",
       "      <th>2</th>\n",
       "      <td>3</td>\n",
       "      <td>1</td>\n",
       "      <td>0</td>\n",
       "      <td>0</td>\n",
       "      <td>2</td>\n",
       "      <td>1</td>\n",
       "      <td>1</td>\n",
       "      <td>2</td>\n",
       "      <td>0</td>\n",
       "      <td>0.382239</td>\n",
       "    </tr>\n",
       "  </tbody>\n",
       "</table>\n",
       "</div>"
      ],
      "text/plain": [
       "  Line Name  ACCOAC  MDH  PTAr  CS  ACACT1r  PPC  PPCK  PFL  Production\n",
       "0         1       1    1     2   0        2    0     0    0    0.000000\n",
       "1         2       1    2     2   2        2    1     1    0    0.551887\n",
       "2         3       1    0     0   2        1    1     2    0    0.382239"
      ]
     },
     "execution_count": 48,
     "metadata": {},
     "output_type": "execute_result"
    }
   ],
   "source": [
    "production_df.loc[0:2,:]"
   ]
  },
  {
   "cell_type": "code",
   "execution_count": 49,
   "metadata": {},
   "outputs": [
    {
     "data": {
      "text/plain": [
       "0.5518867749304419"
      ]
     },
     "execution_count": 49,
     "metadata": {},
     "output_type": "execute_result"
    }
   ],
   "source": [
    "np.max(production_df['Production'])"
   ]
  },
  {
   "cell_type": "markdown",
   "metadata": {},
   "source": [
    "Save data frame as csv:"
   ]
  },
  {
   "cell_type": "code",
   "execution_count": 50,
   "metadata": {},
   "outputs": [],
   "source": [
    "production_df.to_csv('ART_training.csv')"
   ]
  },
  {
   "cell_type": "code",
   "execution_count": 51,
   "metadata": {},
   "outputs": [
    {
     "data": {
      "text/html": [
       "<div>\n",
       "<style scoped>\n",
       "    .dataframe tbody tr th:only-of-type {\n",
       "        vertical-align: middle;\n",
       "    }\n",
       "\n",
       "    .dataframe tbody tr th {\n",
       "        vertical-align: top;\n",
       "    }\n",
       "\n",
       "    .dataframe thead th {\n",
       "        text-align: right;\n",
       "    }\n",
       "</style>\n",
       "<table border=\"1\" class=\"dataframe\">\n",
       "  <thead>\n",
       "    <tr style=\"text-align: right;\">\n",
       "      <th></th>\n",
       "      <th>Line Name</th>\n",
       "      <th>ACCOAC</th>\n",
       "      <th>MDH</th>\n",
       "      <th>PTAr</th>\n",
       "      <th>CS</th>\n",
       "      <th>ACACT1r</th>\n",
       "      <th>PPC</th>\n",
       "      <th>PPCK</th>\n",
       "      <th>PFL</th>\n",
       "      <th>Production</th>\n",
       "    </tr>\n",
       "  </thead>\n",
       "  <tbody>\n",
       "    <tr>\n",
       "      <th>0</th>\n",
       "      <td>1</td>\n",
       "      <td>1</td>\n",
       "      <td>1</td>\n",
       "      <td>2</td>\n",
       "      <td>0</td>\n",
       "      <td>2</td>\n",
       "      <td>0</td>\n",
       "      <td>0</td>\n",
       "      <td>0</td>\n",
       "      <td>0.000000</td>\n",
       "    </tr>\n",
       "    <tr>\n",
       "      <th>1</th>\n",
       "      <td>2</td>\n",
       "      <td>1</td>\n",
       "      <td>2</td>\n",
       "      <td>2</td>\n",
       "      <td>2</td>\n",
       "      <td>2</td>\n",
       "      <td>1</td>\n",
       "      <td>1</td>\n",
       "      <td>0</td>\n",
       "      <td>0.551887</td>\n",
       "    </tr>\n",
       "    <tr>\n",
       "      <th>2</th>\n",
       "      <td>3</td>\n",
       "      <td>1</td>\n",
       "      <td>0</td>\n",
       "      <td>0</td>\n",
       "      <td>2</td>\n",
       "      <td>1</td>\n",
       "      <td>1</td>\n",
       "      <td>2</td>\n",
       "      <td>0</td>\n",
       "      <td>0.382239</td>\n",
       "    </tr>\n",
       "    <tr>\n",
       "      <th>3</th>\n",
       "      <td>4</td>\n",
       "      <td>1</td>\n",
       "      <td>1</td>\n",
       "      <td>1</td>\n",
       "      <td>1</td>\n",
       "      <td>2</td>\n",
       "      <td>2</td>\n",
       "      <td>1</td>\n",
       "      <td>0</td>\n",
       "      <td>0.551600</td>\n",
       "    </tr>\n",
       "    <tr>\n",
       "      <th>4</th>\n",
       "      <td>5</td>\n",
       "      <td>2</td>\n",
       "      <td>0</td>\n",
       "      <td>2</td>\n",
       "      <td>1</td>\n",
       "      <td>1</td>\n",
       "      <td>0</td>\n",
       "      <td>1</td>\n",
       "      <td>1</td>\n",
       "      <td>0.097953</td>\n",
       "    </tr>\n",
       "  </tbody>\n",
       "</table>\n",
       "</div>"
      ],
      "text/plain": [
       "  Line Name  ACCOAC  MDH  PTAr  CS  ACACT1r  PPC  PPCK  PFL  Production\n",
       "0         1       1    1     2   0        2    0     0    0    0.000000\n",
       "1         2       1    2     2   2        2    1     1    0    0.551887\n",
       "2         3       1    0     0   2        1    1     2    0    0.382239\n",
       "3         4       1    1     1   1        2    2     1    0    0.551600\n",
       "4         5       2    0     2   1        1    0     1    1    0.097953"
      ]
     },
     "execution_count": 51,
     "metadata": {},
     "output_type": "execute_result"
    }
   ],
   "source": [
    "production_df"
   ]
  },
  {
   "cell_type": "markdown",
   "metadata": {},
   "source": [
    "----"
   ]
  },
  {
   "cell_type": "markdown",
   "metadata": {},
   "source": [
    "----"
   ]
  },
  {
   "cell_type": "markdown",
   "metadata": {},
   "source": [
    "----"
   ]
  },
  {
   "cell_type": "code",
   "execution_count": null,
   "metadata": {},
   "outputs": [],
   "source": []
  },
  {
   "cell_type": "code",
   "execution_count": null,
   "metadata": {},
   "outputs": [],
   "source": []
  }
 ],
 "metadata": {
  "kernelspec": {
   "display_name": "biodesign_3.7",
   "language": "python",
   "name": "biod_3.7"
  },
  "language_info": {
   "codemirror_mode": {
    "name": "ipython",
    "version": 3
   },
   "file_extension": ".py",
   "mimetype": "text/x-python",
   "name": "python",
   "nbconvert_exporter": "python",
   "pygments_lexer": "ipython3",
   "version": "3.7.4"
  }
 },
 "nbformat": 4,
 "nbformat_minor": 4
}
