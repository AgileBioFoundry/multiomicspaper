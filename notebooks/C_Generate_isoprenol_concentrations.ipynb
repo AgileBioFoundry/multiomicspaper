{
 "cells": [
  {
   "cell_type": "markdown",
   "metadata": {},
   "source": [
    "# Calculation of isoprenol concentrations for different strain designs"
   ]
  },
  {
   "cell_type": "markdown",
   "metadata": {},
   "source": [
    "Tested using **biodesign_3.7** kernel on the jprime.lbl.gov server. It uses the cplex library for running the MOMA optimization"
   ]
  },
  {
   "cell_type": "markdown",
   "metadata": {},
   "source": [
    "#### The two files that are necessary for the notebook to run are:\n",
    "   - A modified E. coli model with the isopentenol pathway added to it (`iJO1366_MVA.json` file in the `../data/models` directory)\n",
    "   - A set of designs (e.g. `../data/ice_mo_strains.csv` exported from ICE) containing the details of which reactions are either:\n",
    "       - (0) eliminated \n",
    "       - (1) included\n",
    "       - (2) doubled the flux"
   ]
  },
  {
   "cell_type": "markdown",
   "metadata": {},
   "source": [
    "#### Running the cells below will generate the following output files for EDD import:\n",
    "\n",
    "- `experiment_description_file.csv`\n",
    "- `isoprenol_production.csv`\n",
    "    "
   ]
  },
  {
   "cell_type": "markdown",
   "metadata": {},
   "source": [
    "## Setup"
   ]
  },
  {
   "cell_type": "markdown",
   "metadata": {},
   "source": [
    "Clone the git repository with the `OMG` library:\n",
    "\n",
    "`git clone https://github.com/JBEI/OMG.git --branch omgforallhosts --single-branch`\n",
    "\n",
    "or pull the latest version."
   ]
  },
  {
   "cell_type": "code",
   "execution_count": 50,
   "metadata": {},
   "outputs": [],
   "source": [
    "import sys\n",
    "import os\n",
    "\n",
    "sys.path.insert(1, '../../OMG')\n",
    "sys.path.append('../')\n",
    "\n",
    "import cobra\n",
    "import pandas as pd\n",
    "import omg \n",
    "from plot import *\n"
   ]
  },
  {
   "cell_type": "markdown",
   "metadata": {},
   "source": [
    "## User parameters"
   ]
  },
  {
   "cell_type": "code",
   "execution_count": 3,
   "metadata": {},
   "outputs": [],
   "source": [
    "user_params = {\n",
    "    'host': 'ecoli', # ecoli or ropacus\n",
    "    'modelfile': '../data/models/iJO1366_MVA.json',\n",
    "    'cerevisiae_modelfile': '../data/models/iMM904.json',\n",
    "    'timestart': 0.0,\n",
    "    'timestop': 8.0,\n",
    "    'numtimepoints': 9,\n",
    "    'designsfile': 'ice_mo_strains.csv',\n",
    "    'designsfilepath': '../data/',\n",
    "    'mapping_file': '../mapping/inchikey_to_cid.txt',\n",
    "    'output_file_path': '../data/omg_output',\n",
    "    'edd_omics_file_path': '../data/omg_output/edd/',\n",
    "    'numreactions': 8,\n",
    "    'numinstances': 96,\n",
    "    'ext_metabolites': {\n",
    "        'glc__D_e': 22.203,\n",
    "        'nh4_e': 18.695,\n",
    "        'pi_e': 69.454,\n",
    "        'so4_e': 2.0,\n",
    "        'mg2_e': 2.0,\n",
    "        'k_e': 21.883,\n",
    "        'na1_e': 103.7,\n",
    "        'cl_e': 27.25,\n",
    "        'isoprenol_e': 0.0,\n",
    "        'ac_e': 0.0,\n",
    "        'for_e': 0.0,\n",
    "        'lac__D_e': 0.0,\n",
    "        'etoh_e': 0.0\n",
    "    },\n",
    "    'initial_OD': 0.01,\n",
    "    'BIOMASS_REACTION_ID': 'BIOMASS_Ec_iJO1366_core_53p95M'\n",
    "} "
   ]
  },
  {
   "cell_type": "markdown",
   "metadata": {},
   "source": [
    "## Using the OMG library functions for creating synthetic multiomics data"
   ]
  },
  {
   "cell_type": "markdown",
   "metadata": {},
   "source": [
    "### 1) Getting and preparing the metabolic model"
   ]
  },
  {
   "cell_type": "markdown",
   "metadata": {},
   "source": [
    "First we obtain the metabolic model:"
   ]
  },
  {
   "cell_type": "code",
   "execution_count": 4,
   "metadata": {},
   "outputs": [],
   "source": [
    "file_name = user_params['modelfile']\n",
    "model = cobra.io.load_json_model(file_name)"
   ]
  },
  {
   "cell_type": "markdown",
   "metadata": {},
   "source": [
    "#### Check if isopentenol pathway is present in the model, else add it using the *S. Cerevisiae* model"
   ]
  },
  {
   "cell_type": "code",
   "execution_count": 5,
   "metadata": {},
   "outputs": [],
   "source": [
    "if not omg.model_has_IPP_pathway(model):\n",
    "    print(\"Isopentenol pathway is present in the model\")\n",
    "    sce_filename = user_params['cerevisiae_modelfile']\n",
    "    try:\n",
    "        sce_model = cobra.io.load_json_model(sce_filename)\n",
    "    except IOError:\n",
    "        print(\"Could not read file:\", sce_filename)\n",
    "    else:\n",
    "        # add pathway to model\n",
    "        omg.add_isopentenol_pathway(model, sce_model)"
   ]
  },
  {
   "cell_type": "markdown",
   "metadata": {},
   "source": [
    "We now add minimum flux constraints for production of isopentenol and formate, and we limit oxygen intake:"
   ]
  },
  {
   "cell_type": "code",
   "execution_count": 6,
   "metadata": {},
   "outputs": [],
   "source": [
    "iso = 'EX_isoprenol_e'\n",
    "iso_cons = model.problem.Constraint(model.reactions.EX_isoprenol_e.flux_expression,lb = 0.20)\n",
    "model.add_cons_vars(iso_cons)\n",
    "for_cons = model.problem.Constraint(model.reactions.EX_for_e.flux_expression,lb = 0.10)\n",
    "model.add_cons_vars(for_cons)\n",
    "o2_cons = model.problem.Constraint(model.reactions.EX_o2_e.flux_expression,lb = -8.0)\n",
    "model.add_cons_vars(o2_cons)\n"
   ]
  },
  {
   "cell_type": "markdown",
   "metadata": {},
   "source": [
    "And then we constrain several central carbon metabolism fluxes to more realistic upper and lower bounds:"
   ]
  },
  {
   "cell_type": "code",
   "execution_count": 7,
   "metadata": {},
   "outputs": [],
   "source": [
    "CC_rxn_names = ['ACCOAC','MDH','PTAr','CS','ACACT1r','PPC','PPCK','PFL']\n",
    "for reaction in CC_rxn_names:\n",
    "    reaction_constraint = model.problem.Constraint(model.reactions.get_by_id(reaction).flux_expression,lb = -1.0,ub =  1.0)\n",
    "    model.add_cons_vars(reaction_constraint)"
   ]
  },
  {
   "cell_type": "markdown",
   "metadata": {},
   "source": [
    "We also create a similar model with a higher production of isopentenol, which we will use with MOMA to simulate bioengineered strains:"
   ]
  },
  {
   "cell_type": "code",
   "execution_count": 8,
   "metadata": {},
   "outputs": [],
   "source": [
    "modelHI = model.copy()\n",
    "iso_cons = modelHI.problem.Constraint(modelHI.reactions.EX_isoprenol_e.flux_expression,lb = 0.25)\n",
    "modelHI.add_cons_vars(iso_cons)"
   ]
  },
  {
   "cell_type": "markdown",
   "metadata": {},
   "source": [
    "### 2) Obtaining times series"
   ]
  },
  {
   "cell_type": "markdown",
   "metadata": {},
   "source": [
    "Create first time grid for simulation:"
   ]
  },
  {
   "cell_type": "code",
   "execution_count": 9,
   "metadata": {},
   "outputs": [],
   "source": [
    "t0 = user_params['timestart']\n",
    "tf = user_params['timestop']\n",
    "points = user_params['numtimepoints']\n",
    "tspan, delt = np.linspace(t0, tf, points, dtype='float64', retstep=True)\n",
    "\n",
    "grid = (tspan, delt)"
   ]
  },
  {
   "cell_type": "markdown",
   "metadata": {},
   "source": [
    "We then use this model to obtain the times series for fluxes, OD and external metabolites:"
   ]
  },
  {
   "cell_type": "code",
   "execution_count": 10,
   "metadata": {},
   "outputs": [
    {
     "name": "stdout",
     "output_type": "stream",
     "text": [
      "0.0 optimal 0.5363612610171437\n",
      "1.0 optimal 0.5363612610171437\n",
      "2.0 optimal 0.5363612610171437\n",
      "3.0 optimal 0.5363612610171437\n",
      "4.0 optimal 0.5363612610171437\n",
      "5.0 optimal 0.5363612610171437\n",
      "6.0 optimal 0.5363612610171437\n",
      "7.0 optimal 0.5363612610171437\n",
      "8.0 optimal 0.5363612610171437\n"
     ]
    }
   ],
   "source": [
    "solution_TS, model_TS, cell, Emets, Erxn2Emet = \\\n",
    "    omg.get_flux_time_series(model, user_params['ext_metabolites'], grid, user_params)"
   ]
  },
  {
   "cell_type": "markdown",
   "metadata": {},
   "source": [
    "We perform the same calculation for the model with higher isoprenol production that we created above:"
   ]
  },
  {
   "cell_type": "code",
   "execution_count": 11,
   "metadata": {},
   "outputs": [
    {
     "name": "stdout",
     "output_type": "stream",
     "text": [
      "0.0 optimal 0.5352266385352652\n",
      "1.0 optimal 0.5352266385352652\n",
      "2.0 optimal 0.5352266385352652\n",
      "3.0 optimal 0.5352266385352652\n",
      "4.0 optimal 0.5352266385352652\n",
      "5.0 optimal 0.5352266385352652\n",
      "6.0 optimal 0.5352266385352652\n",
      "7.0 optimal 0.5352266385352652\n",
      "8.0 optimal 0.5352266385352652\n"
     ]
    }
   ],
   "source": [
    "solutionHI_TS, modelHI_TS, cellHI, EmetsHI, Erxn2EmetHI = \\\n",
    "    omg.get_flux_time_series(modelHI, user_params['ext_metabolites'], grid, user_params)"
   ]
  },
  {
   "cell_type": "markdown",
   "metadata": {},
   "source": [
    "### 3) Getting bioengineered flux profiles through MOMA"
   ]
  },
  {
   "cell_type": "markdown",
   "metadata": {},
   "source": [
    "First obtain the file from ICE with suggested designs (i.e. reactions kos and overexpressions):"
   ]
  },
  {
   "cell_type": "code",
   "execution_count": 12,
   "metadata": {},
   "outputs": [
    {
     "data": {
      "text/html": [
       "<div>\n",
       "<style scoped>\n",
       "    .dataframe tbody tr th:only-of-type {\n",
       "        vertical-align: middle;\n",
       "    }\n",
       "\n",
       "    .dataframe tbody tr th {\n",
       "        vertical-align: top;\n",
       "    }\n",
       "\n",
       "    .dataframe thead th {\n",
       "        text-align: right;\n",
       "    }\n",
       "</style>\n",
       "<table border=\"1\" class=\"dataframe\">\n",
       "  <thead>\n",
       "    <tr style=\"text-align: right;\">\n",
       "      <th></th>\n",
       "      <th>Part ID</th>\n",
       "      <th>Line Name</th>\n",
       "      <th>Line Description</th>\n",
       "    </tr>\n",
       "  </thead>\n",
       "  <tbody>\n",
       "    <tr>\n",
       "      <th>0</th>\n",
       "      <td>ABFPUB_000215</td>\n",
       "      <td>Strain 1</td>\n",
       "      <td>ACCOAC_1.0_MDH_1.0_PTAr_2.0_CS_0.0_ACACT1r_2.0...</td>\n",
       "    </tr>\n",
       "    <tr>\n",
       "      <th>1</th>\n",
       "      <td>ABFPUB_000216</td>\n",
       "      <td>Strain 2</td>\n",
       "      <td>ACCOAC_1.0_MDH_2.0_PTAr_2.0_CS_2.0_ACACT1r_2.0...</td>\n",
       "    </tr>\n",
       "  </tbody>\n",
       "</table>\n",
       "</div>"
      ],
      "text/plain": [
       "         Part ID Line Name                                   Line Description\n",
       "0  ABFPUB_000215  Strain 1  ACCOAC_1.0_MDH_1.0_PTAr_2.0_CS_0.0_ACACT1r_2.0...\n",
       "1  ABFPUB_000216  Strain 2  ACCOAC_1.0_MDH_2.0_PTAr_2.0_CS_2.0_ACACT1r_2.0..."
      ]
     },
     "execution_count": 12,
     "metadata": {},
     "output_type": "execute_result"
    }
   ],
   "source": [
    "designs_df = pd.read_csv(f'{user_params[\"designsfilepath\"]}/{user_params[\"designsfile\"]}',\n",
    "                        usecols=['Part ID', 'Name', 'Summary'])\n",
    "designs_df.columns = ['Part ID','Line Name','Line Description']\n",
    "designs_df[:2]"
   ]
  },
  {
   "cell_type": "markdown",
   "metadata": {},
   "source": [
    "Save the `experiment_description_file.csv` for EDD import:"
   ]
  },
  {
   "cell_type": "code",
   "execution_count": 13,
   "metadata": {},
   "outputs": [],
   "source": [
    "experiment_description_file_name = f'{user_params[\"edd_omics_file_path\"]}/experiment_description_file.csv'\n",
    "\n",
    "with open(experiment_description_file_name, 'w') as fh:\n",
    "    fh.write('Part ID, Line Name, Line Description, Media, Shaking Speed, Starting OD, Culture Volume, Flask Volume, Growth Temperature, Replicate Count\\n')\n",
    "    for i in range(len(designs_df)):\n",
    "        fh.write(f\"{designs_df.loc[i]['Part ID']}, \\\n",
    "                 {designs_df.loc[i]['Line Name']}, \\\n",
    "                 {designs_df.loc[i]['Line Description']}, \\\n",
    "                 M9, 1, 0.1, 50, 200, 30, 1\\n\")\n",
    "   "
   ]
  },
  {
   "cell_type": "markdown",
   "metadata": {},
   "source": [
    "Read information from Line Description and store into separate columns:"
   ]
  },
  {
   "cell_type": "code",
   "execution_count": 14,
   "metadata": {},
   "outputs": [],
   "source": [
    "# Add columns for each reaction\n",
    "reactions = designs_df['Line Description'][0].split('_')[::2]\n",
    "for rxn in reactions:\n",
    "    designs_df[rxn] = None\n",
    "\n",
    "# And assign values for each reaction and line\n",
    "for i in range(len(designs_df)):\n",
    "    if designs_df['Line Name'][i]=='WT':\n",
    "        designs_df.loc[i][reactions] = [1 for r in range(len(reactions))]\n",
    "    else:\n",
    "        values = designs_df.loc[i]['Line Description'].split('_')[1::2]\n",
    "        designs_df.loc[i][reactions] = [float(value) for value in values]\n",
    "\n",
    "designs_df = designs_df.drop(columns='Line Description')"
   ]
  },
  {
   "cell_type": "markdown",
   "metadata": {},
   "source": [
    "Each design (line) involves the modification of up to 8 fluxes (1 -> keep the same; 2-> double flux, 0-> knock reaction out):"
   ]
  },
  {
   "cell_type": "code",
   "execution_count": 15,
   "metadata": {},
   "outputs": [
    {
     "data": {
      "text/html": [
       "<div>\n",
       "<style scoped>\n",
       "    .dataframe tbody tr th:only-of-type {\n",
       "        vertical-align: middle;\n",
       "    }\n",
       "\n",
       "    .dataframe tbody tr th {\n",
       "        vertical-align: top;\n",
       "    }\n",
       "\n",
       "    .dataframe thead th {\n",
       "        text-align: right;\n",
       "    }\n",
       "</style>\n",
       "<table border=\"1\" class=\"dataframe\">\n",
       "  <thead>\n",
       "    <tr style=\"text-align: right;\">\n",
       "      <th></th>\n",
       "      <th>Part ID</th>\n",
       "      <th>Line Name</th>\n",
       "      <th>ACCOAC</th>\n",
       "      <th>MDH</th>\n",
       "      <th>PTAr</th>\n",
       "      <th>CS</th>\n",
       "      <th>ACACT1r</th>\n",
       "      <th>PPC</th>\n",
       "      <th>PPCK</th>\n",
       "      <th>PFL</th>\n",
       "    </tr>\n",
       "  </thead>\n",
       "  <tbody>\n",
       "    <tr>\n",
       "      <th>91</th>\n",
       "      <td>ABFPUB_000306</td>\n",
       "      <td>Strain 92</td>\n",
       "      <td>0</td>\n",
       "      <td>0</td>\n",
       "      <td>2</td>\n",
       "      <td>2</td>\n",
       "      <td>0</td>\n",
       "      <td>2</td>\n",
       "      <td>0</td>\n",
       "      <td>2</td>\n",
       "    </tr>\n",
       "    <tr>\n",
       "      <th>92</th>\n",
       "      <td>ABFPUB_000307</td>\n",
       "      <td>Strain 93</td>\n",
       "      <td>1</td>\n",
       "      <td>2</td>\n",
       "      <td>0</td>\n",
       "      <td>0</td>\n",
       "      <td>0</td>\n",
       "      <td>2</td>\n",
       "      <td>2</td>\n",
       "      <td>0</td>\n",
       "    </tr>\n",
       "    <tr>\n",
       "      <th>93</th>\n",
       "      <td>ABFPUB_000308</td>\n",
       "      <td>Strain 94</td>\n",
       "      <td>0</td>\n",
       "      <td>2</td>\n",
       "      <td>0</td>\n",
       "      <td>1</td>\n",
       "      <td>0</td>\n",
       "      <td>2</td>\n",
       "      <td>1</td>\n",
       "      <td>1</td>\n",
       "    </tr>\n",
       "    <tr>\n",
       "      <th>94</th>\n",
       "      <td>ABFPUB_000309</td>\n",
       "      <td>Strain 95</td>\n",
       "      <td>0</td>\n",
       "      <td>1</td>\n",
       "      <td>2</td>\n",
       "      <td>0</td>\n",
       "      <td>1</td>\n",
       "      <td>1</td>\n",
       "      <td>0</td>\n",
       "      <td>2</td>\n",
       "    </tr>\n",
       "    <tr>\n",
       "      <th>95</th>\n",
       "      <td>ABFPUB_000310</td>\n",
       "      <td>WT</td>\n",
       "      <td>1</td>\n",
       "      <td>1</td>\n",
       "      <td>1</td>\n",
       "      <td>1</td>\n",
       "      <td>1</td>\n",
       "      <td>1</td>\n",
       "      <td>1</td>\n",
       "      <td>1</td>\n",
       "    </tr>\n",
       "  </tbody>\n",
       "</table>\n",
       "</div>"
      ],
      "text/plain": [
       "          Part ID  Line Name ACCOAC MDH PTAr CS ACACT1r PPC PPCK PFL\n",
       "91  ABFPUB_000306  Strain 92      0   0    2  2       0   2    0   2\n",
       "92  ABFPUB_000307  Strain 93      1   2    0  0       0   2    2   0\n",
       "93  ABFPUB_000308  Strain 94      0   2    0  1       0   2    1   1\n",
       "94  ABFPUB_000309  Strain 95      0   1    2  0       1   1    0   2\n",
       "95  ABFPUB_000310         WT      1   1    1  1       1   1    1   1"
      ]
     },
     "execution_count": 15,
     "metadata": {},
     "output_type": "execute_result"
    }
   ],
   "source": [
    "designs_df.tail()"
   ]
  },
  {
   "cell_type": "markdown",
   "metadata": {},
   "source": [
    "We then use MOMA to calculate flux profiles at each time point for the bioengineered strains. Instead of using the solution time series corresponding to the initial model, we use the solution time series corresponding to the higher production. The reason is that, otherwise, we would never see an increase in isoprenol production, since MOMA minimizes the changes in flux by design. Remember that our goal here is just to create realistic flux profiles that can be used to showcase ART. This approach is good enough: "
   ]
  },
  {
   "cell_type": "code",
   "execution_count": 38,
   "metadata": {},
   "outputs": [
    {
     "name": "stdout",
     "output_type": "stream",
     "text": [
      "CPU times: user 1h 35min 57s, sys: 41.2 s, total: 1h 36min 38s\n",
      "Wall time: 1h 36min 49s\n"
     ]
    }
   ],
   "source": [
    "%%time\n",
    "solutionsMOMA_TS = {}\n",
    "cols = ['Line Name']\n",
    "cols.extend(reactions)\n",
    "\n",
    "if user_params['numinstances'] not in [None, 0]:\n",
    "    num_strains = user_params['numinstances']\n",
    "else:\n",
    "    num_strains = design_df.shape[0]\n",
    "\n",
    "for i in range(num_strains):\n",
    "    design = designs_df[cols].loc[i]\n",
    "    if design['Line Name']=='WT':\n",
    "        solutionsMOMA_TS[i] = omg.getBEFluxes(model_TS, design, solution_TS, grid)\n",
    "    else:\n",
    "        solutionsMOMA_TS[i] = omg.getBEFluxes(model_TS, design, solutionHI_TS, grid)"
   ]
  },
  {
   "cell_type": "markdown",
   "metadata": {},
   "source": [
    "We can check that the knocked out fluxes are zero:"
   ]
  },
  {
   "cell_type": "code",
   "execution_count": 39,
   "metadata": {},
   "outputs": [
    {
     "name": "stdout",
     "output_type": "stream",
     "text": [
      "Part ID      ABFPUB_000215\n",
      "Line Name         Strain 1\n",
      "ACCOAC                   1\n",
      "MDH                      1\n",
      "PTAr                     2\n",
      "CS                       0\n",
      "ACACT1r                  2\n",
      "PPC                      0\n",
      "PPCK                     0\n",
      "PFL                      0\n",
      "Name: 0, dtype: object \n",
      "\n",
      "CS: 0.0\n",
      "PPC: 0.0\n",
      "PPCK: 0.0\n",
      "PFL: 0.0\n"
     ]
    }
   ],
   "source": [
    "i = 0\n",
    "print(designs_df.loc[i,:], '\\n')\n",
    "for rxn in ['CS','PPC','PPCK','PFL']:\n",
    "    print(f'{rxn}: {solutionsMOMA_TS[i][5].fluxes[rxn]}')"
   ]
  },
  {
   "cell_type": "markdown",
   "metadata": {},
   "source": [
    "### 4) Producing the external metabolite concentrations for each bioengineered strain "
   ]
  },
  {
   "cell_type": "markdown",
   "metadata": {},
   "source": [
    "Here we use the `integrate_fluxes` function to produce the external metabolite concentrations compatible with the calculated fluxes:"
   ]
  },
  {
   "cell_type": "code",
   "execution_count": 40,
   "metadata": {},
   "outputs": [
    {
     "name": "stdout",
     "output_type": "stream",
     "text": [
      "CPU times: user 2.28 s, sys: 36 ms, total: 2.32 s\n",
      "Wall time: 2.32 s\n"
     ]
    }
   ],
   "source": [
    "%%time\n",
    "cellsEmetsBE = {}\n",
    "for i in range(num_strains):\n",
    "    cell, Emets = omg.integrate_fluxes(solutionsMOMA_TS[i], model_TS, user_params['ext_metabolites'], grid, user_params)\n",
    "    cellsEmetsBE[i] = (cell, Emets) \n"
   ]
  },
  {
   "cell_type": "markdown",
   "metadata": {},
   "source": [
    "We can check we obtain the same result with this function for the wild type as we did before in notebook A:"
   ]
  },
  {
   "cell_type": "code",
   "execution_count": 41,
   "metadata": {},
   "outputs": [],
   "source": [
    "cellWT, EmetsWT = omg.integrate_fluxes(solution_TS, model_TS, user_params['ext_metabolites'], grid, user_params)"
   ]
  },
  {
   "cell_type": "code",
   "execution_count": 42,
   "metadata": {},
   "outputs": [
    {
     "data": {
      "text/html": [
       "<div>\n",
       "<style scoped>\n",
       "    .dataframe tbody tr th:only-of-type {\n",
       "        vertical-align: middle;\n",
       "    }\n",
       "\n",
       "    .dataframe tbody tr th {\n",
       "        vertical-align: top;\n",
       "    }\n",
       "\n",
       "    .dataframe thead th {\n",
       "        text-align: right;\n",
       "    }\n",
       "</style>\n",
       "<table border=\"1\" class=\"dataframe\">\n",
       "  <thead>\n",
       "    <tr style=\"text-align: right;\">\n",
       "      <th></th>\n",
       "      <th>glc__D_e</th>\n",
       "      <th>nh4_e</th>\n",
       "      <th>pi_e</th>\n",
       "      <th>so4_e</th>\n",
       "      <th>mg2_e</th>\n",
       "      <th>k_e</th>\n",
       "      <th>na1_e</th>\n",
       "      <th>cl_e</th>\n",
       "      <th>isoprenol_e</th>\n",
       "      <th>ac_e</th>\n",
       "      <th>for_e</th>\n",
       "      <th>lac__D_e</th>\n",
       "      <th>etoh_e</th>\n",
       "    </tr>\n",
       "  </thead>\n",
       "  <tbody>\n",
       "    <tr>\n",
       "      <th>0.0</th>\n",
       "      <td>22.0707</td>\n",
       "      <td>18.6183</td>\n",
       "      <td>69.4472</td>\n",
       "      <td>1.99821</td>\n",
       "      <td>1.99994</td>\n",
       "      <td>21.8816</td>\n",
       "      <td>103.7</td>\n",
       "      <td>27.25</td>\n",
       "      <td>0.00264663</td>\n",
       "      <td>0.027405</td>\n",
       "      <td>0.00132331</td>\n",
       "      <td>0.102538</td>\n",
       "      <td>0</td>\n",
       "    </tr>\n",
       "    <tr>\n",
       "      <th>1.0</th>\n",
       "      <td>21.8444</td>\n",
       "      <td>18.4873</td>\n",
       "      <td>69.4354</td>\n",
       "      <td>1.99515</td>\n",
       "      <td>1.99983</td>\n",
       "      <td>21.8792</td>\n",
       "      <td>103.7</td>\n",
       "      <td>27.2499</td>\n",
       "      <td>0.00717176</td>\n",
       "      <td>0.0742613</td>\n",
       "      <td>0.00358588</td>\n",
       "      <td>0.277855</td>\n",
       "      <td>0</td>\n",
       "    </tr>\n",
       "    <tr>\n",
       "      <th>2.0</th>\n",
       "      <td>21.4576</td>\n",
       "      <td>18.2632</td>\n",
       "      <td>69.4154</td>\n",
       "      <td>1.98992</td>\n",
       "      <td>1.99965</td>\n",
       "      <td>21.8752</td>\n",
       "      <td>103.7</td>\n",
       "      <td>27.2498</td>\n",
       "      <td>0.0149087</td>\n",
       "      <td>0.154375</td>\n",
       "      <td>0.00745436</td>\n",
       "      <td>0.577608</td>\n",
       "      <td>0</td>\n",
       "    </tr>\n",
       "    <tr>\n",
       "      <th>3.0</th>\n",
       "      <td>20.7961</td>\n",
       "      <td>17.88</td>\n",
       "      <td>69.3812</td>\n",
       "      <td>1.98097</td>\n",
       "      <td>1.99935</td>\n",
       "      <td>21.8683</td>\n",
       "      <td>103.7</td>\n",
       "      <td>27.2496</td>\n",
       "      <td>0.0281372</td>\n",
       "      <td>0.291351</td>\n",
       "      <td>0.0140686</td>\n",
       "      <td>1.09012</td>\n",
       "      <td>0</td>\n",
       "    </tr>\n",
       "    <tr>\n",
       "      <th>4.0</th>\n",
       "      <td>19.6653</td>\n",
       "      <td>17.2248</td>\n",
       "      <td>69.3227</td>\n",
       "      <td>1.96567</td>\n",
       "      <td>1.99882</td>\n",
       "      <td>21.8564</td>\n",
       "      <td>103.7</td>\n",
       "      <td>27.2493</td>\n",
       "      <td>0.0507548</td>\n",
       "      <td>0.52555</td>\n",
       "      <td>0.0253774</td>\n",
       "      <td>1.96639</td>\n",
       "      <td>0</td>\n",
       "    </tr>\n",
       "    <tr>\n",
       "      <th>5.0</th>\n",
       "      <td>17.7317</td>\n",
       "      <td>16.1047</td>\n",
       "      <td>69.2227</td>\n",
       "      <td>1.93951</td>\n",
       "      <td>1.99792</td>\n",
       "      <td>21.8362</td>\n",
       "      <td>103.7</td>\n",
       "      <td>27.2488</td>\n",
       "      <td>0.0894259</td>\n",
       "      <td>0.925977</td>\n",
       "      <td>0.044713</td>\n",
       "      <td>3.46462</td>\n",
       "      <td>0</td>\n",
       "    </tr>\n",
       "    <tr>\n",
       "      <th>6.0</th>\n",
       "      <td>14.4258</td>\n",
       "      <td>14.1895</td>\n",
       "      <td>69.0516</td>\n",
       "      <td>1.89479</td>\n",
       "      <td>1.99638</td>\n",
       "      <td>21.8016</td>\n",
       "      <td>103.7</td>\n",
       "      <td>27.2478</td>\n",
       "      <td>0.155545</td>\n",
       "      <td>1.61062</td>\n",
       "      <td>0.0777724</td>\n",
       "      <td>6.02626</td>\n",
       "      <td>0</td>\n",
       "    </tr>\n",
       "    <tr>\n",
       "      <th>7.0</th>\n",
       "      <td>8.77335</td>\n",
       "      <td>10.915</td>\n",
       "      <td>68.7592</td>\n",
       "      <td>1.81833</td>\n",
       "      <td>1.99375</td>\n",
       "      <td>21.7424</td>\n",
       "      <td>103.7</td>\n",
       "      <td>27.2463</td>\n",
       "      <td>0.268593</td>\n",
       "      <td>2.7812</td>\n",
       "      <td>0.134297</td>\n",
       "      <td>10.4061</td>\n",
       "      <td>0</td>\n",
       "    </tr>\n",
       "    <tr>\n",
       "      <th>8.0</th>\n",
       "      <td>0</td>\n",
       "      <td>5.31631</td>\n",
       "      <td>68.2591</td>\n",
       "      <td>1.68759</td>\n",
       "      <td>1.98925</td>\n",
       "      <td>21.6412</td>\n",
       "      <td>103.7</td>\n",
       "      <td>27.2436</td>\n",
       "      <td>0.46188</td>\n",
       "      <td>4.78262</td>\n",
       "      <td>0.23094</td>\n",
       "      <td>17.8946</td>\n",
       "      <td>0</td>\n",
       "    </tr>\n",
       "    <tr>\n",
       "      <th>9.0</th>\n",
       "      <td>0</td>\n",
       "      <td>5.31631</td>\n",
       "      <td>68.2591</td>\n",
       "      <td>1.68759</td>\n",
       "      <td>1.98925</td>\n",
       "      <td>21.6412</td>\n",
       "      <td>103.7</td>\n",
       "      <td>27.2436</td>\n",
       "      <td>0.46188</td>\n",
       "      <td>4.78262</td>\n",
       "      <td>0.23094</td>\n",
       "      <td>17.8946</td>\n",
       "      <td>0</td>\n",
       "    </tr>\n",
       "  </tbody>\n",
       "</table>\n",
       "</div>"
      ],
      "text/plain": [
       "    glc__D_e    nh4_e     pi_e    so4_e    mg2_e      k_e  na1_e     cl_e  \\\n",
       "0.0  22.0707  18.6183  69.4472  1.99821  1.99994  21.8816  103.7    27.25   \n",
       "1.0  21.8444  18.4873  69.4354  1.99515  1.99983  21.8792  103.7  27.2499   \n",
       "2.0  21.4576  18.2632  69.4154  1.98992  1.99965  21.8752  103.7  27.2498   \n",
       "3.0  20.7961    17.88  69.3812  1.98097  1.99935  21.8683  103.7  27.2496   \n",
       "4.0  19.6653  17.2248  69.3227  1.96567  1.99882  21.8564  103.7  27.2493   \n",
       "5.0  17.7317  16.1047  69.2227  1.93951  1.99792  21.8362  103.7  27.2488   \n",
       "6.0  14.4258  14.1895  69.0516  1.89479  1.99638  21.8016  103.7  27.2478   \n",
       "7.0  8.77335   10.915  68.7592  1.81833  1.99375  21.7424  103.7  27.2463   \n",
       "8.0        0  5.31631  68.2591  1.68759  1.98925  21.6412  103.7  27.2436   \n",
       "9.0        0  5.31631  68.2591  1.68759  1.98925  21.6412  103.7  27.2436   \n",
       "\n",
       "    isoprenol_e       ac_e       for_e  lac__D_e etoh_e  \n",
       "0.0  0.00264663   0.027405  0.00132331  0.102538      0  \n",
       "1.0  0.00717176  0.0742613  0.00358588  0.277855      0  \n",
       "2.0   0.0149087   0.154375  0.00745436  0.577608      0  \n",
       "3.0   0.0281372   0.291351   0.0140686   1.09012      0  \n",
       "4.0   0.0507548    0.52555   0.0253774   1.96639      0  \n",
       "5.0   0.0894259   0.925977    0.044713   3.46462      0  \n",
       "6.0    0.155545    1.61062   0.0777724   6.02626      0  \n",
       "7.0    0.268593     2.7812    0.134297   10.4061      0  \n",
       "8.0     0.46188    4.78262     0.23094   17.8946      0  \n",
       "9.0     0.46188    4.78262     0.23094   17.8946      0  "
      ]
     },
     "execution_count": 42,
     "metadata": {},
     "output_type": "execute_result"
    }
   ],
   "source": [
    "EmetsWT"
   ]
  },
  {
   "cell_type": "code",
   "execution_count": 43,
   "metadata": {},
   "outputs": [
    {
     "data": {
      "image/png": "[encoded data removed]",
      "text/plain": [
       "<Figure size 864x288 with 2 Axes>"
      ]
     },
     "metadata": {
      "needs_background": "light"
     },
     "output_type": "display_data"
    }
   ],
   "source": [
    "plot_DO_extmets(cellWT, EmetsWT[['glc__D_e','isoprenol_e','ac_e','for_e','lac__D_e','etoh_e']])"
   ]
  },
  {
   "cell_type": "markdown",
   "metadata": {},
   "source": [
    "And compare with any other bioengineered strain:"
   ]
  },
  {
   "cell_type": "code",
   "execution_count": 44,
   "metadata": {},
   "outputs": [
    {
     "data": {
      "image/png": "[encoded data removed]",
      "text/plain": [
       "<Figure size 864x288 with 2 Axes>"
      ]
     },
     "metadata": {
      "needs_background": "light"
     },
     "output_type": "display_data"
    }
   ],
   "source": [
    "i = 2\n",
    "cellBE, EmetsBE = cellsEmetsBE[i]\n",
    "plot_DO_extmets(cellBE, EmetsBE[['glc__D_e','isoprenol_e','ac_e','for_e','lac__D_e','etoh_e']])"
   ]
  },
  {
   "cell_type": "code",
   "execution_count": 45,
   "metadata": {},
   "outputs": [
    {
     "data": {
      "text/html": [
       "<div>\n",
       "<style scoped>\n",
       "    .dataframe tbody tr th:only-of-type {\n",
       "        vertical-align: middle;\n",
       "    }\n",
       "\n",
       "    .dataframe tbody tr th {\n",
       "        vertical-align: top;\n",
       "    }\n",
       "\n",
       "    .dataframe thead th {\n",
       "        text-align: right;\n",
       "    }\n",
       "</style>\n",
       "<table border=\"1\" class=\"dataframe\">\n",
       "  <thead>\n",
       "    <tr style=\"text-align: right;\">\n",
       "      <th></th>\n",
       "      <th>glc__D_e</th>\n",
       "      <th>nh4_e</th>\n",
       "      <th>pi_e</th>\n",
       "      <th>so4_e</th>\n",
       "      <th>mg2_e</th>\n",
       "      <th>k_e</th>\n",
       "      <th>na1_e</th>\n",
       "      <th>cl_e</th>\n",
       "      <th>isoprenol_e</th>\n",
       "      <th>ac_e</th>\n",
       "      <th>for_e</th>\n",
       "      <th>lac__D_e</th>\n",
       "      <th>etoh_e</th>\n",
       "    </tr>\n",
       "  </thead>\n",
       "  <tbody>\n",
       "    <tr>\n",
       "      <th>0.0</th>\n",
       "      <td>22.0752</td>\n",
       "      <td>18.6209</td>\n",
       "      <td>69.4481</td>\n",
       "      <td>1.99814</td>\n",
       "      <td>1.99995</td>\n",
       "      <td>21.8818</td>\n",
       "      <td>103.7</td>\n",
       "      <td>27.25</td>\n",
       "      <td>0.00305532</td>\n",
       "      <td>0.0274419</td>\n",
       "      <td>0.00127792</td>\n",
       "      <td>0.0961986</td>\n",
       "      <td>0</td>\n",
       "    </tr>\n",
       "    <tr>\n",
       "      <th>1.0</th>\n",
       "      <td>21.8703</td>\n",
       "      <td>18.5022</td>\n",
       "      <td>69.4387</td>\n",
       "      <td>1.99517</td>\n",
       "      <td>1.99986</td>\n",
       "      <td>21.8799</td>\n",
       "      <td>103.7</td>\n",
       "      <td>27.2499</td>\n",
       "      <td>0.00795333</td>\n",
       "      <td>0.0714341</td>\n",
       "      <td>0.00332657</td>\n",
       "      <td>0.250415</td>\n",
       "      <td>0</td>\n",
       "    </tr>\n",
       "    <tr>\n",
       "      <th>2.0</th>\n",
       "      <td>21.5419</td>\n",
       "      <td>18.3118</td>\n",
       "      <td>69.4236</td>\n",
       "      <td>1.99039</td>\n",
       "      <td>1.99973</td>\n",
       "      <td>21.8769</td>\n",
       "      <td>103.7</td>\n",
       "      <td>27.2498</td>\n",
       "      <td>0.0158052</td>\n",
       "      <td>0.141958</td>\n",
       "      <td>0.00661077</td>\n",
       "      <td>0.497641</td>\n",
       "      <td>0</td>\n",
       "    </tr>\n",
       "    <tr>\n",
       "      <th>3.0</th>\n",
       "      <td>21.0154</td>\n",
       "      <td>18.0067</td>\n",
       "      <td>69.3994</td>\n",
       "      <td>1.98274</td>\n",
       "      <td>1.99951</td>\n",
       "      <td>21.8721</td>\n",
       "      <td>103.7</td>\n",
       "      <td>27.2497</td>\n",
       "      <td>0.0283926</td>\n",
       "      <td>0.255016</td>\n",
       "      <td>0.0118757</td>\n",
       "      <td>0.893971</td>\n",
       "      <td>0</td>\n",
       "    </tr>\n",
       "    <tr>\n",
       "      <th>4.0</th>\n",
       "      <td>20.1714</td>\n",
       "      <td>17.5175</td>\n",
       "      <td>69.3606</td>\n",
       "      <td>1.97048</td>\n",
       "      <td>1.99917</td>\n",
       "      <td>21.8643</td>\n",
       "      <td>103.7</td>\n",
       "      <td>27.2495</td>\n",
       "      <td>0.048572</td>\n",
       "      <td>0.436261</td>\n",
       "      <td>0.0203159</td>\n",
       "      <td>1.52933</td>\n",
       "      <td>0</td>\n",
       "    </tr>\n",
       "    <tr>\n",
       "      <th>5.0</th>\n",
       "      <td>18.8183</td>\n",
       "      <td>16.7333</td>\n",
       "      <td>69.2984</td>\n",
       "      <td>1.95081</td>\n",
       "      <td>1.99861</td>\n",
       "      <td>21.8518</td>\n",
       "      <td>103.7</td>\n",
       "      <td>27.2492</td>\n",
       "      <td>0.0809214</td>\n",
       "      <td>0.726815</td>\n",
       "      <td>0.0338466</td>\n",
       "      <td>2.54788</td>\n",
       "      <td>0</td>\n",
       "    </tr>\n",
       "    <tr>\n",
       "      <th>6.0</th>\n",
       "      <td>16.6492</td>\n",
       "      <td>15.4761</td>\n",
       "      <td>69.1986</td>\n",
       "      <td>1.91929</td>\n",
       "      <td>1.99773</td>\n",
       "      <td>21.8318</td>\n",
       "      <td>103.7</td>\n",
       "      <td>27.2486</td>\n",
       "      <td>0.132781</td>\n",
       "      <td>1.1926</td>\n",
       "      <td>0.0555376</td>\n",
       "      <td>4.18072</td>\n",
       "      <td>0</td>\n",
       "    </tr>\n",
       "    <tr>\n",
       "      <th>7.0</th>\n",
       "      <td>13.1719</td>\n",
       "      <td>13.4607</td>\n",
       "      <td>69.0388</td>\n",
       "      <td>1.86876</td>\n",
       "      <td>1.9963</td>\n",
       "      <td>21.7998</td>\n",
       "      <td>103.7</td>\n",
       "      <td>27.2478</td>\n",
       "      <td>0.215919</td>\n",
       "      <td>1.93931</td>\n",
       "      <td>0.0903106</td>\n",
       "      <td>6.79835</td>\n",
       "      <td>0</td>\n",
       "    </tr>\n",
       "    <tr>\n",
       "      <th>8.0</th>\n",
       "      <td>7.59744</td>\n",
       "      <td>10.2297</td>\n",
       "      <td>68.7824</td>\n",
       "      <td>1.78775</td>\n",
       "      <td>1.99402</td>\n",
       "      <td>21.7485</td>\n",
       "      <td>103.7</td>\n",
       "      <td>27.2464</td>\n",
       "      <td>0.349196</td>\n",
       "      <td>3.13637</td>\n",
       "      <td>0.146056</td>\n",
       "      <td>10.9947</td>\n",
       "      <td>0</td>\n",
       "    </tr>\n",
       "    <tr>\n",
       "      <th>9.0</th>\n",
       "      <td>7.59744</td>\n",
       "      <td>10.2297</td>\n",
       "      <td>68.7824</td>\n",
       "      <td>1.78775</td>\n",
       "      <td>1.99402</td>\n",
       "      <td>21.7485</td>\n",
       "      <td>103.7</td>\n",
       "      <td>27.2464</td>\n",
       "      <td>0.349196</td>\n",
       "      <td>3.13637</td>\n",
       "      <td>0.146056</td>\n",
       "      <td>10.9947</td>\n",
       "      <td>0</td>\n",
       "    </tr>\n",
       "  </tbody>\n",
       "</table>\n",
       "</div>"
      ],
      "text/plain": [
       "    glc__D_e    nh4_e     pi_e    so4_e    mg2_e      k_e  na1_e     cl_e  \\\n",
       "0.0  22.0752  18.6209  69.4481  1.99814  1.99995  21.8818  103.7    27.25   \n",
       "1.0  21.8703  18.5022  69.4387  1.99517  1.99986  21.8799  103.7  27.2499   \n",
       "2.0  21.5419  18.3118  69.4236  1.99039  1.99973  21.8769  103.7  27.2498   \n",
       "3.0  21.0154  18.0067  69.3994  1.98274  1.99951  21.8721  103.7  27.2497   \n",
       "4.0  20.1714  17.5175  69.3606  1.97048  1.99917  21.8643  103.7  27.2495   \n",
       "5.0  18.8183  16.7333  69.2984  1.95081  1.99861  21.8518  103.7  27.2492   \n",
       "6.0  16.6492  15.4761  69.1986  1.91929  1.99773  21.8318  103.7  27.2486   \n",
       "7.0  13.1719  13.4607  69.0388  1.86876   1.9963  21.7998  103.7  27.2478   \n",
       "8.0  7.59744  10.2297  68.7824  1.78775  1.99402  21.7485  103.7  27.2464   \n",
       "9.0  7.59744  10.2297  68.7824  1.78775  1.99402  21.7485  103.7  27.2464   \n",
       "\n",
       "    isoprenol_e       ac_e       for_e   lac__D_e etoh_e  \n",
       "0.0  0.00305532  0.0274419  0.00127792  0.0961986      0  \n",
       "1.0  0.00795333  0.0714341  0.00332657   0.250415      0  \n",
       "2.0   0.0158052   0.141958  0.00661077   0.497641      0  \n",
       "3.0   0.0283926   0.255016   0.0118757   0.893971      0  \n",
       "4.0    0.048572   0.436261   0.0203159    1.52933      0  \n",
       "5.0   0.0809214   0.726815   0.0338466    2.54788      0  \n",
       "6.0    0.132781     1.1926   0.0555376    4.18072      0  \n",
       "7.0    0.215919    1.93931   0.0903106    6.79835      0  \n",
       "8.0    0.349196    3.13637    0.146056    10.9947      0  \n",
       "9.0    0.349196    3.13637    0.146056    10.9947      0  "
      ]
     },
     "execution_count": 45,
     "metadata": {},
     "output_type": "execute_result"
    }
   ],
   "source": [
    "EmetsBE"
   ]
  },
  {
   "cell_type": "markdown",
   "metadata": {},
   "source": [
    "### 5) Creating file with isoprenol concentrations for EDD import and training ART"
   ]
  },
  {
   "cell_type": "markdown",
   "metadata": {},
   "source": [
    "Collect all isoprenol production values in a single list first:"
   ]
  },
  {
   "cell_type": "code",
   "execution_count": 46,
   "metadata": {},
   "outputs": [],
   "source": [
    "production = []\n",
    "for i in range(user_params['numinstances']):\n",
    "    cell, Emets = cellsEmetsBE[i]\n",
    "    production.append(Emets.loc[user_params['numtimepoints'],'isoprenol_e'])"
   ]
  },
  {
   "cell_type": "markdown",
   "metadata": {},
   "source": [
    "Create new data frame and append the production"
   ]
  },
  {
   "cell_type": "code",
   "execution_count": 72,
   "metadata": {},
   "outputs": [
    {
     "data": {
      "text/html": [
       "<div>\n",
       "<style scoped>\n",
       "    .dataframe tbody tr th:only-of-type {\n",
       "        vertical-align: middle;\n",
       "    }\n",
       "\n",
       "    .dataframe tbody tr th {\n",
       "        vertical-align: top;\n",
       "    }\n",
       "\n",
       "    .dataframe thead th {\n",
       "        text-align: right;\n",
       "    }\n",
       "</style>\n",
       "<table border=\"1\" class=\"dataframe\">\n",
       "  <thead>\n",
       "    <tr style=\"text-align: right;\">\n",
       "      <th></th>\n",
       "      <th>Part ID</th>\n",
       "      <th>Line Name</th>\n",
       "      <th>ACCOAC</th>\n",
       "      <th>MDH</th>\n",
       "      <th>PTAr</th>\n",
       "      <th>CS</th>\n",
       "      <th>ACACT1r</th>\n",
       "      <th>PPC</th>\n",
       "      <th>PPCK</th>\n",
       "      <th>PFL</th>\n",
       "    </tr>\n",
       "  </thead>\n",
       "  <tbody>\n",
       "    <tr>\n",
       "      <th>0</th>\n",
       "      <td>ABFPUB_000215</td>\n",
       "      <td>Strain 1</td>\n",
       "      <td>1</td>\n",
       "      <td>1</td>\n",
       "      <td>2</td>\n",
       "      <td>0</td>\n",
       "      <td>2</td>\n",
       "      <td>0</td>\n",
       "      <td>0</td>\n",
       "      <td>0</td>\n",
       "    </tr>\n",
       "    <tr>\n",
       "      <th>1</th>\n",
       "      <td>ABFPUB_000216</td>\n",
       "      <td>Strain 2</td>\n",
       "      <td>1</td>\n",
       "      <td>2</td>\n",
       "      <td>2</td>\n",
       "      <td>2</td>\n",
       "      <td>2</td>\n",
       "      <td>1</td>\n",
       "      <td>1</td>\n",
       "      <td>0</td>\n",
       "    </tr>\n",
       "    <tr>\n",
       "      <th>2</th>\n",
       "      <td>ABFPUB_000217</td>\n",
       "      <td>Strain 3</td>\n",
       "      <td>1</td>\n",
       "      <td>0</td>\n",
       "      <td>0</td>\n",
       "      <td>2</td>\n",
       "      <td>1</td>\n",
       "      <td>1</td>\n",
       "      <td>2</td>\n",
       "      <td>0</td>\n",
       "    </tr>\n",
       "    <tr>\n",
       "      <th>3</th>\n",
       "      <td>ABFPUB_000218</td>\n",
       "      <td>Strain 4</td>\n",
       "      <td>1</td>\n",
       "      <td>1</td>\n",
       "      <td>1</td>\n",
       "      <td>1</td>\n",
       "      <td>2</td>\n",
       "      <td>2</td>\n",
       "      <td>1</td>\n",
       "      <td>0</td>\n",
       "    </tr>\n",
       "    <tr>\n",
       "      <th>4</th>\n",
       "      <td>ABFPUB_000219</td>\n",
       "      <td>Strain 5</td>\n",
       "      <td>2</td>\n",
       "      <td>0</td>\n",
       "      <td>2</td>\n",
       "      <td>1</td>\n",
       "      <td>1</td>\n",
       "      <td>0</td>\n",
       "      <td>1</td>\n",
       "      <td>1</td>\n",
       "    </tr>\n",
       "  </tbody>\n",
       "</table>\n",
       "</div>"
      ],
      "text/plain": [
       "         Part ID Line Name ACCOAC MDH PTAr CS ACACT1r PPC PPCK PFL\n",
       "0  ABFPUB_000215  Strain 1      1   1    2  0       2   0    0   0\n",
       "1  ABFPUB_000216  Strain 2      1   2    2  2       2   1    1   0\n",
       "2  ABFPUB_000217  Strain 3      1   0    0  2       1   1    2   0\n",
       "3  ABFPUB_000218  Strain 4      1   1    1  1       2   2    1   0\n",
       "4  ABFPUB_000219  Strain 5      2   0    2  1       1   0    1   1"
      ]
     },
     "execution_count": 72,
     "metadata": {},
     "output_type": "execute_result"
    }
   ],
   "source": [
    "production_df = designs_df.copy()\n",
    "production_df.head()"
   ]
  },
  {
   "cell_type": "code",
   "execution_count": 73,
   "metadata": {},
   "outputs": [
    {
     "data": {
      "text/html": [
       "<div>\n",
       "<style scoped>\n",
       "    .dataframe tbody tr th:only-of-type {\n",
       "        vertical-align: middle;\n",
       "    }\n",
       "\n",
       "    .dataframe tbody tr th {\n",
       "        vertical-align: top;\n",
       "    }\n",
       "\n",
       "    .dataframe thead th {\n",
       "        text-align: right;\n",
       "    }\n",
       "</style>\n",
       "<table border=\"1\" class=\"dataframe\">\n",
       "  <thead>\n",
       "    <tr style=\"text-align: right;\">\n",
       "      <th></th>\n",
       "      <th>Part ID</th>\n",
       "      <th>Line Name</th>\n",
       "      <th>ACCOAC</th>\n",
       "      <th>MDH</th>\n",
       "      <th>PTAr</th>\n",
       "      <th>CS</th>\n",
       "      <th>ACACT1r</th>\n",
       "      <th>PPC</th>\n",
       "      <th>PPCK</th>\n",
       "      <th>PFL</th>\n",
       "      <th>Isoprenol</th>\n",
       "    </tr>\n",
       "  </thead>\n",
       "  <tbody>\n",
       "    <tr>\n",
       "      <th>0</th>\n",
       "      <td>ABFPUB_000215</td>\n",
       "      <td>Strain 1</td>\n",
       "      <td>1</td>\n",
       "      <td>1</td>\n",
       "      <td>2</td>\n",
       "      <td>0</td>\n",
       "      <td>2</td>\n",
       "      <td>0</td>\n",
       "      <td>0</td>\n",
       "      <td>0</td>\n",
       "      <td>0.000000</td>\n",
       "    </tr>\n",
       "    <tr>\n",
       "      <th>1</th>\n",
       "      <td>ABFPUB_000216</td>\n",
       "      <td>Strain 2</td>\n",
       "      <td>1</td>\n",
       "      <td>2</td>\n",
       "      <td>2</td>\n",
       "      <td>2</td>\n",
       "      <td>2</td>\n",
       "      <td>1</td>\n",
       "      <td>1</td>\n",
       "      <td>0</td>\n",
       "      <td>0.552101</td>\n",
       "    </tr>\n",
       "    <tr>\n",
       "      <th>2</th>\n",
       "      <td>ABFPUB_000217</td>\n",
       "      <td>Strain 3</td>\n",
       "      <td>1</td>\n",
       "      <td>0</td>\n",
       "      <td>0</td>\n",
       "      <td>2</td>\n",
       "      <td>1</td>\n",
       "      <td>1</td>\n",
       "      <td>2</td>\n",
       "      <td>0</td>\n",
       "      <td>0.349196</td>\n",
       "    </tr>\n",
       "  </tbody>\n",
       "</table>\n",
       "</div>"
      ],
      "text/plain": [
       "         Part ID Line Name ACCOAC MDH PTAr CS ACACT1r PPC PPCK PFL  Isoprenol\n",
       "0  ABFPUB_000215  Strain 1      1   1    2  0       2   0    0   0   0.000000\n",
       "1  ABFPUB_000216  Strain 2      1   2    2  2       2   1    1   0   0.552101\n",
       "2  ABFPUB_000217  Strain 3      1   0    0  2       1   1    2   0   0.349196"
      ]
     },
     "execution_count": 73,
     "metadata": {},
     "output_type": "execute_result"
    }
   ],
   "source": [
    "production_df['Isoprenol'] = pd.Series(production)\n",
    "production_df.loc[0:2,:]"
   ]
  },
  {
   "cell_type": "code",
   "execution_count": 74,
   "metadata": {},
   "outputs": [
    {
     "data": {
      "text/plain": [
       "0.5726483723065023"
      ]
     },
     "execution_count": 74,
     "metadata": {},
     "output_type": "execute_result"
    }
   ],
   "source": [
    "np.max(production_df['Isoprenol'])"
   ]
  },
  {
   "cell_type": "markdown",
   "metadata": {},
   "source": [
    "**DO WE NEED PART ID COLUMN?**"
   ]
  },
  {
   "cell_type": "code",
   "execution_count": 75,
   "metadata": {},
   "outputs": [
    {
     "data": {
      "text/html": [
       "<div>\n",
       "<style scoped>\n",
       "    .dataframe tbody tr th:only-of-type {\n",
       "        vertical-align: middle;\n",
       "    }\n",
       "\n",
       "    .dataframe tbody tr th {\n",
       "        vertical-align: top;\n",
       "    }\n",
       "\n",
       "    .dataframe thead th {\n",
       "        text-align: right;\n",
       "    }\n",
       "</style>\n",
       "<table border=\"1\" class=\"dataframe\">\n",
       "  <thead>\n",
       "    <tr style=\"text-align: right;\">\n",
       "      <th></th>\n",
       "      <th>Part ID</th>\n",
       "      <th>Line Name</th>\n",
       "      <th>Measurement Type</th>\n",
       "      <th>Value</th>\n",
       "      <th>Time</th>\n",
       "      <th>Units</th>\n",
       "    </tr>\n",
       "  </thead>\n",
       "  <tbody>\n",
       "    <tr>\n",
       "      <th>0</th>\n",
       "      <td>ABFPUB_000215</td>\n",
       "      <td>Strain 1</td>\n",
       "      <td>CID:15983957</td>\n",
       "      <td>0.000000</td>\n",
       "      <td>9.0</td>\n",
       "      <td>mg/L</td>\n",
       "    </tr>\n",
       "    <tr>\n",
       "      <th>1</th>\n",
       "      <td>ABFPUB_000216</td>\n",
       "      <td>Strain 2</td>\n",
       "      <td>CID:15983957</td>\n",
       "      <td>0.552101</td>\n",
       "      <td>9.0</td>\n",
       "      <td>mg/L</td>\n",
       "    </tr>\n",
       "    <tr>\n",
       "      <th>2</th>\n",
       "      <td>ABFPUB_000217</td>\n",
       "      <td>Strain 3</td>\n",
       "      <td>CID:15983957</td>\n",
       "      <td>0.349196</td>\n",
       "      <td>9.0</td>\n",
       "      <td>mg/L</td>\n",
       "    </tr>\n",
       "    <tr>\n",
       "      <th>3</th>\n",
       "      <td>ABFPUB_000218</td>\n",
       "      <td>Strain 4</td>\n",
       "      <td>CID:15983957</td>\n",
       "      <td>0.551849</td>\n",
       "      <td>9.0</td>\n",
       "      <td>mg/L</td>\n",
       "    </tr>\n",
       "    <tr>\n",
       "      <th>4</th>\n",
       "      <td>ABFPUB_000219</td>\n",
       "      <td>Strain 5</td>\n",
       "      <td>CID:15983957</td>\n",
       "      <td>0.080117</td>\n",
       "      <td>9.0</td>\n",
       "      <td>mg/L</td>\n",
       "    </tr>\n",
       "  </tbody>\n",
       "</table>\n",
       "</div>"
      ],
      "text/plain": [
       "         Part ID Line Name Measurement Type     Value  Time Units\n",
       "0  ABFPUB_000215  Strain 1     CID:15983957  0.000000   9.0  mg/L\n",
       "1  ABFPUB_000216  Strain 2     CID:15983957  0.552101   9.0  mg/L\n",
       "2  ABFPUB_000217  Strain 3     CID:15983957  0.349196   9.0  mg/L\n",
       "3  ABFPUB_000218  Strain 4     CID:15983957  0.551849   9.0  mg/L\n",
       "4  ABFPUB_000219  Strain 5     CID:15983957  0.080117   9.0  mg/L"
      ]
     },
     "execution_count": 75,
     "metadata": {},
     "output_type": "execute_result"
    }
   ],
   "source": [
    "# MELT THE DATAFRAME\n",
    "production_edd_df = production_df.drop(columns=reactions).copy()\n",
    "isoprenol_cid = 'CID:15983957'\n",
    "production_edd_df = production_edd_df.rename(columns={'Isoprenol': isoprenol_cid})\n",
    "production_edd_df = production_edd_df.set_index(['Part ID','Line Name']).stack().reset_index()\n",
    "production_edd_df.columns = ['Part ID','Line Name', 'Measurement Type', 'Value']\n",
    "production_edd_df['Time'] = 9.0\n",
    "production_edd_df['Units'] = 'mg/L'\n",
    "production_edd_df.head()"
   ]
  },
  {
   "cell_type": "markdown",
   "metadata": {},
   "source": [
    "Save data frame as csv:"
   ]
  },
  {
   "cell_type": "code",
   "execution_count": 76,
   "metadata": {},
   "outputs": [],
   "source": [
    "production_file_name = f'{user_params[\"edd_omics_file_path\"]}/isoprenol_production.csv'\n",
    "production_edd_df.to_csv(production_file_name)\n"
   ]
  },
  {
   "cell_type": "code",
   "execution_count": null,
   "metadata": {},
   "outputs": [],
   "source": []
  },
  {
   "cell_type": "code",
   "execution_count": null,
   "metadata": {},
   "outputs": [],
   "source": []
  },
  {
   "cell_type": "code",
   "execution_count": null,
   "metadata": {},
   "outputs": [],
   "source": []
  }
 ],
 "metadata": {
  "kernelspec": {
   "display_name": "biodesign_3.7",
   "language": "python",
   "name": "biod_3.7"
  },
  "language_info": {
   "codemirror_mode": {
    "name": "ipython",
    "version": 3
   },
   "file_extension": ".py",
   "mimetype": "text/x-python",
   "name": "python",
   "nbconvert_exporter": "python",
   "pygments_lexer": "ipython3",
   "version": "3.7.4"
  },
  "toc-autonumbering": false
 },
 "nbformat": 4,
 "nbformat_minor": 4
}
