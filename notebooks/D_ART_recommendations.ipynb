{
 "cells": [
  {
   "cell_type": "markdown",
   "metadata": {},
   "source": [
    "# Generate recommendations for Cycle 2 using ART "
   ]
  },
  {
   "cell_type": "markdown",
   "metadata": {},
   "source": [
    "Tested using **ART_v3.6** kernel on the jprime.lbl.gov server."
   ]
  },
  {
   "cell_type": "markdown",
   "metadata": {},
   "source": [
    "#### Running the cells below will generate:\n",
    "\n",
    "- a file for ART front end\n",
    "- several standard ART output files (containing recommendations, predictive accuracy metrics, plots of predictions vs observations for the train data set, pickle file containing previously trained ART object)\n"
   ]
  },
  {
   "cell_type": "markdown",
   "metadata": {},
   "source": [
    "## Setup"
   ]
  },
  {
   "cell_type": "markdown",
   "metadata": {},
   "source": [
    "Clone the git repository with the `ART` library \n",
    "\n",
    "`git clone https://github.com/JBEI/AutomatedRecommendationTool.git`\n",
    "\n",
    "or pull the latest version."
   ]
  },
  {
   "cell_type": "code",
   "execution_count": 1,
   "metadata": {},
   "outputs": [
    {
     "name": "stderr",
     "output_type": "stream",
     "text": [
      "/usr/local/share/jupyteruser/.pyenv/versions/ART_3.6/lib/python3.6/site-packages/tqdm/autonotebook/__init__.py:14: TqdmExperimentalWarning: Using `tqdm.autonotebook.tqdm` in notebook mode. Use `tqdm.tqdm` instead to force console mode (e.g. in jupyter console)\n",
      "  \" (e.g. in jupyter console)\", TqdmExperimentalWarning)\n"
     ]
    }
   ],
   "source": [
    "import sys\n",
    "sys.path.append('../../AutomatedRecommendationTool')\n",
    "    \n",
    "from edd_utils import login, export_study\n",
    "from art.core import *\n",
    "import pickle"
   ]
  },
  {
   "cell_type": "markdown",
   "metadata": {},
   "source": [
    "## User parameters"
   ]
  },
  {
   "cell_type": "markdown",
   "metadata": {},
   "source": [
    "Definitions for EDD study export:"
   ]
  },
  {
   "cell_type": "code",
   "execution_count": 2,
   "metadata": {},
   "outputs": [],
   "source": [
    "user_params = {\n",
    "    'study_slug': 'multiomics-data',\n",
    "    'edd_server': 'public-edd.agilebiofoundry.org'\n",
    "}\n"
   ]
  },
  {
   "cell_type": "markdown",
   "metadata": {},
   "source": [
    "ART input parameters:"
   ]
  },
  {
   "cell_type": "code",
   "execution_count": 3,
   "metadata": {},
   "outputs": [],
   "source": [
    "user_params['num_recommendations'] = 10\n",
    "user_params['output_directory'] = '../data/art_output/'\n"
   ]
  },
  {
   "cell_type": "markdown",
   "metadata": {},
   "source": [
    "## Getting the designs and production data from EDD"
   ]
  },
  {
   "cell_type": "markdown",
   "metadata": {},
   "source": [
    "Export the EDD study that contains isoprenol production data using `edd-utils` package:"
   ]
  },
  {
   "cell_type": "code",
   "execution_count": 4,
   "metadata": {},
   "outputs": [
    {
     "name": "stdin",
     "output_type": "stream",
     "text": [
      "Password for tradivojevic:  ················\n"
     ]
    }
   ],
   "source": [
    "session = login(edd_server=user_params['edd_server'], user='tradivojevic')\n"
   ]
  },
  {
   "cell_type": "code",
   "execution_count": 5,
   "metadata": {},
   "outputs": [
    {
     "data": {
      "application/vnd.jupyter.widget-view+json": {
       "model_id": "",
       "version_major": 2,
       "version_minor": 0
      },
      "text/plain": [
       "HBox(children=(IntProgress(value=0, max=96), HTML(value='')))"
      ]
     },
     "metadata": {},
     "output_type": "display_data"
    },
    {
     "name": "stdout",
     "output_type": "stream",
     "text": [
      "\n"
     ]
    },
    {
     "data": {
      "text/html": [
       "<div>\n",
       "<style scoped>\n",
       "    .dataframe tbody tr th:only-of-type {\n",
       "        vertical-align: middle;\n",
       "    }\n",
       "\n",
       "    .dataframe tbody tr th {\n",
       "        vertical-align: top;\n",
       "    }\n",
       "\n",
       "    .dataframe thead th {\n",
       "        text-align: right;\n",
       "    }\n",
       "</style>\n",
       "<table border=\"1\" class=\"dataframe\">\n",
       "  <thead>\n",
       "    <tr style=\"text-align: right;\">\n",
       "      <th></th>\n",
       "      <th>Study ID</th>\n",
       "      <th>Study Name</th>\n",
       "      <th>Line ID</th>\n",
       "      <th>Line Name</th>\n",
       "      <th>Line Description</th>\n",
       "      <th>Protocol</th>\n",
       "      <th>Assay ID</th>\n",
       "      <th>Assay Name</th>\n",
       "      <th>Formal Type</th>\n",
       "      <th>Measurement Type</th>\n",
       "      <th>Compartment</th>\n",
       "      <th>Units</th>\n",
       "      <th>Value</th>\n",
       "      <th>Hours</th>\n",
       "    </tr>\n",
       "  </thead>\n",
       "  <tbody>\n",
       "    <tr>\n",
       "      <th>0</th>\n",
       "      <td>9014</td>\n",
       "      <td>Multiomics data</td>\n",
       "      <td>9111</td>\n",
       "      <td>Strain 1</td>\n",
       "      <td>ACCOAC_1.0_MDH_1.0_PTAr_2.0_CS_0.0_ACACT1r_2.0...</td>\n",
       "      <td>Metabolomics</td>\n",
       "      <td>9245</td>\n",
       "      <td>Strain 1</td>\n",
       "      <td>cid:15983957</td>\n",
       "      <td>isopentenyl diphosphate(3-)</td>\n",
       "      <td>0</td>\n",
       "      <td>mg/L</td>\n",
       "      <td>0.00000</td>\n",
       "      <td>9.0</td>\n",
       "    </tr>\n",
       "    <tr>\n",
       "      <th>1</th>\n",
       "      <td>9014</td>\n",
       "      <td>Multiomics data</td>\n",
       "      <td>9112</td>\n",
       "      <td>Strain 2</td>\n",
       "      <td>ACCOAC_1.0_MDH_2.0_PTAr_2.0_CS_2.0_ACACT1r_2.0...</td>\n",
       "      <td>Metabolomics</td>\n",
       "      <td>9235</td>\n",
       "      <td>Strain 2</td>\n",
       "      <td>cid:15983957</td>\n",
       "      <td>isopentenyl diphosphate(3-)</td>\n",
       "      <td>0</td>\n",
       "      <td>mg/L</td>\n",
       "      <td>0.55210</td>\n",
       "      <td>9.0</td>\n",
       "    </tr>\n",
       "    <tr>\n",
       "      <th>2</th>\n",
       "      <td>9014</td>\n",
       "      <td>Multiomics data</td>\n",
       "      <td>9113</td>\n",
       "      <td>Strain 3</td>\n",
       "      <td>ACCOAC_1.0_MDH_0.0_PTAr_0.0_CS_2.0_ACACT1r_1.0...</td>\n",
       "      <td>Metabolomics</td>\n",
       "      <td>9261</td>\n",
       "      <td>Strain 3</td>\n",
       "      <td>cid:15983957</td>\n",
       "      <td>isopentenyl diphosphate(3-)</td>\n",
       "      <td>0</td>\n",
       "      <td>mg/L</td>\n",
       "      <td>0.34920</td>\n",
       "      <td>9.0</td>\n",
       "    </tr>\n",
       "    <tr>\n",
       "      <th>3</th>\n",
       "      <td>9014</td>\n",
       "      <td>Multiomics data</td>\n",
       "      <td>9114</td>\n",
       "      <td>Strain 4</td>\n",
       "      <td>ACCOAC_1.0_MDH_1.0_PTAr_1.0_CS_1.0_ACACT1r_2.0...</td>\n",
       "      <td>Metabolomics</td>\n",
       "      <td>9247</td>\n",
       "      <td>Strain 4</td>\n",
       "      <td>cid:15983957</td>\n",
       "      <td>isopentenyl diphosphate(3-)</td>\n",
       "      <td>0</td>\n",
       "      <td>mg/L</td>\n",
       "      <td>0.55185</td>\n",
       "      <td>9.0</td>\n",
       "    </tr>\n",
       "    <tr>\n",
       "      <th>4</th>\n",
       "      <td>9014</td>\n",
       "      <td>Multiomics data</td>\n",
       "      <td>9115</td>\n",
       "      <td>Strain 5</td>\n",
       "      <td>ACCOAC_2.0_MDH_0.0_PTAr_2.0_CS_1.0_ACACT1r_1.0...</td>\n",
       "      <td>Metabolomics</td>\n",
       "      <td>9266</td>\n",
       "      <td>Strain 5</td>\n",
       "      <td>cid:15983957</td>\n",
       "      <td>isopentenyl diphosphate(3-)</td>\n",
       "      <td>0</td>\n",
       "      <td>mg/L</td>\n",
       "      <td>0.08012</td>\n",
       "      <td>9.0</td>\n",
       "    </tr>\n",
       "  </tbody>\n",
       "</table>\n",
       "</div>"
      ],
      "text/plain": [
       "   Study ID       Study Name  Line ID Line Name  \\\n",
       "0      9014  Multiomics data     9111  Strain 1   \n",
       "1      9014  Multiomics data     9112  Strain 2   \n",
       "2      9014  Multiomics data     9113  Strain 3   \n",
       "3      9014  Multiomics data     9114  Strain 4   \n",
       "4      9014  Multiomics data     9115  Strain 5   \n",
       "\n",
       "                                    Line Description      Protocol  Assay ID  \\\n",
       "0  ACCOAC_1.0_MDH_1.0_PTAr_2.0_CS_0.0_ACACT1r_2.0...  Metabolomics      9245   \n",
       "1  ACCOAC_1.0_MDH_2.0_PTAr_2.0_CS_2.0_ACACT1r_2.0...  Metabolomics      9235   \n",
       "2  ACCOAC_1.0_MDH_0.0_PTAr_0.0_CS_2.0_ACACT1r_1.0...  Metabolomics      9261   \n",
       "3  ACCOAC_1.0_MDH_1.0_PTAr_1.0_CS_1.0_ACACT1r_2.0...  Metabolomics      9247   \n",
       "4  ACCOAC_2.0_MDH_0.0_PTAr_2.0_CS_1.0_ACACT1r_1.0...  Metabolomics      9266   \n",
       "\n",
       "  Assay Name   Formal Type             Measurement Type  Compartment Units  \\\n",
       "0   Strain 1  cid:15983957  isopentenyl diphosphate(3-)            0  mg/L   \n",
       "1   Strain 2  cid:15983957  isopentenyl diphosphate(3-)            0  mg/L   \n",
       "2   Strain 3  cid:15983957  isopentenyl diphosphate(3-)            0  mg/L   \n",
       "3   Strain 4  cid:15983957  isopentenyl diphosphate(3-)            0  mg/L   \n",
       "4   Strain 5  cid:15983957  isopentenyl diphosphate(3-)            0  mg/L   \n",
       "\n",
       "     Value  Hours  \n",
       "0  0.00000    9.0  \n",
       "1  0.55210    9.0  \n",
       "2  0.34920    9.0  \n",
       "3  0.55185    9.0  \n",
       "4  0.08012    9.0  "
      ]
     },
     "execution_count": 5,
     "metadata": {},
     "output_type": "execute_result"
    }
   ],
   "source": [
    "df = export_study(session, user_params['study_slug'], edd_server=user_params['edd_server'])\n",
    "df.head()"
   ]
  },
  {
   "cell_type": "markdown",
   "metadata": {},
   "source": [
    "Keep only the necesarry columns:"
   ]
  },
  {
   "cell_type": "code",
   "execution_count": 6,
   "metadata": {},
   "outputs": [
    {
     "data": {
      "text/html": [
       "<div>\n",
       "<style scoped>\n",
       "    .dataframe tbody tr th:only-of-type {\n",
       "        vertical-align: middle;\n",
       "    }\n",
       "\n",
       "    .dataframe tbody tr th {\n",
       "        vertical-align: top;\n",
       "    }\n",
       "\n",
       "    .dataframe thead th {\n",
       "        text-align: right;\n",
       "    }\n",
       "</style>\n",
       "<table border=\"1\" class=\"dataframe\">\n",
       "  <thead>\n",
       "    <tr style=\"text-align: right;\">\n",
       "      <th></th>\n",
       "      <th>Line Name</th>\n",
       "      <th>Line Description</th>\n",
       "      <th>Measurement Type</th>\n",
       "      <th>Value</th>\n",
       "    </tr>\n",
       "  </thead>\n",
       "  <tbody>\n",
       "    <tr>\n",
       "      <th>0</th>\n",
       "      <td>Strain 1</td>\n",
       "      <td>ACCOAC_1.0_MDH_1.0_PTAr_2.0_CS_0.0_ACACT1r_2.0...</td>\n",
       "      <td>isopentenyl diphosphate(3-)</td>\n",
       "      <td>0.00000</td>\n",
       "    </tr>\n",
       "    <tr>\n",
       "      <th>1</th>\n",
       "      <td>Strain 2</td>\n",
       "      <td>ACCOAC_1.0_MDH_2.0_PTAr_2.0_CS_2.0_ACACT1r_2.0...</td>\n",
       "      <td>isopentenyl diphosphate(3-)</td>\n",
       "      <td>0.55210</td>\n",
       "    </tr>\n",
       "    <tr>\n",
       "      <th>2</th>\n",
       "      <td>Strain 3</td>\n",
       "      <td>ACCOAC_1.0_MDH_0.0_PTAr_0.0_CS_2.0_ACACT1r_1.0...</td>\n",
       "      <td>isopentenyl diphosphate(3-)</td>\n",
       "      <td>0.34920</td>\n",
       "    </tr>\n",
       "    <tr>\n",
       "      <th>3</th>\n",
       "      <td>Strain 4</td>\n",
       "      <td>ACCOAC_1.0_MDH_1.0_PTAr_1.0_CS_1.0_ACACT1r_2.0...</td>\n",
       "      <td>isopentenyl diphosphate(3-)</td>\n",
       "      <td>0.55185</td>\n",
       "    </tr>\n",
       "    <tr>\n",
       "      <th>4</th>\n",
       "      <td>Strain 5</td>\n",
       "      <td>ACCOAC_2.0_MDH_0.0_PTAr_2.0_CS_1.0_ACACT1r_1.0...</td>\n",
       "      <td>isopentenyl diphosphate(3-)</td>\n",
       "      <td>0.08012</td>\n",
       "    </tr>\n",
       "  </tbody>\n",
       "</table>\n",
       "</div>"
      ],
      "text/plain": [
       "  Line Name                                   Line Description  \\\n",
       "0  Strain 1  ACCOAC_1.0_MDH_1.0_PTAr_2.0_CS_0.0_ACACT1r_2.0...   \n",
       "1  Strain 2  ACCOAC_1.0_MDH_2.0_PTAr_2.0_CS_2.0_ACACT1r_2.0...   \n",
       "2  Strain 3  ACCOAC_1.0_MDH_0.0_PTAr_0.0_CS_2.0_ACACT1r_1.0...   \n",
       "3  Strain 4  ACCOAC_1.0_MDH_1.0_PTAr_1.0_CS_1.0_ACACT1r_2.0...   \n",
       "4  Strain 5  ACCOAC_2.0_MDH_0.0_PTAr_2.0_CS_1.0_ACACT1r_1.0...   \n",
       "\n",
       "              Measurement Type    Value  \n",
       "0  isopentenyl diphosphate(3-)  0.00000  \n",
       "1  isopentenyl diphosphate(3-)  0.55210  \n",
       "2  isopentenyl diphosphate(3-)  0.34920  \n",
       "3  isopentenyl diphosphate(3-)  0.55185  \n",
       "4  isopentenyl diphosphate(3-)  0.08012  "
      ]
     },
     "execution_count": 6,
     "metadata": {},
     "output_type": "execute_result"
    }
   ],
   "source": [
    "df = df[['Line Name','Line Description','Measurement Type', 'Value']]\n",
    "df.head()"
   ]
  },
  {
   "cell_type": "markdown",
   "metadata": {},
   "source": [
    "**Read designs information from `Line Description` and store into separate columns**"
   ]
  },
  {
   "cell_type": "markdown",
   "metadata": {},
   "source": [
    "Add columns for each reaction:"
   ]
  },
  {
   "cell_type": "code",
   "execution_count": 7,
   "metadata": {},
   "outputs": [
    {
     "data": {
      "text/html": [
       "<div>\n",
       "<style scoped>\n",
       "    .dataframe tbody tr th:only-of-type {\n",
       "        vertical-align: middle;\n",
       "    }\n",
       "\n",
       "    .dataframe tbody tr th {\n",
       "        vertical-align: top;\n",
       "    }\n",
       "\n",
       "    .dataframe thead th {\n",
       "        text-align: right;\n",
       "    }\n",
       "</style>\n",
       "<table border=\"1\" class=\"dataframe\">\n",
       "  <thead>\n",
       "    <tr style=\"text-align: right;\">\n",
       "      <th></th>\n",
       "      <th>Line Name</th>\n",
       "      <th>Line Description</th>\n",
       "      <th>Measurement Type</th>\n",
       "      <th>Value</th>\n",
       "      <th>ACCOAC</th>\n",
       "      <th>MDH</th>\n",
       "      <th>PTAr</th>\n",
       "      <th>CS</th>\n",
       "      <th>ACACT1r</th>\n",
       "      <th>PPC</th>\n",
       "      <th>PPCK</th>\n",
       "      <th>PFL</th>\n",
       "    </tr>\n",
       "  </thead>\n",
       "  <tbody>\n",
       "    <tr>\n",
       "      <th>91</th>\n",
       "      <td>Strain 92</td>\n",
       "      <td>ACCOAC_0.0_MDH_0.0_PTAr_2.0_CS_2.0_ACACT1r_0.0...</td>\n",
       "      <td>isopentenyl diphosphate(3-)</td>\n",
       "      <td>0.00000</td>\n",
       "      <td>None</td>\n",
       "      <td>None</td>\n",
       "      <td>None</td>\n",
       "      <td>None</td>\n",
       "      <td>None</td>\n",
       "      <td>None</td>\n",
       "      <td>None</td>\n",
       "      <td>None</td>\n",
       "    </tr>\n",
       "    <tr>\n",
       "      <th>92</th>\n",
       "      <td>Strain 93</td>\n",
       "      <td>ACCOAC_1.0_MDH_2.0_PTAr_0.0_CS_0.0_ACACT1r_0.0...</td>\n",
       "      <td>isopentenyl diphosphate(3-)</td>\n",
       "      <td>0.00000</td>\n",
       "      <td>None</td>\n",
       "      <td>None</td>\n",
       "      <td>None</td>\n",
       "      <td>None</td>\n",
       "      <td>None</td>\n",
       "      <td>None</td>\n",
       "      <td>None</td>\n",
       "      <td>None</td>\n",
       "    </tr>\n",
       "    <tr>\n",
       "      <th>93</th>\n",
       "      <td>Strain 94</td>\n",
       "      <td>ACCOAC_0.0_MDH_2.0_PTAr_0.0_CS_1.0_ACACT1r_0.0...</td>\n",
       "      <td>isopentenyl diphosphate(3-)</td>\n",
       "      <td>0.00000</td>\n",
       "      <td>None</td>\n",
       "      <td>None</td>\n",
       "      <td>None</td>\n",
       "      <td>None</td>\n",
       "      <td>None</td>\n",
       "      <td>None</td>\n",
       "      <td>None</td>\n",
       "      <td>None</td>\n",
       "    </tr>\n",
       "    <tr>\n",
       "      <th>94</th>\n",
       "      <td>Strain 95</td>\n",
       "      <td>ACCOAC_0.0_MDH_1.0_PTAr_2.0_CS_0.0_ACACT1r_1.0...</td>\n",
       "      <td>isopentenyl diphosphate(3-)</td>\n",
       "      <td>0.00000</td>\n",
       "      <td>None</td>\n",
       "      <td>None</td>\n",
       "      <td>None</td>\n",
       "      <td>None</td>\n",
       "      <td>None</td>\n",
       "      <td>None</td>\n",
       "      <td>None</td>\n",
       "      <td>None</td>\n",
       "    </tr>\n",
       "    <tr>\n",
       "      <th>95</th>\n",
       "      <td>WT</td>\n",
       "      <td>Wild type E. coli</td>\n",
       "      <td>isopentenyl diphosphate(3-)</td>\n",
       "      <td>0.46188</td>\n",
       "      <td>None</td>\n",
       "      <td>None</td>\n",
       "      <td>None</td>\n",
       "      <td>None</td>\n",
       "      <td>None</td>\n",
       "      <td>None</td>\n",
       "      <td>None</td>\n",
       "      <td>None</td>\n",
       "    </tr>\n",
       "  </tbody>\n",
       "</table>\n",
       "</div>"
      ],
      "text/plain": [
       "    Line Name                                   Line Description  \\\n",
       "91  Strain 92  ACCOAC_0.0_MDH_0.0_PTAr_2.0_CS_2.0_ACACT1r_0.0...   \n",
       "92  Strain 93  ACCOAC_1.0_MDH_2.0_PTAr_0.0_CS_0.0_ACACT1r_0.0...   \n",
       "93  Strain 94  ACCOAC_0.0_MDH_2.0_PTAr_0.0_CS_1.0_ACACT1r_0.0...   \n",
       "94  Strain 95  ACCOAC_0.0_MDH_1.0_PTAr_2.0_CS_0.0_ACACT1r_1.0...   \n",
       "95         WT                                  Wild type E. coli   \n",
       "\n",
       "               Measurement Type    Value ACCOAC   MDH  PTAr    CS ACACT1r  \\\n",
       "91  isopentenyl diphosphate(3-)  0.00000   None  None  None  None    None   \n",
       "92  isopentenyl diphosphate(3-)  0.00000   None  None  None  None    None   \n",
       "93  isopentenyl diphosphate(3-)  0.00000   None  None  None  None    None   \n",
       "94  isopentenyl diphosphate(3-)  0.00000   None  None  None  None    None   \n",
       "95  isopentenyl diphosphate(3-)  0.46188   None  None  None  None    None   \n",
       "\n",
       "     PPC  PPCK   PFL  \n",
       "91  None  None  None  \n",
       "92  None  None  None  \n",
       "93  None  None  None  \n",
       "94  None  None  None  \n",
       "95  None  None  None  "
      ]
     },
     "execution_count": 7,
     "metadata": {},
     "output_type": "execute_result"
    }
   ],
   "source": [
    "reactions = df['Line Description'][0].split('_')[::2]\n",
    "for rxn in reactions:\n",
    "    df[rxn] = None\n",
    "\n",
    "df.tail()"
   ]
  },
  {
   "cell_type": "markdown",
   "metadata": {},
   "source": [
    "And assign values for each reaction and line:"
   ]
  },
  {
   "cell_type": "code",
   "execution_count": 8,
   "metadata": {},
   "outputs": [],
   "source": [
    "for i in range(len(df)):\n",
    "    if df['Line Name'][i]=='WT':\n",
    "        for r in range(len(reactions)):\n",
    "            df.iloc[i, (4+r)] = float(1)\n",
    "    else:\n",
    "        values = df.loc[i]['Line Description'].split('_')[1::2]\n",
    "        for r,value in zip(range(len(reactions)),values):\n",
    "            df.iloc[i, (4+r)] = float(value)\n",
    "\n",
    "df = df.drop(columns='Line Description')\n"
   ]
  },
  {
   "cell_type": "markdown",
   "metadata": {},
   "source": [
    "Each design (line) involves the modification of up to 8 fluxes (1 -> keep the same; 2-> double flux, 0-> knock reaction out):"
   ]
  },
  {
   "cell_type": "code",
   "execution_count": 9,
   "metadata": {},
   "outputs": [
    {
     "data": {
      "text/html": [
       "<div>\n",
       "<style scoped>\n",
       "    .dataframe tbody tr th:only-of-type {\n",
       "        vertical-align: middle;\n",
       "    }\n",
       "\n",
       "    .dataframe tbody tr th {\n",
       "        vertical-align: top;\n",
       "    }\n",
       "\n",
       "    .dataframe thead th {\n",
       "        text-align: right;\n",
       "    }\n",
       "</style>\n",
       "<table border=\"1\" class=\"dataframe\">\n",
       "  <thead>\n",
       "    <tr style=\"text-align: right;\">\n",
       "      <th></th>\n",
       "      <th>Line Name</th>\n",
       "      <th>Measurement Type</th>\n",
       "      <th>Value</th>\n",
       "      <th>ACCOAC</th>\n",
       "      <th>MDH</th>\n",
       "      <th>PTAr</th>\n",
       "      <th>CS</th>\n",
       "      <th>ACACT1r</th>\n",
       "      <th>PPC</th>\n",
       "      <th>PPCK</th>\n",
       "      <th>PFL</th>\n",
       "    </tr>\n",
       "  </thead>\n",
       "  <tbody>\n",
       "    <tr>\n",
       "      <th>91</th>\n",
       "      <td>Strain 92</td>\n",
       "      <td>isopentenyl diphosphate(3-)</td>\n",
       "      <td>0.00000</td>\n",
       "      <td>0</td>\n",
       "      <td>0</td>\n",
       "      <td>2</td>\n",
       "      <td>2</td>\n",
       "      <td>0</td>\n",
       "      <td>2</td>\n",
       "      <td>0</td>\n",
       "      <td>2</td>\n",
       "    </tr>\n",
       "    <tr>\n",
       "      <th>92</th>\n",
       "      <td>Strain 93</td>\n",
       "      <td>isopentenyl diphosphate(3-)</td>\n",
       "      <td>0.00000</td>\n",
       "      <td>1</td>\n",
       "      <td>2</td>\n",
       "      <td>0</td>\n",
       "      <td>0</td>\n",
       "      <td>0</td>\n",
       "      <td>2</td>\n",
       "      <td>2</td>\n",
       "      <td>0</td>\n",
       "    </tr>\n",
       "    <tr>\n",
       "      <th>93</th>\n",
       "      <td>Strain 94</td>\n",
       "      <td>isopentenyl diphosphate(3-)</td>\n",
       "      <td>0.00000</td>\n",
       "      <td>0</td>\n",
       "      <td>2</td>\n",
       "      <td>0</td>\n",
       "      <td>1</td>\n",
       "      <td>0</td>\n",
       "      <td>2</td>\n",
       "      <td>1</td>\n",
       "      <td>1</td>\n",
       "    </tr>\n",
       "    <tr>\n",
       "      <th>94</th>\n",
       "      <td>Strain 95</td>\n",
       "      <td>isopentenyl diphosphate(3-)</td>\n",
       "      <td>0.00000</td>\n",
       "      <td>0</td>\n",
       "      <td>1</td>\n",
       "      <td>2</td>\n",
       "      <td>0</td>\n",
       "      <td>1</td>\n",
       "      <td>1</td>\n",
       "      <td>0</td>\n",
       "      <td>2</td>\n",
       "    </tr>\n",
       "    <tr>\n",
       "      <th>95</th>\n",
       "      <td>WT</td>\n",
       "      <td>isopentenyl diphosphate(3-)</td>\n",
       "      <td>0.46188</td>\n",
       "      <td>1</td>\n",
       "      <td>1</td>\n",
       "      <td>1</td>\n",
       "      <td>1</td>\n",
       "      <td>1</td>\n",
       "      <td>1</td>\n",
       "      <td>1</td>\n",
       "      <td>1</td>\n",
       "    </tr>\n",
       "  </tbody>\n",
       "</table>\n",
       "</div>"
      ],
      "text/plain": [
       "    Line Name             Measurement Type    Value  ACCOAC  MDH  PTAr  CS  \\\n",
       "91  Strain 92  isopentenyl diphosphate(3-)  0.00000       0    0     2   2   \n",
       "92  Strain 93  isopentenyl diphosphate(3-)  0.00000       1    2     0   0   \n",
       "93  Strain 94  isopentenyl diphosphate(3-)  0.00000       0    2     0   1   \n",
       "94  Strain 95  isopentenyl diphosphate(3-)  0.00000       0    1     2   0   \n",
       "95         WT  isopentenyl diphosphate(3-)  0.46188       1    1     1   1   \n",
       "\n",
       "    ACACT1r  PPC  PPCK  PFL  \n",
       "91        0    2     0    2  \n",
       "92        0    2     2    0  \n",
       "93        0    2     1    1  \n",
       "94        1    1     0    2  \n",
       "95        1    1     1    1  "
      ]
     },
     "execution_count": 9,
     "metadata": {},
     "output_type": "execute_result"
    }
   ],
   "source": [
    "df.tail()"
   ]
  },
  {
   "cell_type": "markdown",
   "metadata": {},
   "source": [
    "Rename `Value` column with the formal metabolite name:"
   ]
  },
  {
   "cell_type": "code",
   "execution_count": 10,
   "metadata": {},
   "outputs": [
    {
     "data": {
      "text/html": [
       "<div>\n",
       "<style scoped>\n",
       "    .dataframe tbody tr th:only-of-type {\n",
       "        vertical-align: middle;\n",
       "    }\n",
       "\n",
       "    .dataframe tbody tr th {\n",
       "        vertical-align: top;\n",
       "    }\n",
       "\n",
       "    .dataframe thead th {\n",
       "        text-align: right;\n",
       "    }\n",
       "</style>\n",
       "<table border=\"1\" class=\"dataframe\">\n",
       "  <thead>\n",
       "    <tr style=\"text-align: right;\">\n",
       "      <th></th>\n",
       "      <th>Line Name</th>\n",
       "      <th>isopentenyl diphosphate(3-)</th>\n",
       "      <th>ACCOAC</th>\n",
       "      <th>MDH</th>\n",
       "      <th>PTAr</th>\n",
       "      <th>CS</th>\n",
       "      <th>ACACT1r</th>\n",
       "      <th>PPC</th>\n",
       "      <th>PPCK</th>\n",
       "      <th>PFL</th>\n",
       "    </tr>\n",
       "  </thead>\n",
       "  <tbody>\n",
       "    <tr>\n",
       "      <th>91</th>\n",
       "      <td>Strain 92</td>\n",
       "      <td>0.00000</td>\n",
       "      <td>0</td>\n",
       "      <td>0</td>\n",
       "      <td>2</td>\n",
       "      <td>2</td>\n",
       "      <td>0</td>\n",
       "      <td>2</td>\n",
       "      <td>0</td>\n",
       "      <td>2</td>\n",
       "    </tr>\n",
       "    <tr>\n",
       "      <th>92</th>\n",
       "      <td>Strain 93</td>\n",
       "      <td>0.00000</td>\n",
       "      <td>1</td>\n",
       "      <td>2</td>\n",
       "      <td>0</td>\n",
       "      <td>0</td>\n",
       "      <td>0</td>\n",
       "      <td>2</td>\n",
       "      <td>2</td>\n",
       "      <td>0</td>\n",
       "    </tr>\n",
       "    <tr>\n",
       "      <th>93</th>\n",
       "      <td>Strain 94</td>\n",
       "      <td>0.00000</td>\n",
       "      <td>0</td>\n",
       "      <td>2</td>\n",
       "      <td>0</td>\n",
       "      <td>1</td>\n",
       "      <td>0</td>\n",
       "      <td>2</td>\n",
       "      <td>1</td>\n",
       "      <td>1</td>\n",
       "    </tr>\n",
       "    <tr>\n",
       "      <th>94</th>\n",
       "      <td>Strain 95</td>\n",
       "      <td>0.00000</td>\n",
       "      <td>0</td>\n",
       "      <td>1</td>\n",
       "      <td>2</td>\n",
       "      <td>0</td>\n",
       "      <td>1</td>\n",
       "      <td>1</td>\n",
       "      <td>0</td>\n",
       "      <td>2</td>\n",
       "    </tr>\n",
       "    <tr>\n",
       "      <th>95</th>\n",
       "      <td>WT</td>\n",
       "      <td>0.46188</td>\n",
       "      <td>1</td>\n",
       "      <td>1</td>\n",
       "      <td>1</td>\n",
       "      <td>1</td>\n",
       "      <td>1</td>\n",
       "      <td>1</td>\n",
       "      <td>1</td>\n",
       "      <td>1</td>\n",
       "    </tr>\n",
       "  </tbody>\n",
       "</table>\n",
       "</div>"
      ],
      "text/plain": [
       "    Line Name  isopentenyl diphosphate(3-)  ACCOAC  MDH  PTAr  CS  ACACT1r  \\\n",
       "91  Strain 92                      0.00000       0    0     2   2        0   \n",
       "92  Strain 93                      0.00000       1    2     0   0        0   \n",
       "93  Strain 94                      0.00000       0    2     0   1        0   \n",
       "94  Strain 95                      0.00000       0    1     2   0        1   \n",
       "95         WT                      0.46188       1    1     1   1        1   \n",
       "\n",
       "    PPC  PPCK  PFL  \n",
       "91    2     0    2  \n",
       "92    2     2    0  \n",
       "93    2     1    1  \n",
       "94    1     0    2  \n",
       "95    1     1    1  "
      ]
     },
     "execution_count": 10,
     "metadata": {},
     "output_type": "execute_result"
    }
   ],
   "source": [
    "production_name = df['Measurement Type'][0]\n",
    "df = df.rename(columns={'Value': production_name})\n",
    "df = df.drop(columns='Measurement Type')\n",
    "df.tail()\n"
   ]
  },
  {
   "cell_type": "markdown",
   "metadata": {},
   "source": [
    "Pivot the dataframe back to EDD format, now including all the reaction names and modifications:"
   ]
  },
  {
   "cell_type": "code",
   "execution_count": 11,
   "metadata": {},
   "outputs": [
    {
     "data": {
      "text/html": [
       "<div>\n",
       "<style scoped>\n",
       "    .dataframe tbody tr th:only-of-type {\n",
       "        vertical-align: middle;\n",
       "    }\n",
       "\n",
       "    .dataframe tbody tr th {\n",
       "        vertical-align: top;\n",
       "    }\n",
       "\n",
       "    .dataframe thead th {\n",
       "        text-align: right;\n",
       "    }\n",
       "</style>\n",
       "<table border=\"1\" class=\"dataframe\">\n",
       "  <thead>\n",
       "    <tr style=\"text-align: right;\">\n",
       "      <th></th>\n",
       "      <th>Line Name</th>\n",
       "      <th>Measurement Type</th>\n",
       "      <th>Value</th>\n",
       "    </tr>\n",
       "  </thead>\n",
       "  <tbody>\n",
       "    <tr>\n",
       "      <th>0</th>\n",
       "      <td>Strain 1</td>\n",
       "      <td>isopentenyl diphosphate(3-)</td>\n",
       "      <td>0.0</td>\n",
       "    </tr>\n",
       "    <tr>\n",
       "      <th>1</th>\n",
       "      <td>Strain 1</td>\n",
       "      <td>ACCOAC</td>\n",
       "      <td>1.0</td>\n",
       "    </tr>\n",
       "    <tr>\n",
       "      <th>2</th>\n",
       "      <td>Strain 1</td>\n",
       "      <td>MDH</td>\n",
       "      <td>1.0</td>\n",
       "    </tr>\n",
       "    <tr>\n",
       "      <th>3</th>\n",
       "      <td>Strain 1</td>\n",
       "      <td>PTAr</td>\n",
       "      <td>2.0</td>\n",
       "    </tr>\n",
       "    <tr>\n",
       "      <th>4</th>\n",
       "      <td>Strain 1</td>\n",
       "      <td>CS</td>\n",
       "      <td>0.0</td>\n",
       "    </tr>\n",
       "  </tbody>\n",
       "</table>\n",
       "</div>"
      ],
      "text/plain": [
       "  Line Name             Measurement Type  Value\n",
       "0  Strain 1  isopentenyl diphosphate(3-)    0.0\n",
       "1  Strain 1                       ACCOAC    1.0\n",
       "2  Strain 1                          MDH    1.0\n",
       "3  Strain 1                         PTAr    2.0\n",
       "4  Strain 1                           CS    0.0"
      ]
     },
     "execution_count": 11,
     "metadata": {},
     "output_type": "execute_result"
    }
   ],
   "source": [
    "df = df.set_index('Line Name').stack().reset_index()\n",
    "df.columns = ['Line Name', 'Measurement Type', 'Value']\n",
    "df.head()"
   ]
  },
  {
   "cell_type": "markdown",
   "metadata": {},
   "source": [
    "Save this dataframe to a file for ART front end:"
   ]
  },
  {
   "cell_type": "code",
   "execution_count": 12,
   "metadata": {},
   "outputs": [],
   "source": [
    "data_file = '../data/ART_training_EDDstyle.csv'\n",
    "df.to_csv(data_file, header=True, index=False)"
   ]
  },
  {
   "cell_type": "markdown",
   "metadata": {},
   "source": [
    "Store the names of all variables:"
   ]
  },
  {
   "cell_type": "code",
   "execution_count": 13,
   "metadata": {},
   "outputs": [],
   "source": [
    "variables = df['Measurement Type'][df['Line Name']=='Strain 1'].tolist()\n"
   ]
  },
  {
   "cell_type": "markdown",
   "metadata": {},
   "source": [
    "# Run ART "
   ]
  },
  {
   "cell_type": "markdown",
   "metadata": {},
   "source": [
    "## Train ART"
   ]
  },
  {
   "cell_type": "markdown",
   "metadata": {},
   "source": [
    "A dictionary that contains the settings for ART:"
   ]
  },
  {
   "cell_type": "code",
   "execution_count": 14,
   "metadata": {},
   "outputs": [],
   "source": [
    "art_params = {\n",
    "    'response_var': [variables[0]],\n",
    "    'input_var': variables[1:],\n",
    "    'seed': 10,\n",
    "    'num_recommendations': user_params['num_recommendations'],   \n",
    "    'cross_val': True,\n",
    "    'recommend': False,\n",
    "    'output_directory': user_params['output_directory']\n",
    "}"
   ]
  },
  {
   "cell_type": "markdown",
   "metadata": {},
   "source": [
    "Run ART (takes around 25min) or load the previously run model."
   ]
  },
  {
   "cell_type": "code",
   "execution_count": 15,
   "metadata": {},
   "outputs": [],
   "source": [
    "run_art = True"
   ]
  },
  {
   "cell_type": "code",
   "execution_count": 16,
   "metadata": {
    "collapsed": true,
    "jupyter": {
     "outputs_hidden": true
    }
   },
   "outputs": [
    {
     "name": "stdout",
     "output_type": "stream",
     "text": [
      "Warning: xgboost.XGBRegressor is not available and will not be used by TPOT.\n"
     ]
    },
    {
     "name": "stderr",
     "output_type": "stream",
     "text": [
      "Multiprocess sampling (2 chains in 2 jobs)\n",
      "NUTS: [omegas, sigma]\n",
      "There were 2 divergences after tuning. Increase `target_accept` or reparameterize.\n"
     ]
    },
    {
     "name": "stdout",
     "output_type": "stream",
     "text": [
      "Warning: xgboost.XGBRegressor is not available and will not be used by TPOT.\n"
     ]
    },
    {
     "name": "stderr",
     "output_type": "stream",
     "text": [
      "Multiprocess sampling (2 chains in 2 jobs)\n",
      "NUTS: [omegas, sigma]\n",
      "There were 2 divergences after tuning. Increase `target_accept` or reparameterize.\n",
      "The acceptance probability does not match the target. It is 0.6595131800190912, but should be close to 0.8. Try to increase the number of tuning steps.\n",
      "There were 12 divergences after tuning. Increase `target_accept` or reparameterize.\n"
     ]
    },
    {
     "name": "stdout",
     "output_type": "stream",
     "text": [
      "Warning: xgboost.XGBRegressor is not available and will not be used by TPOT.\n"
     ]
    },
    {
     "name": "stderr",
     "output_type": "stream",
     "text": [
      "Multiprocess sampling (2 chains in 2 jobs)\n",
      "NUTS: [omegas, sigma]\n",
      "There was 1 divergence after tuning. Increase `target_accept` or reparameterize.\n",
      "There were 12 divergences after tuning. Increase `target_accept` or reparameterize.\n",
      "The acceptance probability does not match the target. It is 0.6462472422719335, but should be close to 0.8. Try to increase the number of tuning steps.\n"
     ]
    },
    {
     "name": "stdout",
     "output_type": "stream",
     "text": [
      "Warning: xgboost.XGBRegressor is not available and will not be used by TPOT.\n"
     ]
    },
    {
     "name": "stderr",
     "output_type": "stream",
     "text": [
      "Multiprocess sampling (2 chains in 2 jobs)\n",
      "NUTS: [omegas, sigma]\n",
      "There were 11 divergences after tuning. Increase `target_accept` or reparameterize.\n",
      "There were 2 divergences after tuning. Increase `target_accept` or reparameterize.\n"
     ]
    },
    {
     "name": "stdout",
     "output_type": "stream",
     "text": [
      "Warning: xgboost.XGBRegressor is not available and will not be used by TPOT.\n"
     ]
    },
    {
     "name": "stderr",
     "output_type": "stream",
     "text": [
      "Multiprocess sampling (2 chains in 2 jobs)\n",
      "NUTS: [omegas, sigma]\n",
      "There were 2 divergences after tuning. Increase `target_accept` or reparameterize.\n",
      "There were 9 divergences after tuning. Increase `target_accept` or reparameterize.\n"
     ]
    },
    {
     "name": "stdout",
     "output_type": "stream",
     "text": [
      "Warning: xgboost.XGBRegressor is not available and will not be used by TPOT.\n"
     ]
    },
    {
     "name": "stderr",
     "output_type": "stream",
     "text": [
      "Multiprocess sampling (2 chains in 2 jobs)\n",
      "NUTS: [omegas, sigma]\n",
      "There were 11 divergences after tuning. Increase `target_accept` or reparameterize.\n",
      "There were 2 divergences after tuning. Increase `target_accept` or reparameterize.\n"
     ]
    },
    {
     "name": "stdout",
     "output_type": "stream",
     "text": [
      "Warning: xgboost.XGBRegressor is not available and will not be used by TPOT.\n"
     ]
    },
    {
     "name": "stderr",
     "output_type": "stream",
     "text": [
      "Multiprocess sampling (2 chains in 2 jobs)\n",
      "NUTS: [omegas, sigma]\n",
      "There was 1 divergence after tuning. Increase `target_accept` or reparameterize.\n",
      "The acceptance probability does not match the target. It is 0.9298139747992613, but should be close to 0.8. Try to increase the number of tuning steps.\n",
      "There were 4 divergences after tuning. Increase `target_accept` or reparameterize.\n"
     ]
    },
    {
     "name": "stdout",
     "output_type": "stream",
     "text": [
      "Warning: xgboost.XGBRegressor is not available and will not be used by TPOT.\n"
     ]
    },
    {
     "name": "stderr",
     "output_type": "stream",
     "text": [
      "Multiprocess sampling (2 chains in 2 jobs)\n",
      "NUTS: [omegas, sigma]\n"
     ]
    },
    {
     "name": "stdout",
     "output_type": "stream",
     "text": [
      "Warning: xgboost.XGBRegressor is not available and will not be used by TPOT.\n"
     ]
    },
    {
     "name": "stderr",
     "output_type": "stream",
     "text": [
      "Multiprocess sampling (2 chains in 2 jobs)\n",
      "NUTS: [omegas, sigma]\n",
      "There was 1 divergence after tuning. Increase `target_accept` or reparameterize.\n"
     ]
    },
    {
     "name": "stdout",
     "output_type": "stream",
     "text": [
      "Warning: xgboost.XGBRegressor is not available and will not be used by TPOT.\n"
     ]
    },
    {
     "name": "stderr",
     "output_type": "stream",
     "text": [
      "Multiprocess sampling (2 chains in 2 jobs)\n",
      "NUTS: [omegas, sigma]\n",
      "There were 4 divergences after tuning. Increase `target_accept` or reparameterize.\n",
      "There were 3 divergences after tuning. Increase `target_accept` or reparameterize.\n"
     ]
    },
    {
     "data": {
      "image/png": "[encoded data removed]",
      "text/plain": [
       "<Figure size 504x504 with 1 Axes>"
      ]
     },
     "metadata": {},
     "output_type": "display_data"
    },
    {
     "name": "stdout",
     "output_type": "stream",
     "text": [
      "Warning: xgboost.XGBRegressor is not available and will not be used by TPOT.\n"
     ]
    },
    {
     "name": "stderr",
     "output_type": "stream",
     "text": [
      "Multiprocess sampling (2 chains in 2 jobs)\n",
      "NUTS: [omegas, sigma]\n",
      "There was 1 divergence after tuning. Increase `target_accept` or reparameterize.\n",
      "There was 1 divergence after tuning. Increase `target_accept` or reparameterize.\n"
     ]
    },
    {
     "data": {
      "image/png": "[encoded data removed]",
      "text/plain": [
       "<Figure size 504x504 with 1 Axes>"
      ]
     },
     "metadata": {},
     "output_type": "display_data"
    },
    {
     "name": "stdout",
     "output_type": "stream",
     "text": [
      "CPU times: user 24min 16s, sys: 12min 42s, total: 36min 58s\n",
      "Wall time: 20min 59s\n"
     ]
    }
   ],
   "source": [
    "%%time\n",
    "if run_art:\n",
    "    art = RecommendationEngine(df, **art_params)\n",
    "else:\n",
    "    with open(os.path.join(art_params['output_directory'], 'art.pkl'), 'rb') as output:\n",
    "        art = pickle.load(output)"
   ]
  },
  {
   "cell_type": "markdown",
   "metadata": {},
   "source": [
    "Take a look at the predictive accuracy metrics:"
   ]
  },
  {
   "cell_type": "code",
   "execution_count": 17,
   "metadata": {},
   "outputs": [
    {
     "data": {
      "text/html": [
       "<div>\n",
       "<style scoped>\n",
       "    .dataframe tbody tr th:only-of-type {\n",
       "        vertical-align: middle;\n",
       "    }\n",
       "\n",
       "    .dataframe tbody tr th {\n",
       "        vertical-align: top;\n",
       "    }\n",
       "\n",
       "    .dataframe thead th {\n",
       "        text-align: right;\n",
       "    }\n",
       "</style>\n",
       "<table border=\"1\" class=\"dataframe\">\n",
       "  <thead>\n",
       "    <tr style=\"text-align: right;\">\n",
       "      <th></th>\n",
       "      <th>MAE</th>\n",
       "      <th>MRAE(%)</th>\n",
       "      <th>StdAE</th>\n",
       "      <th>MSE</th>\n",
       "      <th>$R^2$</th>\n",
       "    </tr>\n",
       "    <tr>\n",
       "      <th>Name</th>\n",
       "      <th></th>\n",
       "      <th></th>\n",
       "      <th></th>\n",
       "      <th></th>\n",
       "      <th></th>\n",
       "    </tr>\n",
       "  </thead>\n",
       "  <tbody>\n",
       "    <tr>\n",
       "      <th>Neural Regressor</th>\n",
       "      <td>0.204693</td>\n",
       "      <td>inf</td>\n",
       "      <td>0.155104</td>\n",
       "      <td>0.065956</td>\n",
       "      <td>-0.730791</td>\n",
       "    </tr>\n",
       "    <tr>\n",
       "      <th>Random Forest Regressor</th>\n",
       "      <td>0.026081</td>\n",
       "      <td>NaN</td>\n",
       "      <td>0.050578</td>\n",
       "      <td>0.003238</td>\n",
       "      <td>0.915022</td>\n",
       "    </tr>\n",
       "    <tr>\n",
       "      <th>TPOT Regressor</th>\n",
       "      <td>0.005641</td>\n",
       "      <td>NaN</td>\n",
       "      <td>0.015564</td>\n",
       "      <td>0.000274</td>\n",
       "      <td>0.992808</td>\n",
       "    </tr>\n",
       "    <tr>\n",
       "      <th>Support Vector Regressor</th>\n",
       "      <td>0.106237</td>\n",
       "      <td>inf</td>\n",
       "      <td>0.074779</td>\n",
       "      <td>0.016878</td>\n",
       "      <td>0.557095</td>\n",
       "    </tr>\n",
       "    <tr>\n",
       "      <th>Kernel Ridge Regressor</th>\n",
       "      <td>0.092691</td>\n",
       "      <td>inf</td>\n",
       "      <td>0.078948</td>\n",
       "      <td>0.014824</td>\n",
       "      <td>0.610985</td>\n",
       "    </tr>\n",
       "    <tr>\n",
       "      <th>K-NN Regressor</th>\n",
       "      <td>0.118036</td>\n",
       "      <td>NaN</td>\n",
       "      <td>0.101839</td>\n",
       "      <td>0.024304</td>\n",
       "      <td>0.362238</td>\n",
       "    </tr>\n",
       "    <tr>\n",
       "      <th>Gaussian Process Regressor</th>\n",
       "      <td>0.086795</td>\n",
       "      <td>inf</td>\n",
       "      <td>0.076816</td>\n",
       "      <td>0.013434</td>\n",
       "      <td>0.647471</td>\n",
       "    </tr>\n",
       "    <tr>\n",
       "      <th>Gradient Boosting Regressor</th>\n",
       "      <td>0.052986</td>\n",
       "      <td>inf</td>\n",
       "      <td>0.052229</td>\n",
       "      <td>0.005535</td>\n",
       "      <td>0.854744</td>\n",
       "    </tr>\n",
       "    <tr>\n",
       "      <th>Ensemble Model</th>\n",
       "      <td>0.008256</td>\n",
       "      <td>inf</td>\n",
       "      <td>0.014691</td>\n",
       "      <td>0.000284</td>\n",
       "      <td>0.992548</td>\n",
       "    </tr>\n",
       "  </tbody>\n",
       "</table>\n",
       "</div>"
      ],
      "text/plain": [
       "                                  MAE  MRAE(%)     StdAE       MSE     $R^2$\n",
       "Name                                                                        \n",
       "Neural Regressor             0.204693      inf  0.155104  0.065956 -0.730791\n",
       "Random Forest Regressor      0.026081      NaN  0.050578  0.003238  0.915022\n",
       "TPOT Regressor               0.005641      NaN  0.015564  0.000274  0.992808\n",
       "Support Vector Regressor     0.106237      inf  0.074779  0.016878  0.557095\n",
       "Kernel Ridge Regressor       0.092691      inf  0.078948  0.014824  0.610985\n",
       "K-NN Regressor               0.118036      NaN  0.101839  0.024304  0.362238\n",
       "Gaussian Process Regressor   0.086795      inf  0.076816  0.013434  0.647471\n",
       "Gradient Boosting Regressor  0.052986      inf  0.052229  0.005535  0.854744\n",
       "Ensemble Model               0.008256      inf  0.014691  0.000284  0.992548"
      ]
     },
     "metadata": {},
     "output_type": "display_data"
    }
   ],
   "source": [
    "art.evaluate_models_cv()"
   ]
  },
  {
   "cell_type": "markdown",
   "metadata": {},
   "source": [
    "ART's ensemble model outperforms all individual models in terms of $R^2$."
   ]
  },
  {
   "cell_type": "code",
   "execution_count": 18,
   "metadata": {},
   "outputs": [
    {
     "data": {
      "image/png": "[encoded data removed]",
      "text/plain": [
       "<Figure size 504x504 with 1 Axes>"
      ]
     },
     "metadata": {},
     "output_type": "display_data"
    }
   ],
   "source": [
    "plot.predictions_vs_observations(art, cv_flag=True, errorbars_flag=True)"
   ]
  },
  {
   "cell_type": "code",
   "execution_count": 19,
   "metadata": {},
   "outputs": [],
   "source": [
    "utils.save_pkl_object(art)\n"
   ]
  },
  {
   "cell_type": "markdown",
   "metadata": {},
   "source": [
    "## Recommend new designs"
   ]
  },
  {
   "cell_type": "markdown",
   "metadata": {},
   "source": [
    "Find all possible values for input variables:"
   ]
  },
  {
   "cell_type": "code",
   "execution_count": 20,
   "metadata": {},
   "outputs": [],
   "source": [
    "categories = set(df['Value'][df['Measurement Type'].isin(art.input_var)])\n"
   ]
  },
  {
   "cell_type": "markdown",
   "metadata": {},
   "source": [
    "Create the set of all possible designs:"
   ]
  },
  {
   "cell_type": "code",
   "execution_count": 22,
   "metadata": {},
   "outputs": [],
   "source": [
    "n_modifications = len(categories)\n",
    "num_of_reactions = art.num_input_var\n",
    "num_of_designs = n_modifications**num_of_reactions\n",
    "strains = np.zeros((num_of_designs, num_of_reactions))\n"
   ]
  },
  {
   "cell_type": "code",
   "execution_count": 23,
   "metadata": {},
   "outputs": [],
   "source": [
    "i = 0\n",
    "\n",
    "for d1 in range(3):\n",
    "    for d2 in range(3):\n",
    "        for d3 in range(3):\n",
    "            for d4 in range(3):\n",
    "                for d5 in range(3):\n",
    "                    for d6 in range(3):\n",
    "                        for d7 in range(3):\n",
    "                            for d8 in range(3):\n",
    "                                strains[i,:] = np.hstack((d1,d2,d3,d4,d5,d6,d7,d8)).astype(int)\n",
    "                                i+=1"
   ]
  },
  {
   "cell_type": "markdown",
   "metadata": {},
   "source": [
    "Calculate mean predicted production and standard deviation for all possible designs:"
   ]
  },
  {
   "cell_type": "code",
   "execution_count": 52,
   "metadata": {},
   "outputs": [],
   "source": [
    "pp_mean, pp_std = art.post_pred_stats(strains)\n"
   ]
  },
  {
   "cell_type": "markdown",
   "metadata": {},
   "source": [
    "The relative engineering accuracy is set to one percent to make sure recommendations are different from the input data."
   ]
  },
  {
   "cell_type": "code",
   "execution_count": 53,
   "metadata": {},
   "outputs": [],
   "source": [
    "art.rel_eng_accuracy = 0.01"
   ]
  },
  {
   "cell_type": "markdown",
   "metadata": {},
   "source": [
    "Here we take the exploitative approach for finding recommendations - the objective function is defined as the mean predicted production (the parameter for exploration is set to $\\alpha=0$)."
   ]
  },
  {
   "cell_type": "code",
   "execution_count": 54,
   "metadata": {},
   "outputs": [
    {
     "data": {
      "text/html": [
       "<div>\n",
       "<style scoped>\n",
       "    .dataframe tbody tr th:only-of-type {\n",
       "        vertical-align: middle;\n",
       "    }\n",
       "\n",
       "    .dataframe tbody tr th {\n",
       "        vertical-align: top;\n",
       "    }\n",
       "\n",
       "    .dataframe thead th {\n",
       "        text-align: right;\n",
       "    }\n",
       "</style>\n",
       "<table border=\"1\" class=\"dataframe\">\n",
       "  <thead>\n",
       "    <tr style=\"text-align: right;\">\n",
       "      <th></th>\n",
       "      <th>ACCOAC</th>\n",
       "      <th>MDH</th>\n",
       "      <th>PTAr</th>\n",
       "      <th>CS</th>\n",
       "      <th>ACACT1r</th>\n",
       "      <th>PPC</th>\n",
       "      <th>PPCK</th>\n",
       "      <th>PFL</th>\n",
       "      <th>isopentenyl diphosphate(3-)</th>\n",
       "    </tr>\n",
       "  </thead>\n",
       "  <tbody>\n",
       "    <tr>\n",
       "      <th>0</th>\n",
       "      <td>2.0</td>\n",
       "      <td>2.0</td>\n",
       "      <td>1.0</td>\n",
       "      <td>2.0</td>\n",
       "      <td>2.0</td>\n",
       "      <td>2.0</td>\n",
       "      <td>0.0</td>\n",
       "      <td>1.0</td>\n",
       "      <td>0.573584</td>\n",
       "    </tr>\n",
       "    <tr>\n",
       "      <th>1</th>\n",
       "      <td>2.0</td>\n",
       "      <td>2.0</td>\n",
       "      <td>2.0</td>\n",
       "      <td>2.0</td>\n",
       "      <td>2.0</td>\n",
       "      <td>2.0</td>\n",
       "      <td>0.0</td>\n",
       "      <td>1.0</td>\n",
       "      <td>0.572193</td>\n",
       "    </tr>\n",
       "    <tr>\n",
       "      <th>2</th>\n",
       "      <td>1.0</td>\n",
       "      <td>2.0</td>\n",
       "      <td>1.0</td>\n",
       "      <td>2.0</td>\n",
       "      <td>2.0</td>\n",
       "      <td>2.0</td>\n",
       "      <td>0.0</td>\n",
       "      <td>1.0</td>\n",
       "      <td>0.572167</td>\n",
       "    </tr>\n",
       "    <tr>\n",
       "      <th>3</th>\n",
       "      <td>2.0</td>\n",
       "      <td>1.0</td>\n",
       "      <td>1.0</td>\n",
       "      <td>2.0</td>\n",
       "      <td>2.0</td>\n",
       "      <td>2.0</td>\n",
       "      <td>0.0</td>\n",
       "      <td>1.0</td>\n",
       "      <td>0.572039</td>\n",
       "    </tr>\n",
       "    <tr>\n",
       "      <th>4</th>\n",
       "      <td>2.0</td>\n",
       "      <td>2.0</td>\n",
       "      <td>1.0</td>\n",
       "      <td>2.0</td>\n",
       "      <td>2.0</td>\n",
       "      <td>1.0</td>\n",
       "      <td>0.0</td>\n",
       "      <td>1.0</td>\n",
       "      <td>0.571967</td>\n",
       "    </tr>\n",
       "    <tr>\n",
       "      <th>5</th>\n",
       "      <td>2.0</td>\n",
       "      <td>2.0</td>\n",
       "      <td>2.0</td>\n",
       "      <td>2.0</td>\n",
       "      <td>2.0</td>\n",
       "      <td>1.0</td>\n",
       "      <td>0.0</td>\n",
       "      <td>1.0</td>\n",
       "      <td>0.571282</td>\n",
       "    </tr>\n",
       "    <tr>\n",
       "      <th>6</th>\n",
       "      <td>2.0</td>\n",
       "      <td>2.0</td>\n",
       "      <td>1.0</td>\n",
       "      <td>2.0</td>\n",
       "      <td>2.0</td>\n",
       "      <td>2.0</td>\n",
       "      <td>0.0</td>\n",
       "      <td>2.0</td>\n",
       "      <td>0.570968</td>\n",
       "    </tr>\n",
       "    <tr>\n",
       "      <th>7</th>\n",
       "      <td>2.0</td>\n",
       "      <td>2.0</td>\n",
       "      <td>2.0</td>\n",
       "      <td>2.0</td>\n",
       "      <td>2.0</td>\n",
       "      <td>2.0</td>\n",
       "      <td>0.0</td>\n",
       "      <td>2.0</td>\n",
       "      <td>0.570915</td>\n",
       "    </tr>\n",
       "    <tr>\n",
       "      <th>8</th>\n",
       "      <td>1.0</td>\n",
       "      <td>2.0</td>\n",
       "      <td>2.0</td>\n",
       "      <td>2.0</td>\n",
       "      <td>2.0</td>\n",
       "      <td>2.0</td>\n",
       "      <td>0.0</td>\n",
       "      <td>1.0</td>\n",
       "      <td>0.570771</td>\n",
       "    </tr>\n",
       "    <tr>\n",
       "      <th>9</th>\n",
       "      <td>2.0</td>\n",
       "      <td>1.0</td>\n",
       "      <td>2.0</td>\n",
       "      <td>2.0</td>\n",
       "      <td>2.0</td>\n",
       "      <td>2.0</td>\n",
       "      <td>0.0</td>\n",
       "      <td>1.0</td>\n",
       "      <td>0.570769</td>\n",
       "    </tr>\n",
       "  </tbody>\n",
       "</table>\n",
       "</div>"
      ],
      "text/plain": [
       "   ACCOAC  MDH  PTAr   CS  ACACT1r  PPC  PPCK  PFL  \\\n",
       "0     2.0  2.0   1.0  2.0      2.0  2.0   0.0  1.0   \n",
       "1     2.0  2.0   2.0  2.0      2.0  2.0   0.0  1.0   \n",
       "2     1.0  2.0   1.0  2.0      2.0  2.0   0.0  1.0   \n",
       "3     2.0  1.0   1.0  2.0      2.0  2.0   0.0  1.0   \n",
       "4     2.0  2.0   1.0  2.0      2.0  1.0   0.0  1.0   \n",
       "5     2.0  2.0   2.0  2.0      2.0  1.0   0.0  1.0   \n",
       "6     2.0  2.0   1.0  2.0      2.0  2.0   0.0  2.0   \n",
       "7     2.0  2.0   2.0  2.0      2.0  2.0   0.0  2.0   \n",
       "8     1.0  2.0   2.0  2.0      2.0  2.0   0.0  1.0   \n",
       "9     2.0  1.0   2.0  2.0      2.0  2.0   0.0  1.0   \n",
       "\n",
       "   isopentenyl diphosphate(3-)  \n",
       "0                     0.573584  \n",
       "1                     0.572193  \n",
       "2                     0.572167  \n",
       "3                     0.572039  \n",
       "4                     0.571967  \n",
       "5                     0.571282  \n",
       "6                     0.570968  \n",
       "7                     0.570915  \n",
       "8                     0.570771  \n",
       "9                     0.570769  "
      ]
     },
     "execution_count": 54,
     "metadata": {},
     "output_type": "execute_result"
    }
   ],
   "source": [
    "obj_func = pp_mean \n",
    "data = np.hstack((strains, obj_func, obj_func))\n",
    "\n",
    "art.recommend(data=data)\n",
    "art.recommendations\n"
   ]
  },
  {
   "cell_type": "markdown",
   "metadata": {},
   "source": [
    "For all recommended designs, CS and ACACT1r reaction fluxes should double and PPCK should be knockout. "
   ]
  },
  {
   "cell_type": "markdown",
   "metadata": {},
   "source": [
    "Change the last column name to indicate it is predicted:"
   ]
  },
  {
   "cell_type": "code",
   "execution_count": 55,
   "metadata": {},
   "outputs": [],
   "source": [
    "pred_col_name = 'Mean predicted Isoprenol [mg/L]'\n",
    "art.recommendations = art.recommendations.rename(columns={art_params['response_var'][0]: pred_col_name})\n"
   ]
  },
  {
   "cell_type": "markdown",
   "metadata": {},
   "source": [
    "Add standard deviation predictions for the recommendations:"
   ]
  },
  {
   "cell_type": "code",
   "execution_count": 56,
   "metadata": {},
   "outputs": [],
   "source": [
    "pp_rec_mean, pp_rec_std = art.post_pred_stats(art.recommendations.values[:,:-1])\n",
    "art.recommendations['SD Isoprenol [mg/L]'] = pp_rec_std.copy()\n"
   ]
  },
  {
   "cell_type": "markdown",
   "metadata": {},
   "source": [
    "Visualize the predicted distribution for all recommendations:"
   ]
  },
  {
   "cell_type": "code",
   "execution_count": 33,
   "metadata": {},
   "outputs": [
    {
     "data": {
      "image/png": "[encoded data removed]",
      "text/plain": [
       "<Figure size 2160x2160 with 10 Axes>"
      ]
     },
     "metadata": {},
     "output_type": "display_data"
    }
   ],
   "source": [
    "plot.recomm_distribution(art, art.find_current_best(), [pred_col_name])\n"
   ]
  },
  {
   "cell_type": "markdown",
   "metadata": {},
   "source": [
    "Assign Line Name to each of the recommendations and save the file:"
   ]
  },
  {
   "cell_type": "code",
   "execution_count": 57,
   "metadata": {},
   "outputs": [
    {
     "data": {
      "text/html": [
       "<div>\n",
       "<style scoped>\n",
       "    .dataframe tbody tr th:only-of-type {\n",
       "        vertical-align: middle;\n",
       "    }\n",
       "\n",
       "    .dataframe tbody tr th {\n",
       "        vertical-align: top;\n",
       "    }\n",
       "\n",
       "    .dataframe thead th {\n",
       "        text-align: right;\n",
       "    }\n",
       "</style>\n",
       "<table border=\"1\" class=\"dataframe\">\n",
       "  <thead>\n",
       "    <tr style=\"text-align: right;\">\n",
       "      <th></th>\n",
       "      <th>Line Name</th>\n",
       "      <th>ACCOAC</th>\n",
       "      <th>MDH</th>\n",
       "      <th>PTAr</th>\n",
       "      <th>CS</th>\n",
       "      <th>ACACT1r</th>\n",
       "      <th>PPC</th>\n",
       "      <th>PPCK</th>\n",
       "      <th>PFL</th>\n",
       "      <th>Mean predicted Isoprenol [mg/L]</th>\n",
       "      <th>SD Isoprenol [mg/L]</th>\n",
       "    </tr>\n",
       "  </thead>\n",
       "  <tbody>\n",
       "    <tr>\n",
       "      <th>0</th>\n",
       "      <td>Strain 97</td>\n",
       "      <td>2.0</td>\n",
       "      <td>2.0</td>\n",
       "      <td>1.0</td>\n",
       "      <td>2.0</td>\n",
       "      <td>2.0</td>\n",
       "      <td>2.0</td>\n",
       "      <td>0.0</td>\n",
       "      <td>1.0</td>\n",
       "      <td>0.573584</td>\n",
       "      <td>0.019785</td>\n",
       "    </tr>\n",
       "    <tr>\n",
       "      <th>1</th>\n",
       "      <td>Strain 98</td>\n",
       "      <td>2.0</td>\n",
       "      <td>2.0</td>\n",
       "      <td>2.0</td>\n",
       "      <td>2.0</td>\n",
       "      <td>2.0</td>\n",
       "      <td>2.0</td>\n",
       "      <td>0.0</td>\n",
       "      <td>1.0</td>\n",
       "      <td>0.572193</td>\n",
       "      <td>0.019752</td>\n",
       "    </tr>\n",
       "    <tr>\n",
       "      <th>2</th>\n",
       "      <td>Strain 99</td>\n",
       "      <td>1.0</td>\n",
       "      <td>2.0</td>\n",
       "      <td>1.0</td>\n",
       "      <td>2.0</td>\n",
       "      <td>2.0</td>\n",
       "      <td>2.0</td>\n",
       "      <td>0.0</td>\n",
       "      <td>1.0</td>\n",
       "      <td>0.572167</td>\n",
       "      <td>0.019752</td>\n",
       "    </tr>\n",
       "    <tr>\n",
       "      <th>3</th>\n",
       "      <td>Strain 100</td>\n",
       "      <td>2.0</td>\n",
       "      <td>1.0</td>\n",
       "      <td>1.0</td>\n",
       "      <td>2.0</td>\n",
       "      <td>2.0</td>\n",
       "      <td>2.0</td>\n",
       "      <td>0.0</td>\n",
       "      <td>1.0</td>\n",
       "      <td>0.572039</td>\n",
       "      <td>0.019787</td>\n",
       "    </tr>\n",
       "    <tr>\n",
       "      <th>4</th>\n",
       "      <td>Strain 101</td>\n",
       "      <td>2.0</td>\n",
       "      <td>2.0</td>\n",
       "      <td>1.0</td>\n",
       "      <td>2.0</td>\n",
       "      <td>2.0</td>\n",
       "      <td>1.0</td>\n",
       "      <td>0.0</td>\n",
       "      <td>1.0</td>\n",
       "      <td>0.571967</td>\n",
       "      <td>0.019780</td>\n",
       "    </tr>\n",
       "  </tbody>\n",
       "</table>\n",
       "</div>"
      ],
      "text/plain": [
       "    Line Name  ACCOAC  MDH  PTAr   CS  ACACT1r  PPC  PPCK  PFL  \\\n",
       "0   Strain 97     2.0  2.0   1.0  2.0      2.0  2.0   0.0  1.0   \n",
       "1   Strain 98     2.0  2.0   2.0  2.0      2.0  2.0   0.0  1.0   \n",
       "2   Strain 99     1.0  2.0   1.0  2.0      2.0  2.0   0.0  1.0   \n",
       "3  Strain 100     2.0  1.0   1.0  2.0      2.0  2.0   0.0  1.0   \n",
       "4  Strain 101     2.0  2.0   1.0  2.0      2.0  1.0   0.0  1.0   \n",
       "\n",
       "   Mean predicted Isoprenol [mg/L]  SD Isoprenol [mg/L]  \n",
       "0                         0.573584             0.019785  \n",
       "1                         0.572193             0.019752  \n",
       "2                         0.572167             0.019752  \n",
       "3                         0.572039             0.019787  \n",
       "4                         0.571967             0.019780  "
      ]
     },
     "execution_count": 57,
     "metadata": {},
     "output_type": "execute_result"
    }
   ],
   "source": [
    "n_instances = len(set(df['Line Name']))\n",
    "art.recommendations.insert(loc=0, column='Line Name', value=['Strain ' + str(n_instances+i) for i in range(1,art_params['num_recommendations']+1)])\n",
    "art.recommendations.head()\n"
   ]
  },
  {
   "cell_type": "code",
   "execution_count": 58,
   "metadata": {},
   "outputs": [],
   "source": [
    "rec_filename = f'{art.outDir}/recommendations.csv'\n",
    "art.recommendations.to_csv(rec_filename, header=True, index=False)"
   ]
  },
  {
   "cell_type": "code",
   "execution_count": null,
   "metadata": {},
   "outputs": [],
   "source": []
  }
 ],
 "metadata": {
  "kernelspec": {
   "display_name": "ART_v3.6",
   "language": "python",
   "name": "art_v3.6"
  },
  "language_info": {
   "codemirror_mode": {
    "name": "ipython",
    "version": 3
   },
   "file_extension": ".py",
   "mimetype": "text/x-python",
   "name": "python",
   "nbconvert_exporter": "python",
   "pygments_lexer": "ipython3",
   "version": "3.6.5"
  }
 },
 "nbformat": 4,
 "nbformat_minor": 4
}
