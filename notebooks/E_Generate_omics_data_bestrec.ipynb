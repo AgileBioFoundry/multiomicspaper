{
 "cells": [
  {
   "cell_type": "markdown",
   "metadata": {},
   "source": [
    "# Calculation of isoprenol concentrations for the recommendations generated using ART"
   ]
  },
  {
   "cell_type": "markdown",
   "metadata": {},
   "source": [
    "Tested using **biodesign_3.7** kernel on the jprime.lbl.gov server. It uses the cplex library for running the MOMA optimization"
   ]
  },
  {
   "cell_type": "markdown",
   "metadata": {},
   "source": [
    "#### ! TODO\n",
    "\n",
    "The two files that are necessary for the notebook to run are:\n",
    "<!--    - A modified E. coli model with the isopentenol pathway added to it (`iJO1366_MVA.json` file in the `../data/models` directory)\n",
    "   - A set of designs (e.g. `../data/ice_mo_strains.csv` exported from ICE) containing the details of which reactions are either:\n",
    "       - (0) eliminated \n",
    "       - (1) included\n",
    "       - (2) doubled the flux -->"
   ]
  },
  {
   "cell_type": "markdown",
   "metadata": {},
   "source": [
    "#### Running the cells below will generate the following output files, stored in the user defined output directory:\n",
    "\n",
    "- For EDD import:\n",
    "    - `experiment_description_file.csv`\n",
    "    - `fluxomics_synthetic_data_sample_linename.csv`\n",
    "    - `metabolomics_synthetic_data_sample_linename.csv`\n",
    "    - `proteomics_synthetic_data_sample_linename.csv`\n",
    "    - `transcriptomics_synthetic_data_sample_linename.csv`\n",
    "    - `external_metabolites.csv`\n",
    "    - `OD_synthetic_sample.csv`\n",
    "    \n",
    "    \n",
    "- For Arrowland import:\n",
    "    - `fluxomics_al_format_x_hrs_linename.csv`\n",
    "    - `metabolomics_al_format_x_hrs_linename.csv`\n",
    "    - `proteomics_al_format_x_hrs_linename.csv`\n",
    "    - `transcriptomics_al_format_x_hrs_linename.csv`"
   ]
  },
  {
   "cell_type": "markdown",
   "metadata": {},
   "source": [
    "## Setup"
   ]
  },
  {
   "cell_type": "markdown",
   "metadata": {},
   "source": [
    "Clone the git repository with the `OMG` library:\n",
    "\n",
    "`git clone https://github.com/JBEI/OMG.git --branch omgforallhosts --single-branch`\n",
    "\n",
    "or pull the latest version."
   ]
  },
  {
   "cell_type": "code",
   "execution_count": 1,
   "metadata": {},
   "outputs": [],
   "source": [
    "import sys\n",
    "import os\n",
    "\n",
    "sys.path.insert(1, '../../OMG')\n",
    "sys.path.append('../')\n",
    "\n",
    "import cobra\n",
    "import pandas as pd\n",
    "import omg \n",
    "from plot_multiomics import *"
   ]
  },
  {
   "cell_type": "markdown",
   "metadata": {},
   "source": [
    "## User parameters"
   ]
  },
  {
   "cell_type": "code",
   "execution_count": 54,
   "metadata": {},
   "outputs": [],
   "source": [
    "user_params = {\n",
    "    'host': 'ecoli', # ecoli or ropacus\n",
    "    'modelfile': '../data/models/iJO1366_MVA.json',\n",
    "    'cerevisiae_modelfile': '../data/models/iMM904.json', \n",
    "    'timestart': 0.0,\n",
    "    'timestop': 8.0,\n",
    "    'numtimepoints': 9,\n",
    "    'designsfile': 'recommendations.csv',\n",
    "    'designsfilepath': '../data/art_output',\n",
    "    'mapping_file': '../mapping/inchikey_to_cid.txt',\n",
    "    'output_file_path': 'data/omg_output',\n",
    "    'edd_omics_file_path': '../data/omg_output/edd_rec/',\n",
    "    'al_omics_file_path': '../data/omg_output/arrowland_rec/',\n",
    "    'numreactions': 8,\n",
    "    'numinstances': 10,\n",
    "    'ext_metabolites': {\n",
    "        'glc__D_e': 22.203,\n",
    "        'nh4_e': 18.695,\n",
    "        'pi_e': 69.454,\n",
    "        'so4_e': 2.0,\n",
    "        'mg2_e': 2.0,\n",
    "        'k_e': 21.883,\n",
    "        'na1_e': 103.7,\n",
    "        'cl_e': 27.25,\n",
    "        'isoprenol_e': 0.0,\n",
    "        'ac_e': 0.0,\n",
    "        'for_e': 0.0,\n",
    "        'lac__D_e': 0.0,\n",
    "        'etoh_e': 0.0\n",
    "    },\n",
    "    'initial_OD': 0.01,\n",
    "    'BIOMASS_REACTION_ID': 'BIOMASS_Ec_iJO1366_core_53p95M'\n",
    "} "
   ]
  },
  {
   "cell_type": "markdown",
   "metadata": {},
   "source": [
    "## Using the OMG library functions for creating synthetic multiomics data"
   ]
  },
  {
   "cell_type": "markdown",
   "metadata": {},
   "source": [
    "### 1) Getting and preparing the metabolic model"
   ]
  },
  {
   "cell_type": "markdown",
   "metadata": {},
   "source": [
    "First we obtain the metabolic model:"
   ]
  },
  {
   "cell_type": "code",
   "execution_count": 16,
   "metadata": {},
   "outputs": [],
   "source": [
    "file_name = user_params['modelfile']\n",
    "model = cobra.io.load_json_model(file_name)"
   ]
  },
  {
   "cell_type": "markdown",
   "metadata": {},
   "source": [
    "Check if isopentenol pathway is present in the model, else add it using the *S. Cerevisiae* model"
   ]
  },
  {
   "cell_type": "code",
   "execution_count": 17,
   "metadata": {},
   "outputs": [],
   "source": [
    "if not omg.model_has_IPP_pathway(model):\n",
    "    print(\"Isopentenol pathway is present in the model\")\n",
    "    sce_filename = user_params['cerevisiae_modelfile']\n",
    "    try:\n",
    "        sce_model = cobra.io.load_json_model(sce_filename)\n",
    "    except IOError:\n",
    "        print(\"Could not read file:\", sce_filename)\n",
    "    else:\n",
    "        # add pathway to model\n",
    "        omg.add_isopentenol_pathway(model, sce_model)"
   ]
  },
  {
   "cell_type": "markdown",
   "metadata": {},
   "source": [
    "We now add minimum flux constraints for production of isopentenol and formate, and we limit oxygen intake:"
   ]
  },
  {
   "cell_type": "code",
   "execution_count": 18,
   "metadata": {},
   "outputs": [],
   "source": [
    "iso = 'EX_isoprenol_e'\n",
    "iso_cons = model.problem.Constraint(model.reactions.EX_isoprenol_e.flux_expression,lb = 0.20)\n",
    "model.add_cons_vars(iso_cons)\n",
    "for_cons = model.problem.Constraint(model.reactions.EX_for_e.flux_expression,lb = 0.10)\n",
    "model.add_cons_vars(for_cons)\n",
    "o2_cons = model.problem.Constraint(model.reactions.EX_o2_e.flux_expression,lb = -8.0)\n",
    "model.add_cons_vars(o2_cons)\n"
   ]
  },
  {
   "cell_type": "markdown",
   "metadata": {},
   "source": [
    "And then we constrain several central carbon metabolism fluxes to more realistic upper and lower bounds:"
   ]
  },
  {
   "cell_type": "code",
   "execution_count": 19,
   "metadata": {},
   "outputs": [],
   "source": [
    "CC_rxn_names = ['ACCOAC','MDH','PTAr','CS','ACACT1r','PPC','PPCK','PFL']\n",
    "for reaction in CC_rxn_names:\n",
    "    reaction_constraint = model.problem.Constraint(model.reactions.get_by_id(reaction).flux_expression,lb = -1.0,ub =  1.0)\n",
    "    model.add_cons_vars(reaction_constraint)"
   ]
  },
  {
   "cell_type": "markdown",
   "metadata": {},
   "source": [
    "We also create a similar model with a higher production of isopentenol, which we will use with MOMA to simulate bioengineered strains:"
   ]
  },
  {
   "cell_type": "code",
   "execution_count": 20,
   "metadata": {},
   "outputs": [],
   "source": [
    "modelHI = model.copy()\n",
    "iso_cons = modelHI.problem.Constraint(modelHI.reactions.EX_isoprenol_e.flux_expression,lb = 0.25)\n",
    "modelHI.add_cons_vars(iso_cons)"
   ]
  },
  {
   "cell_type": "markdown",
   "metadata": {},
   "source": [
    "### 2) Obtaining times series for the wild type"
   ]
  },
  {
   "cell_type": "markdown",
   "metadata": {},
   "source": [
    "Create first time grid for simulation:"
   ]
  },
  {
   "cell_type": "code",
   "execution_count": 21,
   "metadata": {},
   "outputs": [],
   "source": [
    "t0 = user_params['timestart']\n",
    "tf = user_params['timestop']\n",
    "points = user_params['numtimepoints']\n",
    "tspan, delt = np.linspace(t0, tf, points, dtype='float64', retstep=True)\n",
    "\n",
    "grid = (tspan, delt)"
   ]
  },
  {
   "cell_type": "markdown",
   "metadata": {},
   "source": [
    "We then use this model to obtain the times series for fluxes, OD and external metabolites:"
   ]
  },
  {
   "cell_type": "code",
   "execution_count": 22,
   "metadata": {},
   "outputs": [
    {
     "name": "stdout",
     "output_type": "stream",
     "text": [
      "0.0 optimal 0.5363612610171437\n",
      "1.0 optimal 0.5363612610171437\n",
      "2.0 optimal 0.5363612610171437\n",
      "3.0 optimal 0.5363612610171437\n",
      "4.0 optimal 0.5363612610171437\n",
      "5.0 optimal 0.5363612610171437\n",
      "6.0 optimal 0.5363612610171437\n",
      "7.0 optimal 0.5363612610171437\n",
      "8.0 optimal 0.5363612610171437\n"
     ]
    }
   ],
   "source": [
    "solution_TS, model_TS, cell, Emets, Erxn2Emet = \\\n",
    "    omg.get_flux_time_series(model, user_params['ext_metabolites'], grid, user_params)"
   ]
  },
  {
   "cell_type": "markdown",
   "metadata": {},
   "source": [
    "We perform the same calculation for the model with higher isoprenol production that we created above:"
   ]
  },
  {
   "cell_type": "code",
   "execution_count": 23,
   "metadata": {},
   "outputs": [
    {
     "name": "stdout",
     "output_type": "stream",
     "text": [
      "0.0 optimal 0.5352266385352652\n",
      "1.0 optimal 0.5352266385352652\n",
      "2.0 optimal 0.5352266385352652\n",
      "3.0 optimal 0.5352266385352652\n",
      "4.0 optimal 0.5352266385352652\n",
      "5.0 optimal 0.5352266385352652\n",
      "6.0 optimal 0.5352266385352652\n",
      "7.0 optimal 0.5352266385352652\n",
      "8.0 optimal 0.5352266385352652\n"
     ]
    }
   ],
   "source": [
    "solutionHI_TS, modelHI_TS, cellHI, EmetsHI, Erxn2EmetHI = \\\n",
    "    omg.get_flux_time_series(modelHI, user_params['ext_metabolites'], grid, user_params)"
   ]
  },
  {
   "cell_type": "markdown",
   "metadata": {},
   "source": [
    "### 3) Getting bioengineered flux profiles through MOMA"
   ]
  },
  {
   "cell_type": "markdown",
   "metadata": {},
   "source": [
    "First obtain the file from ICE with suggested designs (i.e. reactions kos and overexpressions):"
   ]
  },
  {
   "cell_type": "code",
   "execution_count": 27,
   "metadata": {},
   "outputs": [
    {
     "data": {
      "text/html": [
       "<div>\n",
       "<style scoped>\n",
       "    .dataframe tbody tr th:only-of-type {\n",
       "        vertical-align: middle;\n",
       "    }\n",
       "\n",
       "    .dataframe tbody tr th {\n",
       "        vertical-align: top;\n",
       "    }\n",
       "\n",
       "    .dataframe thead th {\n",
       "        text-align: right;\n",
       "    }\n",
       "</style>\n",
       "<table border=\"1\" class=\"dataframe\">\n",
       "  <thead>\n",
       "    <tr style=\"text-align: right;\">\n",
       "      <th></th>\n",
       "      <th>Line Name</th>\n",
       "      <th>ACCOAC</th>\n",
       "      <th>MDH</th>\n",
       "      <th>PTAr</th>\n",
       "      <th>CS</th>\n",
       "      <th>ACACT1r</th>\n",
       "      <th>PPC</th>\n",
       "      <th>PPCK</th>\n",
       "      <th>PFL</th>\n",
       "      <th>Mean predicted Isoprenol [mg/L]</th>\n",
       "      <th>SD Isoprenol [mg/L]</th>\n",
       "    </tr>\n",
       "  </thead>\n",
       "  <tbody>\n",
       "    <tr>\n",
       "      <th>0</th>\n",
       "      <td>Strain 97</td>\n",
       "      <td>2.0</td>\n",
       "      <td>2.0</td>\n",
       "      <td>1.0</td>\n",
       "      <td>2.0</td>\n",
       "      <td>2.0</td>\n",
       "      <td>2.0</td>\n",
       "      <td>0.0</td>\n",
       "      <td>1.0</td>\n",
       "      <td>0.573584</td>\n",
       "      <td>0.019785</td>\n",
       "    </tr>\n",
       "    <tr>\n",
       "      <th>1</th>\n",
       "      <td>Strain 98</td>\n",
       "      <td>2.0</td>\n",
       "      <td>2.0</td>\n",
       "      <td>2.0</td>\n",
       "      <td>2.0</td>\n",
       "      <td>2.0</td>\n",
       "      <td>2.0</td>\n",
       "      <td>0.0</td>\n",
       "      <td>1.0</td>\n",
       "      <td>0.572193</td>\n",
       "      <td>0.019752</td>\n",
       "    </tr>\n",
       "    <tr>\n",
       "      <th>2</th>\n",
       "      <td>Strain 99</td>\n",
       "      <td>1.0</td>\n",
       "      <td>2.0</td>\n",
       "      <td>1.0</td>\n",
       "      <td>2.0</td>\n",
       "      <td>2.0</td>\n",
       "      <td>2.0</td>\n",
       "      <td>0.0</td>\n",
       "      <td>1.0</td>\n",
       "      <td>0.572167</td>\n",
       "      <td>0.019752</td>\n",
       "    </tr>\n",
       "    <tr>\n",
       "      <th>3</th>\n",
       "      <td>Strain 100</td>\n",
       "      <td>2.0</td>\n",
       "      <td>1.0</td>\n",
       "      <td>1.0</td>\n",
       "      <td>2.0</td>\n",
       "      <td>2.0</td>\n",
       "      <td>2.0</td>\n",
       "      <td>0.0</td>\n",
       "      <td>1.0</td>\n",
       "      <td>0.572039</td>\n",
       "      <td>0.019787</td>\n",
       "    </tr>\n",
       "    <tr>\n",
       "      <th>4</th>\n",
       "      <td>Strain 101</td>\n",
       "      <td>2.0</td>\n",
       "      <td>2.0</td>\n",
       "      <td>1.0</td>\n",
       "      <td>2.0</td>\n",
       "      <td>2.0</td>\n",
       "      <td>1.0</td>\n",
       "      <td>0.0</td>\n",
       "      <td>1.0</td>\n",
       "      <td>0.571967</td>\n",
       "      <td>0.019780</td>\n",
       "    </tr>\n",
       "  </tbody>\n",
       "</table>\n",
       "</div>"
      ],
      "text/plain": [
       "    Line Name  ACCOAC  MDH  PTAr   CS  ACACT1r  PPC  PPCK  PFL  \\\n",
       "0   Strain 97     2.0  2.0   1.0  2.0      2.0  2.0   0.0  1.0   \n",
       "1   Strain 98     2.0  2.0   2.0  2.0      2.0  2.0   0.0  1.0   \n",
       "2   Strain 99     1.0  2.0   1.0  2.0      2.0  2.0   0.0  1.0   \n",
       "3  Strain 100     2.0  1.0   1.0  2.0      2.0  2.0   0.0  1.0   \n",
       "4  Strain 101     2.0  2.0   1.0  2.0      2.0  1.0   0.0  1.0   \n",
       "\n",
       "   Mean predicted Isoprenol [mg/L]  SD Isoprenol [mg/L]  \n",
       "0                         0.573584             0.019785  \n",
       "1                         0.572193             0.019752  \n",
       "2                         0.572167             0.019752  \n",
       "3                         0.572039             0.019787  \n",
       "4                         0.571967             0.019780  "
      ]
     },
     "execution_count": 27,
     "metadata": {},
     "output_type": "execute_result"
    }
   ],
   "source": [
    "rec_df = pd.read_csv(f'{user_params[\"designsfilepath\"]}/{user_params[\"designsfile\"]}')\n",
    "rec_df.head()"
   ]
  },
  {
   "cell_type": "markdown",
   "metadata": {},
   "source": [
    "We then use MOMA to calculate flux profiles at each time point for the recommended strains. Instead of using the solution time series corresponding to the initial model, we use the solution time series corresponding to the higher production. The reason is that, otherwise, we would never see an increase in isoprenol production, since MOMA minimizes the changes in flux by design. Remember that our goal here is just to create realistic flux profiles that can be used to showcase ART. This approach is good enough: "
   ]
  },
  {
   "cell_type": "code",
   "execution_count": 33,
   "metadata": {},
   "outputs": [
    {
     "name": "stdout",
     "output_type": "stream",
     "text": [
      "CPU times: user 10min 13s, sys: 4.47 s, total: 10min 18s\n",
      "Wall time: 10min 19s\n"
     ]
    }
   ],
   "source": [
    "%%time\n",
    "solutionsMOMA_TS = {}\n",
    "cols = designs_df.columns[:-2]\n",
    "\n",
    "if user_params['numinstances'] not in [None, 0]:\n",
    "    num_strains = user_params['numinstances']\n",
    "else:\n",
    "    num_strains = design_df.shape[0]\n",
    "\n",
    "for i in range(num_strains):\n",
    "    design = designs_df[cols].loc[i]\n",
    "    if design['Line Name']=='WT':\n",
    "        solutionsMOMA_TS[i] = omg.getBEFluxes(model_TS, design, solution_TS, grid)\n",
    "    else:\n",
    "        solutionsMOMA_TS[i] = omg.getBEFluxes(model_TS, design, solutionHI_TS, grid)"
   ]
  },
  {
   "cell_type": "markdown",
   "metadata": {},
   "source": [
    "We can check that the knocked out fluxes are zero:"
   ]
  },
  {
   "cell_type": "markdown",
   "metadata": {},
   "source": [
    "### 4) Producing the external metabolite concentrations for each recommendation"
   ]
  },
  {
   "cell_type": "markdown",
   "metadata": {},
   "source": [
    "Here we use the `integrate_fluxes` function to produce the external metabolite concentrations compatible with the calculated fluxes:"
   ]
  },
  {
   "cell_type": "code",
   "execution_count": 35,
   "metadata": {},
   "outputs": [
    {
     "name": "stdout",
     "output_type": "stream",
     "text": [
      "CPU times: user 268 ms, sys: 0 ns, total: 268 ms\n",
      "Wall time: 267 ms\n"
     ]
    }
   ],
   "source": [
    "cellsEmetsBE = {}\n",
    "for i in range(num_strains):\n",
    "    cell, Emets = omg.integrate_fluxes(solutionsMOMA_TS[i], model_TS, user_params['ext_metabolites'], grid, user_params)\n",
    "    cellsEmetsBE[i] = (cell, Emets) \n"
   ]
  },
  {
   "cell_type": "markdown",
   "metadata": {},
   "source": [
    "Visualize obtained concentrations for a recommendation:"
   ]
  },
  {
   "cell_type": "code",
   "execution_count": 36,
   "metadata": {},
   "outputs": [
    {
     "data": {
      "image/png": "[encoded data removed]",
      "text/plain": [
       "<Figure size 864x288 with 2 Axes>"
      ]
     },
     "metadata": {
      "needs_background": "light"
     },
     "output_type": "display_data"
    }
   ],
   "source": [
    "i = 2\n",
    "cellBE, EmetsBE = cellsEmetsBE[i]\n",
    "plot_DO_extmets(cellBE, EmetsBE[['glc__D_e','isoprenol_e','ac_e','for_e','lac__D_e','etoh_e']])"
   ]
  },
  {
   "cell_type": "code",
   "execution_count": 37,
   "metadata": {},
   "outputs": [
    {
     "data": {
      "text/html": [
       "<div>\n",
       "<style scoped>\n",
       "    .dataframe tbody tr th:only-of-type {\n",
       "        vertical-align: middle;\n",
       "    }\n",
       "\n",
       "    .dataframe tbody tr th {\n",
       "        vertical-align: top;\n",
       "    }\n",
       "\n",
       "    .dataframe thead th {\n",
       "        text-align: right;\n",
       "    }\n",
       "</style>\n",
       "<table border=\"1\" class=\"dataframe\">\n",
       "  <thead>\n",
       "    <tr style=\"text-align: right;\">\n",
       "      <th></th>\n",
       "      <th>glc__D_e</th>\n",
       "      <th>nh4_e</th>\n",
       "      <th>pi_e</th>\n",
       "      <th>so4_e</th>\n",
       "      <th>mg2_e</th>\n",
       "      <th>k_e</th>\n",
       "      <th>na1_e</th>\n",
       "      <th>cl_e</th>\n",
       "      <th>isoprenol_e</th>\n",
       "      <th>ac_e</th>\n",
       "      <th>for_e</th>\n",
       "      <th>lac__D_e</th>\n",
       "      <th>etoh_e</th>\n",
       "    </tr>\n",
       "  </thead>\n",
       "  <tbody>\n",
       "    <tr>\n",
       "      <th>0.0</th>\n",
       "      <td>22.0708</td>\n",
       "      <td>18.6185</td>\n",
       "      <td>69.4472</td>\n",
       "      <td>1.99821</td>\n",
       "      <td>1.99994</td>\n",
       "      <td>21.8816</td>\n",
       "      <td>103.7</td>\n",
       "      <td>27.25</td>\n",
       "      <td>0.00330624</td>\n",
       "      <td>0.0287831</td>\n",
       "      <td>0.0013225</td>\n",
       "      <td>0.100218</td>\n",
       "      <td>0</td>\n",
       "    </tr>\n",
       "    <tr>\n",
       "      <th>1.0</th>\n",
       "      <td>21.8449</td>\n",
       "      <td>18.488</td>\n",
       "      <td>69.4355</td>\n",
       "      <td>1.99517</td>\n",
       "      <td>1.99983</td>\n",
       "      <td>21.8793</td>\n",
       "      <td>103.7</td>\n",
       "      <td>27.2499</td>\n",
       "      <td>0.00895276</td>\n",
       "      <td>0.0779399</td>\n",
       "      <td>0.0035811</td>\n",
       "      <td>0.271374</td>\n",
       "      <td>0</td>\n",
       "    </tr>\n",
       "    <tr>\n",
       "      <th>2.0</th>\n",
       "      <td>21.4592</td>\n",
       "      <td>18.265</td>\n",
       "      <td>69.4156</td>\n",
       "      <td>1.98996</td>\n",
       "      <td>1.99965</td>\n",
       "      <td>21.8752</td>\n",
       "      <td>103.7</td>\n",
       "      <td>27.2498</td>\n",
       "      <td>0.0185961</td>\n",
       "      <td>0.161892</td>\n",
       "      <td>0.00743843</td>\n",
       "      <td>0.563679</td>\n",
       "      <td>0</td>\n",
       "    </tr>\n",
       "    <tr>\n",
       "      <th>3.0</th>\n",
       "      <td>20.8004</td>\n",
       "      <td>17.8842</td>\n",
       "      <td>69.3816</td>\n",
       "      <td>1.98107</td>\n",
       "      <td>1.99935</td>\n",
       "      <td>21.8683</td>\n",
       "      <td>103.7</td>\n",
       "      <td>27.2496</td>\n",
       "      <td>0.0350653</td>\n",
       "      <td>0.305267</td>\n",
       "      <td>0.0140261</td>\n",
       "      <td>1.06289</td>\n",
       "      <td>0</td>\n",
       "    </tr>\n",
       "    <tr>\n",
       "      <th>4.0</th>\n",
       "      <td>19.6753</td>\n",
       "      <td>17.2338</td>\n",
       "      <td>69.3235</td>\n",
       "      <td>1.96588</td>\n",
       "      <td>1.99883</td>\n",
       "      <td>21.8566</td>\n",
       "      <td>103.7</td>\n",
       "      <td>27.2493</td>\n",
       "      <td>0.0631919</td>\n",
       "      <td>0.550129</td>\n",
       "      <td>0.0252768</td>\n",
       "      <td>1.91546</td>\n",
       "      <td>0</td>\n",
       "    </tr>\n",
       "    <tr>\n",
       "      <th>5.0</th>\n",
       "      <td>17.7539</td>\n",
       "      <td>16.123</td>\n",
       "      <td>69.2243</td>\n",
       "      <td>1.93994</td>\n",
       "      <td>1.99793</td>\n",
       "      <td>21.8365</td>\n",
       "      <td>103.7</td>\n",
       "      <td>27.2488</td>\n",
       "      <td>0.111228</td>\n",
       "      <td>0.968313</td>\n",
       "      <td>0.0444911</td>\n",
       "      <td>3.3715</td>\n",
       "      <td>0</td>\n",
       "    </tr>\n",
       "    <tr>\n",
       "      <th>6.0</th>\n",
       "      <td>14.4724</td>\n",
       "      <td>14.226</td>\n",
       "      <td>69.0549</td>\n",
       "      <td>1.89565</td>\n",
       "      <td>1.99641</td>\n",
       "      <td>21.8022</td>\n",
       "      <td>103.7</td>\n",
       "      <td>27.2478</td>\n",
       "      <td>0.193265</td>\n",
       "      <td>1.6825</td>\n",
       "      <td>0.0773059</td>\n",
       "      <td>5.85819</td>\n",
       "      <td>0</td>\n",
       "    </tr>\n",
       "    <tr>\n",
       "      <th>7.0</th>\n",
       "      <td>8.86817</td>\n",
       "      <td>10.9863</td>\n",
       "      <td>68.7655</td>\n",
       "      <td>1.81999</td>\n",
       "      <td>1.99381</td>\n",
       "      <td>21.7437</td>\n",
       "      <td>103.7</td>\n",
       "      <td>27.2463</td>\n",
       "      <td>0.333371</td>\n",
       "      <td>2.90222</td>\n",
       "      <td>0.133348</td>\n",
       "      <td>10.105</td>\n",
       "      <td>0</td>\n",
       "    </tr>\n",
       "    <tr>\n",
       "      <th>8.0</th>\n",
       "      <td>0</td>\n",
       "      <td>5.45333</td>\n",
       "      <td>68.2714</td>\n",
       "      <td>1.69079</td>\n",
       "      <td>1.98936</td>\n",
       "      <td>21.6437</td>\n",
       "      <td>103.7</td>\n",
       "      <td>27.2436</td>\n",
       "      <td>0.572648</td>\n",
       "      <td>4.9853</td>\n",
       "      <td>0.229059</td>\n",
       "      <td>17.358</td>\n",
       "      <td>0</td>\n",
       "    </tr>\n",
       "    <tr>\n",
       "      <th>9.0</th>\n",
       "      <td>0</td>\n",
       "      <td>5.45333</td>\n",
       "      <td>68.2714</td>\n",
       "      <td>1.69079</td>\n",
       "      <td>1.98936</td>\n",
       "      <td>21.6437</td>\n",
       "      <td>103.7</td>\n",
       "      <td>27.2436</td>\n",
       "      <td>0.572648</td>\n",
       "      <td>4.9853</td>\n",
       "      <td>0.229059</td>\n",
       "      <td>17.358</td>\n",
       "      <td>0</td>\n",
       "    </tr>\n",
       "  </tbody>\n",
       "</table>\n",
       "</div>"
      ],
      "text/plain": [
       "    glc__D_e    nh4_e     pi_e    so4_e    mg2_e      k_e  na1_e     cl_e  \\\n",
       "0.0  22.0708  18.6185  69.4472  1.99821  1.99994  21.8816  103.7    27.25   \n",
       "1.0  21.8449   18.488  69.4355  1.99517  1.99983  21.8793  103.7  27.2499   \n",
       "2.0  21.4592   18.265  69.4156  1.98996  1.99965  21.8752  103.7  27.2498   \n",
       "3.0  20.8004  17.8842  69.3816  1.98107  1.99935  21.8683  103.7  27.2496   \n",
       "4.0  19.6753  17.2338  69.3235  1.96588  1.99883  21.8566  103.7  27.2493   \n",
       "5.0  17.7539   16.123  69.2243  1.93994  1.99793  21.8365  103.7  27.2488   \n",
       "6.0  14.4724   14.226  69.0549  1.89565  1.99641  21.8022  103.7  27.2478   \n",
       "7.0  8.86817  10.9863  68.7655  1.81999  1.99381  21.7437  103.7  27.2463   \n",
       "8.0        0  5.45333  68.2714  1.69079  1.98936  21.6437  103.7  27.2436   \n",
       "9.0        0  5.45333  68.2714  1.69079  1.98936  21.6437  103.7  27.2436   \n",
       "\n",
       "    isoprenol_e       ac_e       for_e  lac__D_e etoh_e  \n",
       "0.0  0.00330624  0.0287831   0.0013225  0.100218      0  \n",
       "1.0  0.00895276  0.0779399   0.0035811  0.271374      0  \n",
       "2.0   0.0185961   0.161892  0.00743843  0.563679      0  \n",
       "3.0   0.0350653   0.305267   0.0140261   1.06289      0  \n",
       "4.0   0.0631919   0.550129   0.0252768   1.91546      0  \n",
       "5.0    0.111228   0.968313   0.0444911    3.3715      0  \n",
       "6.0    0.193265     1.6825   0.0773059   5.85819      0  \n",
       "7.0    0.333371    2.90222    0.133348    10.105      0  \n",
       "8.0    0.572648     4.9853    0.229059    17.358      0  \n",
       "9.0    0.572648     4.9853    0.229059    17.358      0  "
      ]
     },
     "execution_count": 37,
     "metadata": {},
     "output_type": "execute_result"
    }
   ],
   "source": [
    "EmetsBE"
   ]
  },
  {
   "cell_type": "markdown",
   "metadata": {},
   "source": [
    "### 5) Visualize actual vs predicted isoprenol concentrations for ART's recommendations"
   ]
  },
  {
   "cell_type": "markdown",
   "metadata": {},
   "source": [
    "Collect all isoprenol production values in a single list first:"
   ]
  },
  {
   "cell_type": "code",
   "execution_count": 38,
   "metadata": {},
   "outputs": [],
   "source": [
    "production = []\n",
    "for i in range(user_params['numinstances']):\n",
    "    cell, Emets = cellsEmetsBE[i]\n",
    "    production.append(Emets.loc[9,'isoprenol_e'])\n"
   ]
  },
  {
   "cell_type": "markdown",
   "metadata": {},
   "source": [
    "Create new data frame and append the production"
   ]
  },
  {
   "cell_type": "code",
   "execution_count": 48,
   "metadata": {},
   "outputs": [
    {
     "data": {
      "text/html": [
       "<div>\n",
       "<style scoped>\n",
       "    .dataframe tbody tr th:only-of-type {\n",
       "        vertical-align: middle;\n",
       "    }\n",
       "\n",
       "    .dataframe tbody tr th {\n",
       "        vertical-align: top;\n",
       "    }\n",
       "\n",
       "    .dataframe thead th {\n",
       "        text-align: right;\n",
       "    }\n",
       "</style>\n",
       "<table border=\"1\" class=\"dataframe\">\n",
       "  <thead>\n",
       "    <tr style=\"text-align: right;\">\n",
       "      <th></th>\n",
       "      <th>Line Name</th>\n",
       "      <th>ACCOAC</th>\n",
       "      <th>MDH</th>\n",
       "      <th>PTAr</th>\n",
       "      <th>CS</th>\n",
       "      <th>ACACT1r</th>\n",
       "      <th>PPC</th>\n",
       "      <th>PPCK</th>\n",
       "      <th>PFL</th>\n",
       "      <th>Mean predicted Isoprenol [mg/L]</th>\n",
       "      <th>SD Isoprenol [mg/L]</th>\n",
       "      <th>Isoprenol [mM]</th>\n",
       "      <th>Isoprenol [mg/L]</th>\n",
       "    </tr>\n",
       "  </thead>\n",
       "  <tbody>\n",
       "    <tr>\n",
       "      <th>0</th>\n",
       "      <td>Strain 97</td>\n",
       "      <td>2.0</td>\n",
       "      <td>2.0</td>\n",
       "      <td>1.0</td>\n",
       "      <td>2.0</td>\n",
       "      <td>2.0</td>\n",
       "      <td>2.0</td>\n",
       "      <td>0.0</td>\n",
       "      <td>1.0</td>\n",
       "      <td>0.573584</td>\n",
       "      <td>0.019785</td>\n",
       "      <td>0.572648</td>\n",
       "      <td>0.572648</td>\n",
       "    </tr>\n",
       "    <tr>\n",
       "      <th>1</th>\n",
       "      <td>Strain 98</td>\n",
       "      <td>2.0</td>\n",
       "      <td>2.0</td>\n",
       "      <td>2.0</td>\n",
       "      <td>2.0</td>\n",
       "      <td>2.0</td>\n",
       "      <td>2.0</td>\n",
       "      <td>0.0</td>\n",
       "      <td>1.0</td>\n",
       "      <td>0.572193</td>\n",
       "      <td>0.019752</td>\n",
       "      <td>0.572648</td>\n",
       "      <td>0.572648</td>\n",
       "    </tr>\n",
       "    <tr>\n",
       "      <th>2</th>\n",
       "      <td>Strain 99</td>\n",
       "      <td>1.0</td>\n",
       "      <td>2.0</td>\n",
       "      <td>1.0</td>\n",
       "      <td>2.0</td>\n",
       "      <td>2.0</td>\n",
       "      <td>2.0</td>\n",
       "      <td>0.0</td>\n",
       "      <td>1.0</td>\n",
       "      <td>0.572167</td>\n",
       "      <td>0.019752</td>\n",
       "      <td>0.572648</td>\n",
       "      <td>0.572648</td>\n",
       "    </tr>\n",
       "  </tbody>\n",
       "</table>\n",
       "</div>"
      ],
      "text/plain": [
       "   Line Name  ACCOAC  MDH  PTAr   CS  ACACT1r  PPC  PPCK  PFL  \\\n",
       "0  Strain 97     2.0  2.0   1.0  2.0      2.0  2.0   0.0  1.0   \n",
       "1  Strain 98     2.0  2.0   2.0  2.0      2.0  2.0   0.0  1.0   \n",
       "2  Strain 99     1.0  2.0   1.0  2.0      2.0  2.0   0.0  1.0   \n",
       "\n",
       "   Mean predicted Isoprenol [mg/L]  SD Isoprenol [mg/L]  Isoprenol [mM]  \\\n",
       "0                         0.573584             0.019785        0.572648   \n",
       "1                         0.572193             0.019752        0.572648   \n",
       "2                         0.572167             0.019752        0.572648   \n",
       "\n",
       "   Isoprenol [mg/L]  \n",
       "0          0.572648  \n",
       "1          0.572648  \n",
       "2          0.572648  "
      ]
     },
     "execution_count": 48,
     "metadata": {},
     "output_type": "execute_result"
    }
   ],
   "source": [
    "production_df = designs_df.copy()\n",
    "production_df['Isoprenol [mg/L]'] = production.copy()\n",
    "production_df.loc[0:2,:]"
   ]
  },
  {
   "cell_type": "markdown",
   "metadata": {},
   "source": [
    "Plot predicted vs actual production:"
   ]
  },
  {
   "cell_type": "code",
   "execution_count": 49,
   "metadata": {},
   "outputs": [
    {
     "data": {
      "image/png": "[encoded data removed]",
      "text/plain": [
       "<Figure size 504x504 with 1 Axes>"
      ]
     },
     "metadata": {},
     "output_type": "display_data"
    }
   ],
   "source": [
    "predictions_vs_observations(production_df, xlim=[0, 0.615], ylim=[0, 0.615])"
   ]
  },
  {
   "cell_type": "markdown",
   "metadata": {},
   "source": [
    "Save dataframe as csv:"
   ]
  },
  {
   "cell_type": "code",
   "execution_count": 50,
   "metadata": {},
   "outputs": [],
   "source": [
    "df_filename = '../data/ART_recommendations_with_production.csv'\n",
    "production_df.to_csv(df_filename)\n"
   ]
  },
  {
   "cell_type": "markdown",
   "metadata": {},
   "source": [
    "### 6) Generate omics data for the best recommendation"
   ]
  },
  {
   "cell_type": "markdown",
   "metadata": {},
   "source": [
    "We now obtain the multiomics data for each time point:"
   ]
  },
  {
   "cell_type": "code",
   "execution_count": 55,
   "metadata": {},
   "outputs": [],
   "source": [
    "proteomics_timeseries = {}\n",
    "transcriptomics_timeseries = {}\n",
    "metabolomics_timeseries = {}\n",
    "metabolomics_oldids_timeseries = {}\n",
    "fluxomics_timeseries = {}\n",
    "        \n",
    "for t in tspan:\n",
    "    fluxomics_timeseries[t] = solutionsMOMA_TS[0][t].fluxes.to_dict()\n",
    "    (proteomics_timeseries[t], transcriptomics_timeseries[t], \n",
    "     metabolomics_timeseries[t], metabolomics_oldids_timeseries[t]) = omg.get_multiomics(model, \n",
    "                                                                                         solutionsMOMA_TS[0][t], \n",
    "                                                                                         user_params['mapping_file'], \n",
    "                                                                                         old_ids=True)\n"
   ]
  },
  {
   "cell_type": "markdown",
   "metadata": {},
   "source": [
    "### Write the multiomics data, cell concentration and external metabolites concentration data into output files"
   ]
  },
  {
   "cell_type": "markdown",
   "metadata": {},
   "source": [
    "#### EDD data output"
   ]
  },
  {
   "cell_type": "markdown",
   "metadata": {},
   "source": [
    "Write experiement description:\n"
   ]
  },
  {
   "cell_type": "code",
   "execution_count": 56,
   "metadata": {},
   "outputs": [],
   "source": [
    "omg.write_experiment_description_file(user_params['edd_omics_file_path'], line_name='Recommended')\n"
   ]
  },
  {
   "cell_type": "markdown",
   "metadata": {},
   "source": [
    "Write OD data:"
   ]
  },
  {
   "cell_type": "code",
   "execution_count": 57,
   "metadata": {},
   "outputs": [],
   "source": [
    "omg.write_OD_data(cell, user_params['edd_omics_file_path'], line_name='Recommended')\n"
   ]
  },
  {
   "cell_type": "markdown",
   "metadata": {},
   "source": [
    "Write external metablites:"
   ]
  },
  {
   "cell_type": "code",
   "execution_count": 58,
   "metadata": {},
   "outputs": [],
   "source": [
    "omg.write_external_metabolite(Emets, user_params['edd_omics_file_path'], filename='external_metabolites_Rec.csv', linename='Recommended')\n"
   ]
  },
  {
   "cell_type": "markdown",
   "metadata": {},
   "source": [
    "Write omics data:"
   ]
  },
  {
   "cell_type": "code",
   "execution_count": 59,
   "metadata": {},
   "outputs": [],
   "source": [
    "omg.write_omics_files(fluxomics_timeseries, 'fluxomics', user_params, line_name='Recommended')\n",
    "omg.write_omics_files(proteomics_timeseries, 'proteomics', user_params, line_name='Recommended')\n",
    "omg.write_omics_files(transcriptomics_timeseries, 'transcriptomics', user_params, line_name='Recommended')\n",
    "omg.write_omics_files(metabolomics_timeseries, 'metabolomics', user_params, line_name='Recommended')\n"
   ]
  },
  {
   "cell_type": "markdown",
   "metadata": {},
   "source": [
    "#### Arrowland data output"
   ]
  },
  {
   "cell_type": "markdown",
   "metadata": {},
   "source": [
    "Write omics data in separate files for each time point:\n"
   ]
  },
  {
   "cell_type": "code",
   "execution_count": 60,
   "metadata": {},
   "outputs": [],
   "source": [
    "omg.write_omics_files(fluxomics_timeseries, 'fluxomics', user_params, line_name='Recommended', al_format=True)\n",
    "omg.write_omics_files(proteomics_timeseries, 'proteomics', user_params, line_name='Recommended', al_format=True)\n",
    "omg.write_omics_files(transcriptomics_timeseries, 'transcriptomics', user_params, line_name='Recommended', al_format=True)\n"
   ]
  },
  {
   "cell_type": "markdown",
   "metadata": {},
   "source": [
    "Writing the old IDs for metabolomics (used in Arrowland), using the `metabolomics_oldids_timeseries` dictionary.\n"
   ]
  },
  {
   "cell_type": "code",
   "execution_count": 61,
   "metadata": {},
   "outputs": [],
   "source": [
    "omg.write_omics_files(metabolomics_oldids_timeseries, 'metabolomics', user_params, line_name='Recommended', al_format=True)\n"
   ]
  },
  {
   "cell_type": "code",
   "execution_count": null,
   "metadata": {},
   "outputs": [],
   "source": []
  }
 ],
 "metadata": {
  "kernelspec": {
   "display_name": "biodesign_3.7",
   "language": "python",
   "name": "biod_3.7"
  },
  "language_info": {
   "codemirror_mode": {
    "name": "ipython",
    "version": 3
   },
   "file_extension": ".py",
   "mimetype": "text/x-python",
   "name": "python",
   "nbconvert_exporter": "python",
   "pygments_lexer": "ipython3",
   "version": "3.7.4"
  }
 },
 "nbformat": 4,
 "nbformat_minor": 4
}
