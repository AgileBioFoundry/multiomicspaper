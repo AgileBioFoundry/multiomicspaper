{
 "cells": [
  {
   "cell_type": "markdown",
   "metadata": {},
   "source": [
    "# Generate initial designs for training data for ART"
   ]
  },
  {
   "cell_type": "markdown",
   "metadata": {},
   "source": [
    "### TODO\n",
    "\n",
    "[] Use ART to make initial designs"
   ]
  },
  {
   "cell_type": "code",
   "execution_count": 1,
   "metadata": {},
   "outputs": [],
   "source": [
    "import numpy as np\n",
    "import pandas as pd\n",
    "from random import randrange\n",
    "import matplotlib.pyplot as plt\n",
    "from pyDOE import *"
   ]
  },
  {
   "cell_type": "markdown",
   "metadata": {},
   "source": [
    "All genes we might consider in relation to isopentenol production:"
   ]
  },
  {
   "cell_type": "code",
   "execution_count": 2,
   "metadata": {},
   "outputs": [],
   "source": [
    "# genes = ['ACCOAC', \n",
    "#          'POX', # zero flux\n",
    "#          'PTAr', \n",
    "#          'CS', \n",
    "#          'ACACT1R', \n",
    "#          'PPC', # zero flux\n",
    "#          'PPCK', \n",
    "#          'PFL', # zero flux\n",
    "#          'PYK', \n",
    "#          'MDH']"
   ]
  },
  {
   "cell_type": "code",
   "execution_count": 3,
   "metadata": {},
   "outputs": [],
   "source": [
    "genes = ['ACCOAC', \n",
    "         'POX', # zero flux\n",
    "         'PTAr', \n",
    "         'CS', \n",
    "         'ACACT1R', \n",
    "         'PPCK',\n",
    "         'PYK', \n",
    "         'MDH',\n",
    "         'PFL', # zero flux\n",
    "         'PPC'] # zero flux"
   ]
  },
  {
   "cell_type": "markdown",
   "metadata": {},
   "source": [
    "Types of genetic modifications: \n",
    "- knockout (KO)\n",
    "- no modification (NoMod)\n",
    "- doubling the expression (UP)"
   ]
  },
  {
   "cell_type": "code",
   "execution_count": 4,
   "metadata": {},
   "outputs": [],
   "source": [
    "modif_dict = {'KO': 0, \n",
    "              'NoMod': 1,\n",
    "              'UP': 2}"
   ]
  },
  {
   "cell_type": "markdown",
   "metadata": {},
   "source": [
    "How many genes you want to consider?"
   ]
  },
  {
   "cell_type": "code",
   "execution_count": 6,
   "metadata": {},
   "outputs": [
    {
     "name": "stdin",
     "output_type": "stream",
     "text": [
      " 7\n"
     ]
    }
   ],
   "source": [
    "n_genes = int(input())\n"
   ]
  },
  {
   "cell_type": "markdown",
   "metadata": {},
   "source": [
    "How many instances you want to generate?"
   ]
  },
  {
   "cell_type": "code",
   "execution_count": 7,
   "metadata": {},
   "outputs": [
    {
     "name": "stdin",
     "output_type": "stream",
     "text": [
      " 48\n"
     ]
    }
   ],
   "source": [
    "n_instances = int(input())"
   ]
  },
  {
   "cell_type": "code",
   "execution_count": 8,
   "metadata": {},
   "outputs": [
    {
     "name": "stdout",
     "output_type": "stream",
     "text": [
      "Total number of possible modifications: 2187\n",
      "Training set size: 48 (2.19%)\n"
     ]
    }
   ],
   "source": [
    "n_modifications = len(modif_dict)\n",
    "genes = genes[:n_genes]\n",
    "tot_number_mod = n_modifications**n_genes\n",
    "print(f'Total number of possible modifications: {tot_number_mod}')\n",
    "trainingset = n_instances/tot_number_mod*100\n",
    "print(f'Training set size: {n_instances} ({trainingset:.2f}%)')"
   ]
  },
  {
   "cell_type": "code",
   "execution_count": 9,
   "metadata": {},
   "outputs": [],
   "source": [
    "df = pd.DataFrame(columns=genes)\n",
    "df.insert(loc=0, column='Line Name', value=None)"
   ]
  },
  {
   "cell_type": "markdown",
   "metadata": {},
   "source": [
    "Define wild type strain with no modifications:"
   ]
  },
  {
   "cell_type": "code",
   "execution_count": 10,
   "metadata": {},
   "outputs": [
    {
     "data": {
      "text/html": [
       "<div>\n",
       "<style scoped>\n",
       "    .dataframe tbody tr th:only-of-type {\n",
       "        vertical-align: middle;\n",
       "    }\n",
       "\n",
       "    .dataframe tbody tr th {\n",
       "        vertical-align: top;\n",
       "    }\n",
       "\n",
       "    .dataframe thead th {\n",
       "        text-align: right;\n",
       "    }\n",
       "</style>\n",
       "<table border=\"1\" class=\"dataframe\">\n",
       "  <thead>\n",
       "    <tr style=\"text-align: right;\">\n",
       "      <th></th>\n",
       "      <th>Line Name</th>\n",
       "      <th>ACCOAC</th>\n",
       "      <th>POX</th>\n",
       "      <th>PTAr</th>\n",
       "      <th>CS</th>\n",
       "      <th>ACACT1R</th>\n",
       "      <th>PPCK</th>\n",
       "      <th>PYK</th>\n",
       "    </tr>\n",
       "  </thead>\n",
       "  <tbody>\n",
       "    <tr>\n",
       "      <th>0</th>\n",
       "      <td>WT</td>\n",
       "      <td>1</td>\n",
       "      <td>1</td>\n",
       "      <td>1</td>\n",
       "      <td>1</td>\n",
       "      <td>1</td>\n",
       "      <td>1</td>\n",
       "      <td>1</td>\n",
       "    </tr>\n",
       "  </tbody>\n",
       "</table>\n",
       "</div>"
      ],
      "text/plain": [
       "  Line Name ACCOAC POX PTAr CS ACACT1R PPCK PYK\n",
       "0        WT      1   1    1  1       1    1   1"
      ]
     },
     "execution_count": 10,
     "metadata": {},
     "output_type": "execute_result"
    }
   ],
   "source": [
    "df.loc[0] = ['WT'] + [modif_dict['NoMod'] for i in range(n_genes)] \n",
    "df"
   ]
  },
  {
   "cell_type": "markdown",
   "metadata": {},
   "source": [
    "### Assign designs for the training set randomly (uniformly distributed among the options)"
   ]
  },
  {
   "cell_type": "code",
   "execution_count": 11,
   "metadata": {},
   "outputs": [
    {
     "data": {
      "text/html": [
       "<div>\n",
       "<style scoped>\n",
       "    .dataframe tbody tr th:only-of-type {\n",
       "        vertical-align: middle;\n",
       "    }\n",
       "\n",
       "    .dataframe tbody tr th {\n",
       "        vertical-align: top;\n",
       "    }\n",
       "\n",
       "    .dataframe thead th {\n",
       "        text-align: right;\n",
       "    }\n",
       "</style>\n",
       "<table border=\"1\" class=\"dataframe\">\n",
       "  <thead>\n",
       "    <tr style=\"text-align: right;\">\n",
       "      <th></th>\n",
       "      <th>Line Name</th>\n",
       "      <th>ACCOAC</th>\n",
       "      <th>POX</th>\n",
       "      <th>PTAr</th>\n",
       "      <th>CS</th>\n",
       "      <th>ACACT1R</th>\n",
       "      <th>PPCK</th>\n",
       "      <th>PYK</th>\n",
       "    </tr>\n",
       "  </thead>\n",
       "  <tbody>\n",
       "    <tr>\n",
       "      <th>0</th>\n",
       "      <td>WT</td>\n",
       "      <td>1</td>\n",
       "      <td>1</td>\n",
       "      <td>1</td>\n",
       "      <td>1</td>\n",
       "      <td>1</td>\n",
       "      <td>1</td>\n",
       "      <td>1</td>\n",
       "    </tr>\n",
       "    <tr>\n",
       "      <th>1</th>\n",
       "      <td>1</td>\n",
       "      <td>1</td>\n",
       "      <td>1</td>\n",
       "      <td>2</td>\n",
       "      <td>0</td>\n",
       "      <td>0</td>\n",
       "      <td>1</td>\n",
       "      <td>1</td>\n",
       "    </tr>\n",
       "    <tr>\n",
       "      <th>2</th>\n",
       "      <td>2</td>\n",
       "      <td>0</td>\n",
       "      <td>2</td>\n",
       "      <td>2</td>\n",
       "      <td>1</td>\n",
       "      <td>2</td>\n",
       "      <td>1</td>\n",
       "      <td>2</td>\n",
       "    </tr>\n",
       "    <tr>\n",
       "      <th>3</th>\n",
       "      <td>3</td>\n",
       "      <td>1</td>\n",
       "      <td>2</td>\n",
       "      <td>0</td>\n",
       "      <td>0</td>\n",
       "      <td>0</td>\n",
       "      <td>0</td>\n",
       "      <td>1</td>\n",
       "    </tr>\n",
       "    <tr>\n",
       "      <th>4</th>\n",
       "      <td>4</td>\n",
       "      <td>0</td>\n",
       "      <td>0</td>\n",
       "      <td>0</td>\n",
       "      <td>2</td>\n",
       "      <td>2</td>\n",
       "      <td>0</td>\n",
       "      <td>2</td>\n",
       "    </tr>\n",
       "  </tbody>\n",
       "</table>\n",
       "</div>"
      ],
      "text/plain": [
       "  Line Name ACCOAC POX PTAr CS ACACT1R PPCK PYK\n",
       "0        WT      1   1    1  1       1    1   1\n",
       "1         1      1   1    2  0       0    1   1\n",
       "2         2      0   2    2  1       2    1   2\n",
       "3         3      1   2    0  0       0    0   1\n",
       "4         4      0   0    0  2       2    0   2"
      ]
     },
     "execution_count": 11,
     "metadata": {},
     "output_type": "execute_result"
    }
   ],
   "source": [
    "for i in range(1,n_instances):\n",
    "    df.loc[i] = [str(i)] + [randrange(3) for i in range(n_genes)]\n",
    "                            \n",
    "df.head()"
   ]
  },
  {
   "cell_type": "markdown",
   "metadata": {},
   "source": [
    "How many modifications 'introduced' into each strain?"
   ]
  },
  {
   "cell_type": "code",
   "execution_count": 12,
   "metadata": {},
   "outputs": [],
   "source": [
    "def num_of_modifications(df):\n",
    "    num_instances = len(df)\n",
    "    values = np.empty(num_instances)\n",
    "    for i in range(num_instances):\n",
    "        design = df.loc[i][1:]\n",
    "        values[i] = list(design).count(0) + list(design).count(2)\n",
    "    return values\n",
    "            "
   ]
  },
  {
   "cell_type": "code",
   "execution_count": 13,
   "metadata": {},
   "outputs": [
    {
     "data": {
      "text/html": [
       "<div>\n",
       "<style scoped>\n",
       "    .dataframe tbody tr th:only-of-type {\n",
       "        vertical-align: middle;\n",
       "    }\n",
       "\n",
       "    .dataframe tbody tr th {\n",
       "        vertical-align: top;\n",
       "    }\n",
       "\n",
       "    .dataframe thead th {\n",
       "        text-align: right;\n",
       "    }\n",
       "</style>\n",
       "<table border=\"1\" class=\"dataframe\">\n",
       "  <thead>\n",
       "    <tr style=\"text-align: right;\">\n",
       "      <th></th>\n",
       "      <th>Line Name</th>\n",
       "      <th>ACCOAC</th>\n",
       "      <th>POX</th>\n",
       "      <th>PTAr</th>\n",
       "      <th>CS</th>\n",
       "      <th>ACACT1R</th>\n",
       "      <th>PPCK</th>\n",
       "      <th>PYK</th>\n",
       "      <th># Modifs</th>\n",
       "    </tr>\n",
       "  </thead>\n",
       "  <tbody>\n",
       "    <tr>\n",
       "      <th>0</th>\n",
       "      <td>WT</td>\n",
       "      <td>1</td>\n",
       "      <td>1</td>\n",
       "      <td>1</td>\n",
       "      <td>1</td>\n",
       "      <td>1</td>\n",
       "      <td>1</td>\n",
       "      <td>1</td>\n",
       "      <td>0.0</td>\n",
       "    </tr>\n",
       "    <tr>\n",
       "      <th>1</th>\n",
       "      <td>1</td>\n",
       "      <td>1</td>\n",
       "      <td>1</td>\n",
       "      <td>2</td>\n",
       "      <td>0</td>\n",
       "      <td>0</td>\n",
       "      <td>1</td>\n",
       "      <td>1</td>\n",
       "      <td>3.0</td>\n",
       "    </tr>\n",
       "    <tr>\n",
       "      <th>2</th>\n",
       "      <td>2</td>\n",
       "      <td>0</td>\n",
       "      <td>2</td>\n",
       "      <td>2</td>\n",
       "      <td>1</td>\n",
       "      <td>2</td>\n",
       "      <td>1</td>\n",
       "      <td>2</td>\n",
       "      <td>5.0</td>\n",
       "    </tr>\n",
       "    <tr>\n",
       "      <th>3</th>\n",
       "      <td>3</td>\n",
       "      <td>1</td>\n",
       "      <td>2</td>\n",
       "      <td>0</td>\n",
       "      <td>0</td>\n",
       "      <td>0</td>\n",
       "      <td>0</td>\n",
       "      <td>1</td>\n",
       "      <td>5.0</td>\n",
       "    </tr>\n",
       "    <tr>\n",
       "      <th>4</th>\n",
       "      <td>4</td>\n",
       "      <td>0</td>\n",
       "      <td>0</td>\n",
       "      <td>0</td>\n",
       "      <td>2</td>\n",
       "      <td>2</td>\n",
       "      <td>0</td>\n",
       "      <td>2</td>\n",
       "      <td>7.0</td>\n",
       "    </tr>\n",
       "  </tbody>\n",
       "</table>\n",
       "</div>"
      ],
      "text/plain": [
       "  Line Name ACCOAC POX PTAr CS ACACT1R PPCK PYK  # Modifs\n",
       "0        WT      1   1    1  1       1    1   1       0.0\n",
       "1         1      1   1    2  0       0    1   1       3.0\n",
       "2         2      0   2    2  1       2    1   2       5.0\n",
       "3         3      1   2    0  0       0    0   1       5.0\n",
       "4         4      0   0    0  2       2    0   2       7.0"
      ]
     },
     "execution_count": 13,
     "metadata": {},
     "output_type": "execute_result"
    }
   ],
   "source": [
    "df['# Modifs'] = num_of_modifications(df)\n",
    "df.head()"
   ]
  },
  {
   "cell_type": "markdown",
   "metadata": {},
   "source": [
    "Find distribution of modifications per gene in the training data set:"
   ]
  },
  {
   "cell_type": "code",
   "execution_count": 14,
   "metadata": {},
   "outputs": [
    {
     "data": {
      "text/plain": [
       "Line Name                                              Summary\n",
       "ACCOAC       [39.58333333333333, 33.33333333333333, 27.0833...\n",
       "POX               [25.0, 39.58333333333333, 35.41666666666667]\n",
       "PTAr         [29.166666666666668, 35.41666666666667, 35.416...\n",
       "CS              [29.166666666666668, 20.833333333333336, 50.0]\n",
       "ACACT1R           [33.33333333333333, 41.66666666666667, 25.0]\n",
       "PPCK         [29.166666666666668, 41.66666666666667, 29.166...\n",
       "PYK            [27.083333333333332, 43.75, 29.166666666666668]\n",
       "# Modifs                                                4.4375\n",
       "Name: 48, dtype: object"
      ]
     },
     "execution_count": 14,
     "metadata": {},
     "output_type": "execute_result"
    }
   ],
   "source": [
    "df.loc[n_instances] = ['Summary'] + [[list(df[gene]).count(int(i))/n_instances*100 \n",
    "                                            for i in range(n_modifications)]  for gene in genes] + [np.mean(df['# Modifs'])]\n",
    "df.iloc[-1]"
   ]
  },
  {
   "cell_type": "code",
   "execution_count": 15,
   "metadata": {},
   "outputs": [],
   "source": [
    "def plot_distribution(dataframe): \n",
    "    bar_height = 1\n",
    "    labels = ['KO', 'NoMod', 'UP']\n",
    "    colors = ['#019600', 'grey', '#219AD8']\n",
    "\n",
    "    data = [ [dataframe[dataframe['Line Name']=='Summary'][g].values[0][num] for g in genes] \n",
    "            for num in range(n_modifications)]\n",
    "    y_pos = np.arange(len(genes))\n",
    "\n",
    "    fig = plt.figure(figsize=(7,5))\n",
    "    ax = fig.add_subplot(111)\n",
    "\n",
    "    # Remove frame\n",
    "    for spine in plt.gca().spines.values():\n",
    "        spine.set_visible(False)\n",
    "\n",
    "    patch_handles = []\n",
    "    # left alignment of data starts at zero\n",
    "    left = np.zeros(len(genes)) \n",
    "    for i, d in enumerate(data):\n",
    "        patch_handles.append(ax.barh(y_pos, d, \n",
    "                                     color=colors[i%len(colors)], edgecolor='white',\n",
    "                                     height=bar_height, align='center', \n",
    "                                     left=left, label=labels[i]))\n",
    "        left += d\n",
    "\n",
    "    # search all of the bar segments and annotate\n",
    "    for j in range(n_modifications):\n",
    "        for i, patch in enumerate(patch_handles[j].get_children()):\n",
    "            bl = patch.get_xy()\n",
    "            x = 0.5*patch.get_width() + bl[0]\n",
    "            y = 0.5*patch.get_height() + bl[1]\n",
    "            ax.text(x,y, \"%d%%\" % (data[j][i]), ha='center')\n",
    "\n",
    "    ax.set_title('Distribution of modifications')\n",
    "    plt.tick_params(top='off', bottom='off', left='off', right='off', labelleft='on', \n",
    "                    labelbottom='off')\n",
    "    plt.yticks(y_pos, genes)\n",
    "    ax.invert_yaxis()\n",
    "    ax.legend(loc='center left', bbox_to_anchor=(1, 0.5))\n",
    "    plt.show()\n"
   ]
  },
  {
   "cell_type": "code",
   "execution_count": 16,
   "metadata": {},
   "outputs": [
    {
     "data": {
      "image/png": "[encoded data removed]",
      "text/plain": [
       "<matplotlib.figure.Figure at 0x10cb426a0>"
      ]
     },
     "metadata": {},
     "output_type": "display_data"
    }
   ],
   "source": [
    "plot_distribution(df)"
   ]
  },
  {
   "cell_type": "markdown",
   "metadata": {},
   "source": [
    "Save training set:"
   ]
  },
  {
   "cell_type": "code",
   "execution_count": 17,
   "metadata": {},
   "outputs": [],
   "source": [
    "df.loc[0:n_instances].to_csv(f'./data/training_data_{n_genes}genes_unif.csv', \n",
    "                             columns = ['Line Name'] + genes, \n",
    "                             header = True, index = False)"
   ]
  },
  {
   "cell_type": "markdown",
   "metadata": {},
   "source": [
    "### Assign designs for the training set using Latin Hypercube sampling"
   ]
  },
  {
   "cell_type": "code",
   "execution_count": 18,
   "metadata": {},
   "outputs": [
    {
     "data": {
      "text/html": [
       "<div>\n",
       "<style scoped>\n",
       "    .dataframe tbody tr th:only-of-type {\n",
       "        vertical-align: middle;\n",
       "    }\n",
       "\n",
       "    .dataframe tbody tr th {\n",
       "        vertical-align: top;\n",
       "    }\n",
       "\n",
       "    .dataframe thead th {\n",
       "        text-align: right;\n",
       "    }\n",
       "</style>\n",
       "<table border=\"1\" class=\"dataframe\">\n",
       "  <thead>\n",
       "    <tr style=\"text-align: right;\">\n",
       "      <th></th>\n",
       "      <th>Line Name</th>\n",
       "      <th>ACCOAC</th>\n",
       "      <th>POX</th>\n",
       "      <th>PTAr</th>\n",
       "      <th>CS</th>\n",
       "      <th>ACACT1R</th>\n",
       "      <th>PPCK</th>\n",
       "      <th>PYK</th>\n",
       "    </tr>\n",
       "  </thead>\n",
       "  <tbody>\n",
       "    <tr>\n",
       "      <th>0</th>\n",
       "      <td>WT</td>\n",
       "      <td>1</td>\n",
       "      <td>1</td>\n",
       "      <td>1</td>\n",
       "      <td>1</td>\n",
       "      <td>1</td>\n",
       "      <td>1</td>\n",
       "      <td>1</td>\n",
       "    </tr>\n",
       "    <tr>\n",
       "      <th>1</th>\n",
       "      <td>1</td>\n",
       "      <td>1</td>\n",
       "      <td>1</td>\n",
       "      <td>2</td>\n",
       "      <td>0</td>\n",
       "      <td>0</td>\n",
       "      <td>1</td>\n",
       "      <td>1</td>\n",
       "    </tr>\n",
       "    <tr>\n",
       "      <th>2</th>\n",
       "      <td>2</td>\n",
       "      <td>0</td>\n",
       "      <td>2</td>\n",
       "      <td>2</td>\n",
       "      <td>1</td>\n",
       "      <td>2</td>\n",
       "      <td>1</td>\n",
       "      <td>2</td>\n",
       "    </tr>\n",
       "    <tr>\n",
       "      <th>3</th>\n",
       "      <td>3</td>\n",
       "      <td>1</td>\n",
       "      <td>2</td>\n",
       "      <td>0</td>\n",
       "      <td>0</td>\n",
       "      <td>0</td>\n",
       "      <td>0</td>\n",
       "      <td>1</td>\n",
       "    </tr>\n",
       "    <tr>\n",
       "      <th>4</th>\n",
       "      <td>4</td>\n",
       "      <td>0</td>\n",
       "      <td>0</td>\n",
       "      <td>0</td>\n",
       "      <td>2</td>\n",
       "      <td>2</td>\n",
       "      <td>0</td>\n",
       "      <td>2</td>\n",
       "    </tr>\n",
       "  </tbody>\n",
       "</table>\n",
       "</div>"
      ],
      "text/plain": [
       "  Line Name ACCOAC POX PTAr CS ACACT1R PPCK PYK\n",
       "0        WT      1   1    1  1       1    1   1\n",
       "1         1      1   1    2  0       0    1   1\n",
       "2         2      0   2    2  1       2    1   2\n",
       "3         3      1   2    0  0       0    0   1\n",
       "4         4      0   0    0  2       2    0   2"
      ]
     },
     "execution_count": 18,
     "metadata": {},
     "output_type": "execute_result"
    }
   ],
   "source": [
    "df_lhs = df.copy()\n",
    "df_lhs = df_lhs[df.columns[:-1]]\n",
    "df_lhs.head()"
   ]
  },
  {
   "cell_type": "code",
   "execution_count": 19,
   "metadata": {},
   "outputs": [
    {
     "data": {
      "text/html": [
       "<div>\n",
       "<style scoped>\n",
       "    .dataframe tbody tr th:only-of-type {\n",
       "        vertical-align: middle;\n",
       "    }\n",
       "\n",
       "    .dataframe tbody tr th {\n",
       "        vertical-align: top;\n",
       "    }\n",
       "\n",
       "    .dataframe thead th {\n",
       "        text-align: right;\n",
       "    }\n",
       "</style>\n",
       "<table border=\"1\" class=\"dataframe\">\n",
       "  <thead>\n",
       "    <tr style=\"text-align: right;\">\n",
       "      <th></th>\n",
       "      <th>Line Name</th>\n",
       "      <th>ACCOAC</th>\n",
       "      <th>POX</th>\n",
       "      <th>PTAr</th>\n",
       "      <th>CS</th>\n",
       "      <th>ACACT1R</th>\n",
       "      <th>PPCK</th>\n",
       "      <th>PYK</th>\n",
       "      <th># Modifs</th>\n",
       "    </tr>\n",
       "  </thead>\n",
       "  <tbody>\n",
       "    <tr>\n",
       "      <th>0</th>\n",
       "      <td>WT</td>\n",
       "      <td>1</td>\n",
       "      <td>1</td>\n",
       "      <td>1</td>\n",
       "      <td>1</td>\n",
       "      <td>1</td>\n",
       "      <td>1</td>\n",
       "      <td>1</td>\n",
       "      <td>0.0</td>\n",
       "    </tr>\n",
       "    <tr>\n",
       "      <th>1</th>\n",
       "      <td>1</td>\n",
       "      <td>1</td>\n",
       "      <td>2</td>\n",
       "      <td>0</td>\n",
       "      <td>2</td>\n",
       "      <td>1</td>\n",
       "      <td>1</td>\n",
       "      <td>0</td>\n",
       "      <td>4.0</td>\n",
       "    </tr>\n",
       "    <tr>\n",
       "      <th>2</th>\n",
       "      <td>2</td>\n",
       "      <td>0</td>\n",
       "      <td>2</td>\n",
       "      <td>0</td>\n",
       "      <td>2</td>\n",
       "      <td>2</td>\n",
       "      <td>1</td>\n",
       "      <td>0</td>\n",
       "      <td>6.0</td>\n",
       "    </tr>\n",
       "    <tr>\n",
       "      <th>3</th>\n",
       "      <td>3</td>\n",
       "      <td>1</td>\n",
       "      <td>0</td>\n",
       "      <td>1</td>\n",
       "      <td>0</td>\n",
       "      <td>0</td>\n",
       "      <td>1</td>\n",
       "      <td>2</td>\n",
       "      <td>4.0</td>\n",
       "    </tr>\n",
       "    <tr>\n",
       "      <th>4</th>\n",
       "      <td>4</td>\n",
       "      <td>2</td>\n",
       "      <td>1</td>\n",
       "      <td>0</td>\n",
       "      <td>1</td>\n",
       "      <td>1</td>\n",
       "      <td>0</td>\n",
       "      <td>1</td>\n",
       "      <td>3.0</td>\n",
       "    </tr>\n",
       "  </tbody>\n",
       "</table>\n",
       "</div>"
      ],
      "text/plain": [
       "  Line Name ACCOAC POX PTAr CS ACACT1R PPCK PYK  # Modifs\n",
       "0        WT      1   1    1  1       1    1   1       0.0\n",
       "1         1      1   2    0  2       1    1   0       4.0\n",
       "2         2      0   2    0  2       2    1   0       6.0\n",
       "3         3      1   0    1  0       0    1   2       4.0\n",
       "4         4      2   1    0  1       1    0   1       3.0"
      ]
     },
     "execution_count": 19,
     "metadata": {},
     "output_type": "execute_result"
    }
   ],
   "source": [
    "latin_hc = lhs(n_genes, samples=n_instances-1, criterion='maximin')\n",
    "latin_hc = np.floor(3 * latin_hc)\n",
    "\n",
    "for i in range(1,n_instances):\n",
    "    designs = list(latin_hc[(i-1)])\n",
    "    df_lhs.loc[i] = [str(i)] + designs \n",
    "\n",
    "df_lhs['# Modifs'] = num_of_modifications(df_lhs)\n",
    "\n",
    "df_lhs.head()"
   ]
  },
  {
   "cell_type": "code",
   "execution_count": 20,
   "metadata": {},
   "outputs": [
    {
     "data": {
      "text/plain": [
       "Line Name                                              Summary\n",
       "ACCOAC           [31.25, 35.41666666666667, 33.33333333333333]\n",
       "POX              [31.25, 35.41666666666667, 33.33333333333333]\n",
       "PTAr         [33.33333333333333, 33.33333333333333, 33.3333...\n",
       "CS           [33.33333333333333, 33.33333333333333, 33.3333...\n",
       "ACACT1R          [31.25, 35.41666666666667, 33.33333333333333]\n",
       "PPCK         [33.33333333333333, 33.33333333333333, 33.3333...\n",
       "PYK              [33.33333333333333, 35.41666666666667, 31.25]\n",
       "# Modifs                                                4.4898\n",
       "Name: 48, dtype: object"
      ]
     },
     "execution_count": 20,
     "metadata": {},
     "output_type": "execute_result"
    }
   ],
   "source": [
    "df_lhs.loc[n_instances] = ['Summary'] + [[list(df_lhs[gene]).count(int(i))/n_instances*100 \n",
    "                                            for i in range(n_modifications)]  for gene in genes] + [np.mean(df_lhs['# Modifs'])]\n",
    "df_lhs.iloc[-1]"
   ]
  },
  {
   "cell_type": "code",
   "execution_count": 21,
   "metadata": {},
   "outputs": [
    {
     "data": {
      "image/png": "[encoded data removed]",
      "text/plain": [
       "<matplotlib.figure.Figure at 0x1187402b0>"
      ]
     },
     "metadata": {},
     "output_type": "display_data"
    }
   ],
   "source": [
    "plot_distribution(df_lhs)"
   ]
  },
  {
   "cell_type": "markdown",
   "metadata": {},
   "source": [
    "Save training set:"
   ]
  },
  {
   "cell_type": "code",
   "execution_count": 22,
   "metadata": {},
   "outputs": [],
   "source": [
    "df.loc[0:n_instances].to_csv(f'./data/training_data_{n_genes}genes_lhs.csv', \n",
    "                             columns = ['Line Name'] + genes, \n",
    "                             header = True, index = False)"
   ]
  },
  {
   "cell_type": "code",
   "execution_count": null,
   "metadata": {},
   "outputs": [],
   "source": []
  }
 ],
 "metadata": {
  "kernelspec": {
   "display_name": "Python 3",
   "language": "python",
   "name": "python3"
  },
  "language_info": {
   "codemirror_mode": {
    "name": "ipython",
    "version": 3
   },
   "file_extension": ".py",
   "mimetype": "text/x-python",
   "name": "python",
   "nbconvert_exporter": "python",
   "pygments_lexer": "ipython3",
   "version": "3.6.5"
  }
 },
 "nbformat": 4,
 "nbformat_minor": 2
}
